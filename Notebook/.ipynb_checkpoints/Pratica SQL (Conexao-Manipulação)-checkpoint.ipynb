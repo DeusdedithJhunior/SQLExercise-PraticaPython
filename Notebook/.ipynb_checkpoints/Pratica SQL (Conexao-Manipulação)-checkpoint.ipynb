{
 "cells": [
  {
   "cell_type": "code",
   "execution_count": 1,
   "id": "b9542faa-b022-409b-ad56-73e9724ac1e5",
   "metadata": {},
   "outputs": [
    {
     "data": {
      "text/html": [
       "        <script type=\"text/javascript\">\n",
       "        window.PlotlyConfig = {MathJaxConfig: 'local'};\n",
       "        if (window.MathJax) {MathJax.Hub.Config({SVG: {font: \"STIX-Web\"}});}\n",
       "        if (typeof require !== 'undefined') {\n",
       "        require.undef(\"plotly\");\n",
       "        requirejs.config({\n",
       "            paths: {\n",
       "                'plotly': ['https://cdn.plot.ly/plotly-2.2.0.min']\n",
       "            }\n",
       "        });\n",
       "        require(['plotly'], function(Plotly) {\n",
       "            window._Plotly = Plotly;\n",
       "        });\n",
       "        }\n",
       "        </script>\n",
       "        "
      ]
     },
     "metadata": {},
     "output_type": "display_data"
    }
   ],
   "source": [
    "import pyodbc\n",
    "import pandas as pd\n",
    "import numpy as np\n",
    "import plotly.graph_objs as go\n",
    "\n",
    "import matplotlib.pyplot as plt\n",
    "%matplotlib inline\n",
    "\n",
    "import chart_studio.plotly as py\n",
    "\n",
    "from plotly.offline import init_notebook_mode,iplot\n",
    "init_notebook_mode(connected=True)\n",
    "\n",
    "import seaborn as sns\n",
    "sns.set_style('whitegrid')\n",
    "\n",
    "import warnings\n",
    "warnings.filterwarnings(\"ignore\")\n"
   ]
  },
  {
   "cell_type": "code",
   "execution_count": 2,
   "id": "e84b30ee-421a-4417-876e-a19718cf363c",
   "metadata": {},
   "outputs": [],
   "source": [
    "# Criando a conexao\n",
    "dbConexao = (\"Driver={SQL Server};\"\n",
    "             \"Server=LAPTOP-9ESLAMPG;\"\n",
    "             \"Database=AdventureWorksDW2019;\"\n",
    ")"
   ]
  },
  {
   "cell_type": "code",
   "execution_count": 3,
   "id": "5a5761ad-e144-432f-919f-5ecd7647dc8c",
   "metadata": {},
   "outputs": [
    {
     "name": "stdout",
     "output_type": "stream",
     "text": [
      "Conexao Feita\n"
     ]
    }
   ],
   "source": [
    "# Efetuando a conexão\n",
    "conexao = pyodbc.connect(dbConexao)\n",
    "print('Conexao Feita')"
   ]
  },
  {
   "cell_type": "code",
   "execution_count": 4,
   "id": "c836e975-dae0-4930-9254-a6a66b481cd2",
   "metadata": {},
   "outputs": [],
   "source": [
    "# Pegando os dados e salvando em uma variável\n",
    "dfVendas = pd.read_sql_query('SELECT * FROM vwVendasProdutoCategoria', conexao)"
   ]
  },
  {
   "cell_type": "markdown",
   "id": "138b851c-e374-4ad6-bb12-18e9dcfc49cd",
   "metadata": {},
   "source": [
    "## COMENTÁRIOS:\n",
    "\n",
    "### COMO A QUERY DIGITADA DENTRO DO BANCO DE DADOS É MUITO GRANDE, CRIEI UMA VIEW\n",
    "\n",
    "### O COMANDO SQL USADO NA VIEW FOI:\n",
    "\n",
    "    SELECT \n",
    "        D.CalendarYear                                            AS \"ANO\",\n",
    "        P.EnglishProductName                                      AS \"PRODUTO\",\n",
    "        C.EnglishProductCategoryName                              AS \"CATEGORIA\",\n",
    "        T.SalesTerritoryCountry                                   AS \"PAIS\",\n",
    "        T.SalesTerritoryGroup                                     AS \"REGIAO\",\n",
    "        SUM(V.SalesAmount)                                        AS \"VENDAS\"\n",
    "    FROM FactInternetSales                                        AS V\n",
    "    LEFT JOIN dbo.DimProduct                                      AS P\n",
    "        ON V.ProductKey = P.ProductKey\n",
    "    LEFT JOIN dbo.DimProductSubcategory                           AS S\n",
    "        ON P.ProductSubcategoryKey = S.ProductSubcategoryKey\n",
    "    LEFT JOIN dbo.DimProductCategory                              AS C\n",
    "        ON S.ProductCategoryKey = C.ProductCategoryKey\n",
    "    LEFT JOIN dbo.DimSalesTerritory                               AS T\n",
    "        ON V.SalesTerritoryKey = T.SalesTerritoryKey\n",
    "    LEFT JOIN dbo.DimDate                                         AS D\n",
    "        ON V.OrderDateKey = D.DateKey\n",
    "    WHERE V.CurrencyKey = 100\n",
    "    GROUP BY D.CalendarYear,\n",
    "        P.EnglishProductName,\n",
    "        T.SalesTerritoryGroup,\n",
    "        T.SalesTerritoryCountry,\n",
    "        C.EnglishProductCategoryName\n",
    "         \n",
    " \n",
    "### O FILTRO WHERE V.CurrencyKey = 100, vai trazer somente as vendas em USD"
   ]
  },
  {
   "cell_type": "code",
   "execution_count": 5,
   "id": "104b4a10-c5d1-4134-b380-99b92093e1c8",
   "metadata": {},
   "outputs": [
    {
     "data": {
      "text/html": [
       "<div>\n",
       "<style scoped>\n",
       "    .dataframe tbody tr th:only-of-type {\n",
       "        vertical-align: middle;\n",
       "    }\n",
       "\n",
       "    .dataframe tbody tr th {\n",
       "        vertical-align: top;\n",
       "    }\n",
       "\n",
       "    .dataframe thead th {\n",
       "        text-align: right;\n",
       "    }\n",
       "</style>\n",
       "<table border=\"1\" class=\"dataframe\">\n",
       "  <thead>\n",
       "    <tr style=\"text-align: right;\">\n",
       "      <th></th>\n",
       "      <th>ANO</th>\n",
       "      <th>PRODUTO</th>\n",
       "      <th>CATEGORIA</th>\n",
       "      <th>PAIS</th>\n",
       "      <th>REGIAO</th>\n",
       "      <th>VENDAS</th>\n",
       "    </tr>\n",
       "  </thead>\n",
       "  <tbody>\n",
       "    <tr>\n",
       "      <th>0</th>\n",
       "      <td>2014</td>\n",
       "      <td>ML Road Tire</td>\n",
       "      <td>Accessories</td>\n",
       "      <td>United States</td>\n",
       "      <td>North America</td>\n",
       "      <td>249.90</td>\n",
       "    </tr>\n",
       "    <tr>\n",
       "      <th>1</th>\n",
       "      <td>2013</td>\n",
       "      <td>Bike Wash - Dissolver</td>\n",
       "      <td>Accessories</td>\n",
       "      <td>United States</td>\n",
       "      <td>North America</td>\n",
       "      <td>2647.35</td>\n",
       "    </tr>\n",
       "    <tr>\n",
       "      <th>2</th>\n",
       "      <td>2013</td>\n",
       "      <td>Touring-2000 Blue, 50</td>\n",
       "      <td>Bikes</td>\n",
       "      <td>France</td>\n",
       "      <td>Europe</td>\n",
       "      <td>9718.80</td>\n",
       "    </tr>\n",
       "    <tr>\n",
       "      <th>3</th>\n",
       "      <td>2013</td>\n",
       "      <td>Touring-2000 Blue, 46</td>\n",
       "      <td>Bikes</td>\n",
       "      <td>Germany</td>\n",
       "      <td>Europe</td>\n",
       "      <td>12148.50</td>\n",
       "    </tr>\n",
       "    <tr>\n",
       "      <th>4</th>\n",
       "      <td>2014</td>\n",
       "      <td>Half-Finger Gloves, M</td>\n",
       "      <td>Clothing</td>\n",
       "      <td>France</td>\n",
       "      <td>Europe</td>\n",
       "      <td>48.98</td>\n",
       "    </tr>\n",
       "  </tbody>\n",
       "</table>\n",
       "</div>"
      ],
      "text/plain": [
       "    ANO                PRODUTO    CATEGORIA           PAIS         REGIAO  \\\n",
       "0  2014           ML Road Tire  Accessories  United States  North America   \n",
       "1  2013  Bike Wash - Dissolver  Accessories  United States  North America   \n",
       "2  2013  Touring-2000 Blue, 50        Bikes         France         Europe   \n",
       "3  2013  Touring-2000 Blue, 46        Bikes        Germany         Europe   \n",
       "4  2014  Half-Finger Gloves, M     Clothing         France         Europe   \n",
       "\n",
       "     VENDAS  \n",
       "0    249.90  \n",
       "1   2647.35  \n",
       "2   9718.80  \n",
       "3  12148.50  \n",
       "4     48.98  "
      ]
     },
     "execution_count": 5,
     "metadata": {},
     "output_type": "execute_result"
    }
   ],
   "source": [
    "# Verificando os dados\n",
    "dfVendas.head()"
   ]
  },
  {
   "cell_type": "code",
   "execution_count": 6,
   "id": "37e5b398-5ac8-4166-a9fa-0d31d710c77e",
   "metadata": {},
   "outputs": [
    {
     "name": "stdout",
     "output_type": "stream",
     "text": [
      "(824, 6)\n",
      "<class 'pandas.core.frame.DataFrame'>\n",
      "RangeIndex: 824 entries, 0 to 823\n",
      "Data columns (total 6 columns):\n",
      " #   Column     Non-Null Count  Dtype  \n",
      "---  ------     --------------  -----  \n",
      " 0   ANO        824 non-null    int64  \n",
      " 1   PRODUTO    824 non-null    object \n",
      " 2   CATEGORIA  824 non-null    object \n",
      " 3   PAIS       824 non-null    object \n",
      " 4   REGIAO     824 non-null    object \n",
      " 5   VENDAS     824 non-null    float64\n",
      "dtypes: float64(1), int64(1), object(4)\n",
      "memory usage: 38.8+ KB\n",
      "None\n"
     ]
    }
   ],
   "source": [
    "print(dfVendas.shape)\n",
    "\n",
    "print(dfVendas.info())"
   ]
  },
  {
   "cell_type": "markdown",
   "id": "a37b4197-b920-4065-a746-220b2a079899",
   "metadata": {},
   "source": [
    "### CONHECENDO OS NOSSOS DADOS: \n",
    "\n",
    "### O nosso dataset possui um total de 6 colunas:\n",
    "\n",
    "1. ANO -> int64, periodo do qual a venda foi realizada;\n",
    "1. PRODUTO -> object, nome do produto vendido;\n",
    "1. CATEGORIA -> object, categoria da qual o produto faz parte;\n",
    "1. PAIS -> object, pais onde a venda foi efetivada\n",
    "1. REGIAO -> object, regiao do pais, onde a venda foi efetivada;\n",
    "1. VENDAS -> float64, vendas realizadas"
   ]
  },
  {
   "cell_type": "code",
   "execution_count": 7,
   "id": "59e681dc-e9a3-403c-bac6-6a9aa9495ff9",
   "metadata": {},
   "outputs": [
    {
     "data": {
      "text/plain": [
       "ANO          0\n",
       "PRODUTO      0\n",
       "CATEGORIA    0\n",
       "PAIS         0\n",
       "REGIAO       0\n",
       "VENDAS       0\n",
       "dtype: int64"
      ]
     },
     "execution_count": 7,
     "metadata": {},
     "output_type": "execute_result"
    }
   ],
   "source": [
    "# Analisando o dataset\n",
    "\n",
    "# 1.Verificando se o dataset tem valores vazios\n",
    "dfVendas.isnull().sum()"
   ]
  },
  {
   "cell_type": "code",
   "execution_count": 8,
   "id": "7dd333fe-54b2-47f6-9a9e-ef78fceb59ed",
   "metadata": {},
   "outputs": [
    {
     "data": {
      "text/plain": [
       "count       824.000000\n",
       "mean      17831.875387\n",
       "std       49794.386422\n",
       "min           2.290000\n",
       "25%         126.715000\n",
       "50%        2051.032300\n",
       "75%       11945.325000\n",
       "max      475909.910000\n",
       "Name: VENDAS, dtype: float64"
      ]
     },
     "execution_count": 8,
     "metadata": {},
     "output_type": "execute_result"
    }
   ],
   "source": [
    "# Verificando algumas métricas\n",
    "dfVendas['VENDAS'].describe()"
   ]
  },
  {
   "cell_type": "code",
   "execution_count": 9,
   "id": "325eb097-3f14-4d90-a45f-f54e540b3776",
   "metadata": {},
   "outputs": [
    {
     "data": {
      "text/plain": [
       "0       8.9900\n",
       "1    1398.1964\n",
       "Name: VENDAS, dtype: float64"
      ]
     },
     "execution_count": 9,
     "metadata": {},
     "output_type": "execute_result"
    }
   ],
   "source": [
    "dfVendas['VENDAS'].mode()"
   ]
  },
  {
   "cell_type": "code",
   "execution_count": 10,
   "id": "8be92dd5-d04f-4dbb-b8e8-1c0dafa82ed0",
   "metadata": {},
   "outputs": [
    {
     "data": {
      "text/plain": [
       "2479480919.1535454"
      ]
     },
     "execution_count": 10,
     "metadata": {},
     "output_type": "execute_result"
    }
   ],
   "source": [
    "dfVendas['VENDAS'].var()"
   ]
  },
  {
   "cell_type": "markdown",
   "id": "b14d86da-5205-4c4e-bdf0-2c23788f91b9",
   "metadata": {},
   "source": [
    "### COMENTÁRIOS SOBRE AS MÉTRICAS:\n",
    "\n",
    "1. **DESVIO PADRÃO:** Esse valor em nosso dataset é extramente grande, mostra que temos dados muitos distantes da media;\n",
    "1. **VARIANCIA:** Esse valor é extramente grande se comparado a média dos dados, podemos concluir que os dados estão muitos distantes entre si..\n",
    "1. **MODA VS. MEDIANA:** Aqui temos a mediana dos dados (50%) maior que a moda;\n",
    "1. **MEDIANA VS. MÉDIA:** Aqui temos uma mediana menor que a média\n",
    "    *Conlusão:* Os nossos dados são do tipo de uma distribuição assimétrica à direita, ou de assimetria positiva -> Moda < Mediana < Média"
   ]
  },
  {
   "cell_type": "code",
   "execution_count": 11,
   "id": "159a048b-3a9b-4b6c-8005-75437e9bf2a0",
   "metadata": {},
   "outputs": [
    {
     "data": {
      "text/plain": [
       "Text(0.5, 0.98, 'DISTRIBUIÇÃO DE VENDAS')"
      ]
     },
     "execution_count": 11,
     "metadata": {},
     "output_type": "execute_result"
    },
    {
     "data": {
      "image/png": "[encoded data removed]",
      "text/plain": [
       "<Figure size 360x360 with 1 Axes>"
      ]
     },
     "metadata": {},
     "output_type": "display_data"
    }
   ],
   "source": [
    "# Verificando em gráfico a conclusão do COMENTÁRIO 4\n",
    "\n",
    "graf = sns.displot(data=dfVendas, x=dfVendas['VENDAS'], kde=True)\n",
    "graf.fig.suptitle(\"DISTRIBUIÇÃO DE VENDAS\")"
   ]
  },
  {
   "cell_type": "markdown",
   "id": "9b8123ef-c734-442e-90db-b9fd26722dcd",
   "metadata": {},
   "source": [
    "### COMENTÁRIOS SOBRE O GRAFICO 1 (DISTRIBUIÇÃO DE VENDAS):\n",
    "\n",
    "5. **CONFIRMAÇÃO DO TIPO DA DISTRIBUIÇÃO:** No comentário 4 (Mediana vs Média), já sabiamos que o nosso gráfico teria o formato de \"Elevação\" a direita do gráfico\n",
    "6. **DESCREPANCIA DE DADOS:** Temos valore descrepantes em nossos dados, esse tipo de comportamento já era esperando devido ao valor do desvio padrão"
   ]
  },
  {
   "cell_type": "code",
   "execution_count": 12,
   "id": "dabfee38-53ae-4285-b64b-d4d71051580a",
   "metadata": {},
   "outputs": [
    {
     "data": {
      "image/png": "[encoded data removed]",
      "text/plain": [
       "<Figure size 432x288 with 1 Axes>"
      ]
     },
     "metadata": {},
     "output_type": "display_data"
    }
   ],
   "source": [
    "# Visualizando os dados em um Boxplot, pois acho mais fácil (nesse exercício) visualmente identificar os outliers\n",
    "\n",
    "boxplot = sns.boxplot(x = dfVendas['VENDAS'], data=dfVendas)\n",
    "\n",
    "plt.title(\"VENDAS\")\n",
    "plt.show()"
   ]
  },
  {
   "cell_type": "code",
   "execution_count": 13,
   "id": "5297d3dd-864f-49a4-bde7-2bd4726d5b99",
   "metadata": {},
   "outputs": [
    {
     "data": {
      "text/html": [
       "<div>\n",
       "<style scoped>\n",
       "    .dataframe tbody tr th:only-of-type {\n",
       "        vertical-align: middle;\n",
       "    }\n",
       "\n",
       "    .dataframe tbody tr th {\n",
       "        vertical-align: top;\n",
       "    }\n",
       "\n",
       "    .dataframe thead th {\n",
       "        text-align: right;\n",
       "    }\n",
       "</style>\n",
       "<table border=\"1\" class=\"dataframe\">\n",
       "  <thead>\n",
       "    <tr style=\"text-align: right;\">\n",
       "      <th></th>\n",
       "      <th>CATEGORIA</th>\n",
       "      <th>VENDAS</th>\n",
       "    </tr>\n",
       "  </thead>\n",
       "  <tbody>\n",
       "    <tr>\n",
       "      <th>0</th>\n",
       "      <td>Accessories</td>\n",
       "      <td>1491.624586</td>\n",
       "    </tr>\n",
       "    <tr>\n",
       "      <th>1</th>\n",
       "      <td>Bikes</td>\n",
       "      <td>37315.855340</td>\n",
       "    </tr>\n",
       "    <tr>\n",
       "      <th>2</th>\n",
       "      <td>Clothing</td>\n",
       "      <td>1062.777000</td>\n",
       "    </tr>\n",
       "  </tbody>\n",
       "</table>\n",
       "</div>"
      ],
      "text/plain": [
       "     CATEGORIA        VENDAS\n",
       "0  Accessories   1491.624586\n",
       "1        Bikes  37315.855340\n",
       "2     Clothing   1062.777000"
      ]
     },
     "execution_count": 13,
     "metadata": {},
     "output_type": "execute_result"
    }
   ],
   "source": [
    "# verificando as categorias de vendas\n",
    "\n",
    "dfVendas_Categoria = dfVendas.groupby('CATEGORIA', as_index=False)['VENDAS'].mean()\n",
    "\n",
    "dfVendas_Categoria"
   ]
  },
  {
   "cell_type": "markdown",
   "id": "d4a5a60d-7275-4a98-b626-b9184ecf044f",
   "metadata": {},
   "source": [
    "### TRATAMENTO DOS OUTLIERS:\n",
    "\n",
    "7. Como em nosso dataset temos categorias de produtos, iremos tratar os outliers separadamente de cada categoria;\n",
    "8. Farei um filtro para pegar as 100 maiores vendas de cada categoria;\n",
    "9. Irei criar uma função para remover os outliers dessas 100 maiores vendas de cada categoria;\n",
    "\n",
    "### COMENTÁRIOS:\n",
    "\n",
    "10. Irei escolher as 100 maiores vendas de cada categoria, pois analisando as métricas, vermos que 75% dos dados possuem \"vendas grandes\" e se efetuarmos a exclusão desses dados, perderemos informações importantes;\n",
    "11. O filtro será feito separadamente por categoria, pois se fizermos o filtro sem separar as categorias, possivelmente iremos pegar as vendas somente de uma categoria ou até mesmo somente de duas"
   ]
  },
  {
   "cell_type": "code",
   "execution_count": 14,
   "id": "3d113c0e-fa9b-4a75-8b9f-3f28dcb79c0e",
   "metadata": {},
   "outputs": [],
   "source": [
    "# Separando as categorias\n",
    "\n",
    "mask_Accessories = dfVendas['CATEGORIA'] == 'Accessories'\n",
    "mark_Bikes = dfVendas['CATEGORIA'] == 'Bikes'\n",
    "mark_Clothing = dfVendas['CATEGORIA'] == 'Clothing'\n",
    "\n",
    "dfVendas_Accessories = dfVendas[mask_Accessories]\n",
    "dfVendas_Clothing = dfVendas[mark_Bikes]\n",
    "dfVendas_Bikes = dfVendas[mark_Clothing]"
   ]
  },
  {
   "cell_type": "code",
   "execution_count": 15,
   "id": "2c467101-a024-4399-979a-4d3cd930a7c1",
   "metadata": {},
   "outputs": [],
   "source": [
    "# Pegando as 100 maiores vendas de cada categoria\n",
    "\n",
    "dfVendas_top100_Accessories = dfVendas_Accessories.nlargest(100, 'VENDAS')\n",
    "dfVendas_top100_Bikes = dfVendas_Clothing.nlargest(100, 'VENDAS')\n",
    "dfVendas_top100_Clothing = dfVendas_Bikes.nlargest(100, 'VENDAS')"
   ]
  },
  {
   "cell_type": "code",
   "execution_count": 16,
   "id": "35ebb6f6-6097-430b-852b-938d68e48c5f",
   "metadata": {},
   "outputs": [
    {
     "data": {
      "image/png": "[encoded data removed]",
      "text/plain": [
       "<Figure size 432x288 with 1 Axes>"
      ]
     },
     "metadata": {},
     "output_type": "display_data"
    }
   ],
   "source": [
    "boxplot = sns.boxplot(x=dfVendas_top100_Accessories['VENDAS'], data=dfVendas_top100_Accessories)\n",
    "\n",
    "plt.title(\"TOP 100 VENDAS ACCESSORIES\")\n",
    "plt.show()"
   ]
  },
  {
   "cell_type": "code",
   "execution_count": 17,
   "id": "bd13582f-9d99-4d28-9817-6570cdded247",
   "metadata": {},
   "outputs": [
    {
     "data": {
      "image/png": "[encoded data removed]",
      "text/plain": [
       "<Figure size 432x288 with 1 Axes>"
      ]
     },
     "metadata": {},
     "output_type": "display_data"
    }
   ],
   "source": [
    "boxplot = sns.boxplot(x=dfVendas_top100_Bikes['VENDAS'], data=dfVendas_top100_Accessories)\n",
    "\n",
    "plt.title(\"TOP 100 VENDAS BIKES\")\n",
    "plt.show()"
   ]
  },
  {
   "cell_type": "code",
   "execution_count": 18,
   "id": "00d3ee50-374a-4596-a496-fe4a0ab07e4c",
   "metadata": {},
   "outputs": [
    {
     "data": {
      "image/png": "[encoded data removed]",
      "text/plain": [
       "<Figure size 432x288 with 1 Axes>"
      ]
     },
     "metadata": {},
     "output_type": "display_data"
    }
   ],
   "source": [
    "boxplot = sns.boxplot(x=dfVendas_top100_Clothing['VENDAS'], data=dfVendas_top100_Accessories)\n",
    "\n",
    "plt.title(\"TOP 100 VENDAS CLOTHING\")\n",
    "plt.show()"
   ]
  },
  {
   "cell_type": "markdown",
   "id": "ceebf5e9-6cda-427b-b376-9b744e5aa815",
   "metadata": {},
   "source": [
    "### VERIFCANDO OS 3 GRÁFICOS, CONCLUÍMOS:\n",
    "\n",
    "1. **GRÁFICO TOP 100 VENDAS ACCESSORIES** -> Pode-se ver claramente que os valores acima de 10.000 estão agindo como os outliers;\n",
    "1. **GRÁFICO TOP 100 VENDAS BIKES** -> Pode-se ver claramente que os valores acima de 300.000 estão agindo como os outliers;\n",
    "1. **GRAFICO TOP 100 VENDAS CLOTHING** -> Pode-se ver claramente que os valores acima de 6.000 estão agindo como os outliers;\n",
    "\n",
    "Nesse caso, irei contar 'quantos outliers' existem dentro de cada categoria levando em consideração o terceiro quartil"
   ]
  },
  {
   "cell_type": "code",
   "execution_count": 19,
   "id": "6d3040be-edad-434b-989a-9ba697887cbe",
   "metadata": {},
   "outputs": [
    {
     "name": "stdout",
     "output_type": "stream",
     "text": [
      "553.125\n",
      "3685.6675\n"
     ]
    }
   ],
   "source": [
    "# Pegandos os quartis da categoria Accessories\n",
    "q3, q1 = np.percentile(dfVendas_top100_Accessories['VENDAS'], (75,25))\n",
    "\n",
    "print(q1)\n",
    "print(q3)"
   ]
  },
  {
   "cell_type": "code",
   "execution_count": 20,
   "id": "c6ce79e0-8156-4c24-a85c-adc261ad3f31",
   "metadata": {},
   "outputs": [
    {
     "data": {
      "text/plain": [
       "25"
      ]
     },
     "execution_count": 20,
     "metadata": {},
     "output_type": "execute_result"
    }
   ],
   "source": [
    "# Contando \"quantos dados\" estão acima do 3º quartil da categoria Accessories\n",
    "dfContador_Accessories = dfVendas_top100_Accessories['VENDAS'] > 3685.6675\n",
    "\n",
    "dfVendas_OutliersAccessories = dfVendas_top100_Accessories[dfContador_Accessories]\n",
    "\n",
    "dfVendas_OutliersAccessories['VENDAS'].count()"
   ]
  },
  {
   "cell_type": "code",
   "execution_count": 21,
   "id": "020aeaa2-ccdb-45a5-942d-fde9e79bc54e",
   "metadata": {},
   "outputs": [
    {
     "name": "stdout",
     "output_type": "stream",
     "text": [
      "47573.515\n",
      "113751.215\n"
     ]
    }
   ],
   "source": [
    "# Pegandos os quartis da categoria Bikes\n",
    "q3, q1 = np.percentile(dfVendas_top100_Bikes['VENDAS'], (75,25))\n",
    "\n",
    "print(q1)\n",
    "print(q3)"
   ]
  },
  {
   "cell_type": "code",
   "execution_count": 22,
   "id": "f89460c6-5029-4eb9-8fbd-55663ce3cb27",
   "metadata": {},
   "outputs": [
    {
     "data": {
      "text/plain": [
       "25"
      ]
     },
     "execution_count": 22,
     "metadata": {},
     "output_type": "execute_result"
    }
   ],
   "source": [
    "# Contando \"quantos dados\" estão acima do 3º quartil da categoria Bikes\n",
    "dfContador_Bikes = dfVendas_top100_Bikes['VENDAS'] > 113751.215\n",
    "\n",
    "dfVendas_OutliersBikes = dfVendas_top100_Bikes[dfContador_Bikes]\n",
    "\n",
    "dfVendas_OutliersBikes['VENDAS'].count()"
   ]
  },
  {
   "cell_type": "code",
   "execution_count": 23,
   "id": "88c30eb2-7595-4b68-b2e2-3b694f221fcb",
   "metadata": {},
   "outputs": [
    {
     "name": "stdout",
     "output_type": "stream",
     "text": [
      "215.96\n",
      "2000.8925\n"
     ]
    }
   ],
   "source": [
    "# Pegandos os quartis da categoria Clothing\n",
    "q3, q1 = np.percentile(dfVendas_top100_Clothing['VENDAS'], (75,25))\n",
    "\n",
    "print(q1)\n",
    "print(q3)"
   ]
  },
  {
   "cell_type": "code",
   "execution_count": 24,
   "id": "ba2cd709-7ec4-43fc-b4b1-60efd7918556",
   "metadata": {},
   "outputs": [
    {
     "data": {
      "text/plain": [
       "25"
      ]
     },
     "execution_count": 24,
     "metadata": {},
     "output_type": "execute_result"
    }
   ],
   "source": [
    "# Contando \"quantos dados\" estão acima do 3º quartil da categoria Clothing\n",
    "dfContador_Clothing = dfVendas_top100_Clothing['VENDAS'] > 2000.8925\n",
    "\n",
    "dfVendas_OutliersClothing = dfVendas_top100_Clothing[dfContador_Clothing]\n",
    "\n",
    "dfVendas_OutliersClothing['VENDAS'].count()"
   ]
  },
  {
   "cell_type": "markdown",
   "id": "9175c7a2-017e-48f0-8258-c0a727917cbf",
   "metadata": {},
   "source": [
    "### Analisando os contadores de outliers vemos que essa quantidade de dados é pequena se comparada a quantidade total de cada categoria, então irei apagar esses outliers"
   ]
  },
  {
   "cell_type": "code",
   "execution_count": 25,
   "id": "ca520bc5-4340-4eb5-9a0d-e49ed9218284",
   "metadata": {},
   "outputs": [],
   "source": [
    "# pegando os indices dos outliers de cada categoria\n",
    "\n",
    "indice_Accessories = dfVendas_top100_Accessories[dfVendas_top100_Accessories.VENDAS > 3685.6675].index\n",
    "\n",
    "indice_Bikes = dfVendas_top100_Bikes[dfVendas_top100_Bikes.VENDAS > 113751.215].index\n",
    "\n",
    "indice_Clothing = dfVendas_top100_Clothing[dfVendas_top100_Clothing.VENDAS > 2000.8925].index"
   ]
  },
  {
   "cell_type": "code",
   "execution_count": 26,
   "id": "8b2b0273-0b7d-4a8c-a9a1-fa992c992195",
   "metadata": {},
   "outputs": [],
   "source": [
    "# apagando os outliers\n",
    "\n",
    "dfVendas_CleanAccessories = dfVendas_top100_Accessories.drop(indice_Accessories, inplace = False)\n",
    "dfVendas_CleanBikes = dfVendas_top100_Bikes.drop(indice_Bikes, inplace = False)\n",
    "dfVendas_CleanClothing  = dfVendas_top100_Clothing.drop(indice_Clothing, inplace = False)"
   ]
  },
  {
   "cell_type": "code",
   "execution_count": 27,
   "id": "6d6f7a7d-4943-42e3-b3c2-31597bfd9848",
   "metadata": {},
   "outputs": [
    {
     "data": {
      "image/png": "[encoded data removed]",
      "text/plain": [
       "<Figure size 432x288 with 1 Axes>"
      ]
     },
     "metadata": {},
     "output_type": "display_data"
    }
   ],
   "source": [
    "boxplot = sns.boxplot(x=dfVendas_CleanAccessories['VENDAS'], data=dfVendas_CleanAccessories)\n",
    "\n",
    "plt.title(\"TOP 100 VENDAS ACCESSORIES (SEM OUTLIERS)\")\n",
    "plt.show()"
   ]
  },
  {
   "cell_type": "code",
   "execution_count": 28,
   "id": "2c36451d-2127-45b3-8577-4a799441bbe6",
   "metadata": {},
   "outputs": [
    {
     "data": {
      "image/png": "[encoded data removed]",
      "text/plain": [
       "<Figure size 432x288 with 1 Axes>"
      ]
     },
     "metadata": {},
     "output_type": "display_data"
    }
   ],
   "source": [
    "boxplot = sns.boxplot(x=dfVendas_CleanBikes['VENDAS'], data=dfVendas_CleanBikes)\n",
    "\n",
    "plt.title(\"TOP 100 VENDAS BIKES (SEM OUTLIERS)\")\n",
    "plt.show()"
   ]
  },
  {
   "cell_type": "code",
   "execution_count": 29,
   "id": "0d3a083b-28f8-437e-bdff-4d898ba4b934",
   "metadata": {},
   "outputs": [
    {
     "data": {
      "image/png": "[encoded data removed]",
      "text/plain": [
       "<Figure size 432x288 with 1 Axes>"
      ]
     },
     "metadata": {},
     "output_type": "display_data"
    }
   ],
   "source": [
    "boxplot = sns.boxplot(x=dfVendas_CleanClothing['VENDAS'], data=dfVendas_CleanClothing)\n",
    "\n",
    "plt.title(\"TOP 100 VENDAS CLOTHING (SEM OUTLIERS)\")\n",
    "plt.show()"
   ]
  },
  {
   "cell_type": "code",
   "execution_count": 30,
   "id": "12c1d543-0056-4987-83e5-6b70c6f017cc",
   "metadata": {},
   "outputs": [
    {
     "data": {
      "text/html": [
       "<div>\n",
       "<style scoped>\n",
       "    .dataframe tbody tr th:only-of-type {\n",
       "        vertical-align: middle;\n",
       "    }\n",
       "\n",
       "    .dataframe tbody tr th {\n",
       "        vertical-align: top;\n",
       "    }\n",
       "\n",
       "    .dataframe thead th {\n",
       "        text-align: right;\n",
       "    }\n",
       "</style>\n",
       "<table border=\"1\" class=\"dataframe\">\n",
       "  <thead>\n",
       "    <tr style=\"text-align: right;\">\n",
       "      <th></th>\n",
       "      <th>ANO</th>\n",
       "      <th>PRODUTO</th>\n",
       "      <th>CATEGORIA</th>\n",
       "      <th>PAIS</th>\n",
       "      <th>REGIAO</th>\n",
       "      <th>VENDAS</th>\n",
       "    </tr>\n",
       "  </thead>\n",
       "  <tbody>\n",
       "    <tr>\n",
       "      <th>262</th>\n",
       "      <td>2013</td>\n",
       "      <td>Fender Set - Mountain</td>\n",
       "      <td>Accessories</td>\n",
       "      <td>Germany</td>\n",
       "      <td>Europe</td>\n",
       "      <td>3406.90</td>\n",
       "    </tr>\n",
       "    <tr>\n",
       "      <th>200</th>\n",
       "      <td>2013</td>\n",
       "      <td>Touring Tire</td>\n",
       "      <td>Accessories</td>\n",
       "      <td>Germany</td>\n",
       "      <td>Europe</td>\n",
       "      <td>3304.86</td>\n",
       "    </tr>\n",
       "    <tr>\n",
       "      <th>624</th>\n",
       "      <td>2013</td>\n",
       "      <td>All-Purpose Bike Stand</td>\n",
       "      <td>Accessories</td>\n",
       "      <td>Germany</td>\n",
       "      <td>Europe</td>\n",
       "      <td>3180.00</td>\n",
       "    </tr>\n",
       "    <tr>\n",
       "      <th>242</th>\n",
       "      <td>2013</td>\n",
       "      <td>LL Road Tire</td>\n",
       "      <td>Accessories</td>\n",
       "      <td>Germany</td>\n",
       "      <td>Europe</td>\n",
       "      <td>3094.56</td>\n",
       "    </tr>\n",
       "    <tr>\n",
       "      <th>378</th>\n",
       "      <td>2013</td>\n",
       "      <td>Hitch Rack - 4-Bike</td>\n",
       "      <td>Accessories</td>\n",
       "      <td>France</td>\n",
       "      <td>Europe</td>\n",
       "      <td>2880.00</td>\n",
       "    </tr>\n",
       "  </tbody>\n",
       "</table>\n",
       "</div>"
      ],
      "text/plain": [
       "      ANO                 PRODUTO    CATEGORIA     PAIS  REGIAO   VENDAS\n",
       "262  2013   Fender Set - Mountain  Accessories  Germany  Europe  3406.90\n",
       "200  2013            Touring Tire  Accessories  Germany  Europe  3304.86\n",
       "624  2013  All-Purpose Bike Stand  Accessories  Germany  Europe  3180.00\n",
       "242  2013            LL Road Tire  Accessories  Germany  Europe  3094.56\n",
       "378  2013     Hitch Rack - 4-Bike  Accessories   France  Europe  2880.00"
      ]
     },
     "execution_count": 30,
     "metadata": {},
     "output_type": "execute_result"
    }
   ],
   "source": [
    "# Unindo os dados limpos em um unico data frame\n",
    "dfVendas_Clean = pd.concat([dfVendas_CleanAccessories, dfVendas_CleanBikes, dfVendas_CleanClothing],\n",
    "                                  ignore_index=False)\n",
    "\n",
    "dfVendas_Clean.head()"
   ]
  },
  {
   "cell_type": "markdown",
   "id": "1584c737-8a43-42eb-aef4-f6c854389b65",
   "metadata": {},
   "source": [
    "# CALCULANDO MÉDIAS"
   ]
  },
  {
   "cell_type": "code",
   "execution_count": 31,
   "id": "e402f9a1-6a2b-434d-b203-646d5709b1a7",
   "metadata": {},
   "outputs": [
    {
     "data": {
      "text/html": [
       "<div>\n",
       "<style scoped>\n",
       "    .dataframe tbody tr th:only-of-type {\n",
       "        vertical-align: middle;\n",
       "    }\n",
       "\n",
       "    .dataframe tbody tr th {\n",
       "        vertical-align: top;\n",
       "    }\n",
       "\n",
       "    .dataframe thead th {\n",
       "        text-align: right;\n",
       "    }\n",
       "</style>\n",
       "<table border=\"1\" class=\"dataframe\">\n",
       "  <thead>\n",
       "    <tr style=\"text-align: right;\">\n",
       "      <th></th>\n",
       "      <th>ANO</th>\n",
       "      <th>VENDAS</th>\n",
       "    </tr>\n",
       "  </thead>\n",
       "  <tbody>\n",
       "    <tr>\n",
       "      <th>0</th>\n",
       "      <td>2011</td>\n",
       "      <td>45964.921000</td>\n",
       "    </tr>\n",
       "    <tr>\n",
       "      <th>1</th>\n",
       "      <td>2012</td>\n",
       "      <td>61375.703216</td>\n",
       "    </tr>\n",
       "    <tr>\n",
       "      <th>2</th>\n",
       "      <td>2013</td>\n",
       "      <td>24546.517826</td>\n",
       "    </tr>\n",
       "    <tr>\n",
       "      <th>3</th>\n",
       "      <td>2014</td>\n",
       "      <td>411.144000</td>\n",
       "    </tr>\n",
       "  </tbody>\n",
       "</table>\n",
       "</div>"
      ],
      "text/plain": [
       "    ANO        VENDAS\n",
       "0  2011  45964.921000\n",
       "1  2012  61375.703216\n",
       "2  2013  24546.517826\n",
       "3  2014    411.144000"
      ]
     },
     "execution_count": 31,
     "metadata": {},
     "output_type": "execute_result"
    }
   ],
   "source": [
    "# 1. Qual ano possui a maior média de vendas ?\n",
    "\n",
    "dfVendas_ano = dfVendas_Clean.groupby('ANO', as_index=False)['VENDAS'].mean()\n",
    "\n",
    "dfVendas_ano\n",
    "\n",
    "# R-> 2012"
   ]
  },
  {
   "cell_type": "code",
   "execution_count": 32,
   "id": "24e066df-eb3c-44f4-b2b7-bdfaa8ee3c93",
   "metadata": {},
   "outputs": [
    {
     "data": {
      "image/png": "[encoded data removed]",
      "text/plain": [
       "<Figure size 360x360 with 1 Axes>"
      ]
     },
     "metadata": {},
     "output_type": "display_data"
    }
   ],
   "source": [
    "#MOSTRANDO A RESPOSTA DA PERGUNTA 1 EM UM GRAFICO\n",
    "\n",
    "#ax = sns.barplot(x=\"tip\", y=\"day\", data=tips)\n",
    "#ax = sns.set(xlabel='common xlabel', ylabel='common ylabel')\n",
    "\n",
    "plt.figure(figsize=(5,5))\n",
    "fig = sns.barplot(x=dfVendas_ano['ANO'], y=dfVendas_ano['VENDAS'], data=dfVendas_ano)\n",
    "plt.title('MÉDIA DE VENDAS (2011 - 2014)')\n",
    "#plt.xticks(rotation=90)\n",
    "plt.show(fig)"
   ]
  },
  {
   "cell_type": "code",
   "execution_count": 33,
   "id": "86a18290-51ec-4a2b-a94f-c731a29d2c18",
   "metadata": {},
   "outputs": [
    {
     "data": {
      "text/html": [
       "<div>\n",
       "<style scoped>\n",
       "    .dataframe tbody tr th:only-of-type {\n",
       "        vertical-align: middle;\n",
       "    }\n",
       "\n",
       "    .dataframe tbody tr th {\n",
       "        vertical-align: top;\n",
       "    }\n",
       "\n",
       "    .dataframe thead th {\n",
       "        text-align: right;\n",
       "    }\n",
       "</style>\n",
       "<table border=\"1\" class=\"dataframe\">\n",
       "  <thead>\n",
       "    <tr style=\"text-align: right;\">\n",
       "      <th></th>\n",
       "      <th>CATEGORIA</th>\n",
       "      <th>VENDAS</th>\n",
       "    </tr>\n",
       "  </thead>\n",
       "  <tbody>\n",
       "    <tr>\n",
       "      <th>0</th>\n",
       "      <td>Accessories</td>\n",
       "      <td>1314.372800</td>\n",
       "    </tr>\n",
       "    <tr>\n",
       "      <th>1</th>\n",
       "      <td>Bikes</td>\n",
       "      <td>62713.266405</td>\n",
       "    </tr>\n",
       "    <tr>\n",
       "      <th>2</th>\n",
       "      <td>Clothing</td>\n",
       "      <td>608.722667</td>\n",
       "    </tr>\n",
       "  </tbody>\n",
       "</table>\n",
       "</div>"
      ],
      "text/plain": [
       "     CATEGORIA        VENDAS\n",
       "0  Accessories   1314.372800\n",
       "1        Bikes  62713.266405\n",
       "2     Clothing    608.722667"
      ]
     },
     "execution_count": 33,
     "metadata": {},
     "output_type": "execute_result"
    }
   ],
   "source": [
    "# 2. Qual categoria possui a maior média de vendas ?\n",
    "\n",
    "dfVendas_cat = dfVendas_Clean.groupby('CATEGORIA', as_index=False)['VENDAS'].mean()\n",
    "\n",
    "dfVendas_cat\n",
    "\n",
    "# R-> Bikes"
   ]
  },
  {
   "cell_type": "code",
   "execution_count": 34,
   "id": "35153b81-6ffc-4813-a7bf-2979f2a89ef7",
   "metadata": {},
   "outputs": [
    {
     "data": {
      "image/png": "[encoded data removed]",
      "text/plain": [
       "<Figure size 360x360 with 1 Axes>"
      ]
     },
     "metadata": {},
     "output_type": "display_data"
    }
   ],
   "source": [
    "#MOSTRANDO A RESPOSTA DA PERGUNTA 2 EM UM GRAFICO\n",
    "\n",
    "#ax = sns.barplot(x=\"tip\", y=\"day\", data=tips)\n",
    "#ax = sns.set(xlabel='common xlabel', ylabel='common ylabel')\n",
    "\n",
    "plt.figure(figsize=(5,5))\n",
    "fig = sns.barplot(x=dfVendas_cat['CATEGORIA'], y=dfVendas_cat['VENDAS'], data=dfVendas_cat,\n",
    "                  order=dfVendas_cat.sort_values('VENDAS').CATEGORIA)\n",
    "\n",
    "plt.title('MÉDIA DE VENDAS (CATEGORIA)')\n",
    "#plt.xticks(rotation=90)\n",
    "plt.show(fig)"
   ]
  },
  {
   "cell_type": "code",
   "execution_count": 35,
   "id": "9884bcbe-3ae0-4f79-a6e0-730ec75e35e2",
   "metadata": {},
   "outputs": [
    {
     "data": {
      "text/html": [
       "<div>\n",
       "<style scoped>\n",
       "    .dataframe tbody tr th:only-of-type {\n",
       "        vertical-align: middle;\n",
       "    }\n",
       "\n",
       "    .dataframe tbody tr th {\n",
       "        vertical-align: top;\n",
       "    }\n",
       "\n",
       "    .dataframe thead th {\n",
       "        text-align: right;\n",
       "    }\n",
       "</style>\n",
       "<table border=\"1\" class=\"dataframe\">\n",
       "  <thead>\n",
       "    <tr style=\"text-align: right;\">\n",
       "      <th></th>\n",
       "      <th>PAIS</th>\n",
       "      <th>VENDAS</th>\n",
       "    </tr>\n",
       "  </thead>\n",
       "  <tbody>\n",
       "    <tr>\n",
       "      <th>0</th>\n",
       "      <td>Australia</td>\n",
       "      <td>331.842353</td>\n",
       "    </tr>\n",
       "    <tr>\n",
       "      <th>1</th>\n",
       "      <td>Canada</td>\n",
       "      <td>2221.326667</td>\n",
       "    </tr>\n",
       "    <tr>\n",
       "      <th>2</th>\n",
       "      <td>France</td>\n",
       "      <td>23790.203540</td>\n",
       "    </tr>\n",
       "    <tr>\n",
       "      <th>3</th>\n",
       "      <td>Germany</td>\n",
       "      <td>21415.652660</td>\n",
       "    </tr>\n",
       "    <tr>\n",
       "      <th>4</th>\n",
       "      <td>United Kingdom</td>\n",
       "      <td>181.720000</td>\n",
       "    </tr>\n",
       "    <tr>\n",
       "      <th>5</th>\n",
       "      <td>United States</td>\n",
       "      <td>32302.376828</td>\n",
       "    </tr>\n",
       "  </tbody>\n",
       "</table>\n",
       "</div>"
      ],
      "text/plain": [
       "             PAIS        VENDAS\n",
       "0       Australia    331.842353\n",
       "1          Canada   2221.326667\n",
       "2          France  23790.203540\n",
       "3         Germany  21415.652660\n",
       "4  United Kingdom    181.720000\n",
       "5   United States  32302.376828"
      ]
     },
     "execution_count": 35,
     "metadata": {},
     "output_type": "execute_result"
    }
   ],
   "source": [
    "# 3. Qual pais possui a maior média de vendas ?\n",
    "\n",
    "dfVendas_pais = dfVendas_Clean.groupby('PAIS', as_index=False)['VENDAS'].mean()\n",
    "\n",
    "dfVendas_pais\n",
    "\n",
    "# R-> United States"
   ]
  },
  {
   "cell_type": "code",
   "execution_count": 36,
   "id": "bef5450e-3fec-49d3-9e62-41d166a8f2a7",
   "metadata": {},
   "outputs": [
    {
     "data": {
      "image/png": "[encoded data removed]",
      "text/plain": [
       "<Figure size 720x360 with 1 Axes>"
      ]
     },
     "metadata": {},
     "output_type": "display_data"
    }
   ],
   "source": [
    "#MOSTRANDO A RESPOSTA DA PERGUNTA 3 EM UM GRAFICO\n",
    "\n",
    "#ax = sns.barplot(x=\"tip\", y=\"day\", data=tips)\n",
    "#ax = sns.set(xlabel='common xlabel', ylabel='common ylabel')\n",
    "\n",
    "plt.figure(figsize=(10,5))\n",
    "fig = sns.barplot(x=dfVendas_pais['PAIS'], y=dfVendas_pais['VENDAS'], data=dfVendas_pais,\n",
    "                  order=dfVendas_pais.sort_values('VENDAS').PAIS)\n",
    "\n",
    "plt.title('MÉDIA DE VENDAS (PAIS)')\n",
    "#plt.xticks(rotation=90)\n",
    "plt.show(fig)"
   ]
  },
  {
   "cell_type": "code",
   "execution_count": 37,
   "id": "45e56307-49a3-4dac-8c3c-625c85b84940",
   "metadata": {},
   "outputs": [
    {
     "data": {
      "text/html": [
       "<div>\n",
       "<style scoped>\n",
       "    .dataframe tbody tr th:only-of-type {\n",
       "        vertical-align: middle;\n",
       "    }\n",
       "\n",
       "    .dataframe tbody tr th {\n",
       "        vertical-align: top;\n",
       "    }\n",
       "\n",
       "    .dataframe thead th {\n",
       "        text-align: right;\n",
       "    }\n",
       "</style>\n",
       "<table border=\"1\" class=\"dataframe\">\n",
       "  <thead>\n",
       "    <tr style=\"text-align: right;\">\n",
       "      <th></th>\n",
       "      <th>PRODUTO</th>\n",
       "      <th>VENDAS</th>\n",
       "    </tr>\n",
       "  </thead>\n",
       "  <tbody>\n",
       "    <tr>\n",
       "      <th>32</th>\n",
       "      <td>Mountain-200 Silver, 46</td>\n",
       "      <td>102079.560000</td>\n",
       "    </tr>\n",
       "    <tr>\n",
       "      <th>27</th>\n",
       "      <td>Mountain-200 Black, 38</td>\n",
       "      <td>99422.245133</td>\n",
       "    </tr>\n",
       "    <tr>\n",
       "      <th>31</th>\n",
       "      <td>Mountain-200 Silver, 42</td>\n",
       "      <td>97771.006400</td>\n",
       "    </tr>\n",
       "    <tr>\n",
       "      <th>30</th>\n",
       "      <td>Mountain-200 Silver, 38</td>\n",
       "      <td>86833.910700</td>\n",
       "    </tr>\n",
       "    <tr>\n",
       "      <th>58</th>\n",
       "      <td>Road-550-W Yellow, 42</td>\n",
       "      <td>85157.240000</td>\n",
       "    </tr>\n",
       "    <tr>\n",
       "      <th>...</th>\n",
       "      <td>...</td>\n",
       "      <td>...</td>\n",
       "    </tr>\n",
       "    <tr>\n",
       "      <th>4</th>\n",
       "      <td>Classic Vest, M</td>\n",
       "      <td>455.083333</td>\n",
       "    </tr>\n",
       "    <tr>\n",
       "      <th>10</th>\n",
       "      <td>Half-Finger Gloves, M</td>\n",
       "      <td>410.207500</td>\n",
       "    </tr>\n",
       "    <tr>\n",
       "      <th>0</th>\n",
       "      <td>AWC Logo Cap</td>\n",
       "      <td>296.670000</td>\n",
       "    </tr>\n",
       "    <tr>\n",
       "      <th>16</th>\n",
       "      <td>Long-Sleeve Logo Jersey, L</td>\n",
       "      <td>266.613333</td>\n",
       "    </tr>\n",
       "    <tr>\n",
       "      <th>17</th>\n",
       "      <td>Long-Sleeve Logo Jersey, M</td>\n",
       "      <td>249.950000</td>\n",
       "    </tr>\n",
       "  </tbody>\n",
       "</table>\n",
       "<p>84 rows × 2 columns</p>\n",
       "</div>"
      ],
      "text/plain": [
       "                       PRODUTO         VENDAS\n",
       "32     Mountain-200 Silver, 46  102079.560000\n",
       "27      Mountain-200 Black, 38   99422.245133\n",
       "31     Mountain-200 Silver, 42   97771.006400\n",
       "30     Mountain-200 Silver, 38   86833.910700\n",
       "58       Road-550-W Yellow, 42   85157.240000\n",
       "..                         ...            ...\n",
       "4              Classic Vest, M     455.083333\n",
       "10       Half-Finger Gloves, M     410.207500\n",
       "0                 AWC Logo Cap     296.670000\n",
       "16  Long-Sleeve Logo Jersey, L     266.613333\n",
       "17  Long-Sleeve Logo Jersey, M     249.950000\n",
       "\n",
       "[84 rows x 2 columns]"
      ]
     },
     "execution_count": 37,
     "metadata": {},
     "output_type": "execute_result"
    }
   ],
   "source": [
    "# 4. Qual produto possui a maior média de vendas ? (média do acumulado de todos os anos do dataset)\n",
    "\n",
    "dfVendas_prod = dfVendas_Clean.groupby('PRODUTO', as_index=False)['VENDAS'].mean()\n",
    "\n",
    "dfVendas_prod.sort_values(by='VENDAS', ascending=False)\n",
    "\n",
    "# R-> Mountain-200 Silver, 46 e Mountain-200 Silver, 38 possuem as maiores médias de vendas"
   ]
  },
  {
   "cell_type": "code",
   "execution_count": 38,
   "id": "0e90a1b4-e967-4bb5-a7aa-520299b8d1e7",
   "metadata": {},
   "outputs": [
    {
     "data": {
      "image/png": "[encoded data removed]",
      "text/plain": [
       "<Figure size 1080x720 with 1 Axes>"
      ]
     },
     "metadata": {},
     "output_type": "display_data"
    }
   ],
   "source": [
    "#MOSTRANDO A RESPOSTA DA PERGUNTA 4 EM UM GRAFICO\n",
    "\n",
    "#ax = sns.barplot(x=\"tip\", y=\"day\", data=tips)\n",
    "#ax = sns.set(xlabel='common xlabel', ylabel='common ylabel')\n",
    "\n",
    "plt.figure(figsize=(15,10))\n",
    "fig = sns.barplot(x=dfVendas_prod['PRODUTO'], y=dfVendas_prod['VENDAS'], data=dfVendas_prod,\n",
    "                 order=dfVendas_prod.sort_values('VENDAS').PRODUTO)\n",
    "\n",
    "plt.title('MÉDIA DE VENDAS POR PRODUTO (2011 - 2014)')\n",
    "plt.xticks(rotation=90)\n",
    "plt.show(fig)"
   ]
  },
  {
   "cell_type": "markdown",
   "id": "a495265b-6312-4bb6-9b75-97031056be31",
   "metadata": {},
   "source": [
    "# CALCULANDO NUMEROS (QUANTIDADE) DE VENDAS"
   ]
  },
  {
   "cell_type": "code",
   "execution_count": 39,
   "id": "592e5f54-537c-453b-8109-d830bd489a5d",
   "metadata": {},
   "outputs": [
    {
     "data": {
      "text/plain": [
       "2013    115\n",
       "2014     75\n",
       "2012     25\n",
       "2011     10\n",
       "Name: ANO, dtype: int64"
      ]
     },
     "execution_count": 39,
     "metadata": {},
     "output_type": "execute_result"
    }
   ],
   "source": [
    "# 5. Qual Ano tem o maior numero de vendas ?\n",
    "\n",
    "dfVendas_Clean.ANO.value_counts()\n",
    "\n",
    "# R-> 2013... \n",
    "\n",
    "# Caso curioso, o ano de 2012 possui a maior média de vendas (valor), entretando, o ano de 2013 tem o maior número de vendas (quantidade).\n",
    "# Portando podemos concluir que o ano de 2012 vendeu itens relativamente mais caros (maior valor aquisitivo) do que o ano de 2013"
   ]
  },
  {
   "cell_type": "code",
   "execution_count": 40,
   "id": "faccf1d4-2f68-4041-951e-138c48b4c30c",
   "metadata": {},
   "outputs": [
    {
     "data": {
      "text/plain": [
       "Text(0.5, 1.0, 'NÚMERO DE VENDAS POR ANO')"
      ]
     },
     "execution_count": 40,
     "metadata": {},
     "output_type": "execute_result"
    },
    {
     "data": {
      "image/png": "[encoded data removed]",
      "text/plain": [
       "<Figure size 360x360 with 1 Axes>"
      ]
     },
     "metadata": {},
     "output_type": "display_data"
    }
   ],
   "source": [
    "#MOSTRANDO A RESPOSTA DA PERGUNTA 5 EM UM GRAFICO\n",
    "\n",
    "plt.figure(figsize=(5, 5))\n",
    "sns.countplot(x=\"ANO\", data=dfVendas_Clean, order = dfVendas_Clean['ANO'].value_counts().index)\n",
    "plt.title('NÚMERO DE VENDAS POR ANO')\n",
    "#plt.xticks(rotation=90)"
   ]
  },
  {
   "cell_type": "code",
   "execution_count": 41,
   "id": "f3f66870-c703-4e72-9adf-38e5c8b9bd3a",
   "metadata": {},
   "outputs": [
    {
     "data": {
      "text/plain": [
       "(array([0, 1, 2, 3]),\n",
       " [Text(0, 0, '2013'),\n",
       "  Text(1, 0, '2014'),\n",
       "  Text(2, 0, '2012'),\n",
       "  Text(3, 0, '2011')])"
      ]
     },
     "execution_count": 41,
     "metadata": {},
     "output_type": "execute_result"
    },
    {
     "data": {
      "image/png": "[encoded data removed]",
      "text/plain": [
       "<Figure size 1080x720 with 1 Axes>"
      ]
     },
     "metadata": {},
     "output_type": "display_data"
    }
   ],
   "source": [
    "# 6. Quais são os top 5 produto tem o maior numero de vendas por categoria ?\n",
    "\n",
    "plt.figure(figsize=(15, 10))\n",
    "sns.countplot(x=\"ANO\", data=dfVendas_Clean, hue='CATEGORIA', order=dfVendas_Clean.ANO.value_counts().iloc[:5].index)\n",
    "plt.xticks(size=16)\n",
    "\n",
    "# R:\n",
    "   # 2011, não há como medir, registros de uma única categoria\n",
    "   # 2012, não há como medir, registros de uma única categoria\n",
    "   # 2013, Accessories possui o maior numero de vendas\n",
    "   # 2014, Clothing possui o maior numero de vendas"
   ]
  },
  {
   "cell_type": "code",
   "execution_count": 42,
   "id": "ff9010e0-3f3c-4104-aa23-b69b1908a034",
   "metadata": {},
   "outputs": [],
   "source": [
    "# 7.Qual categoria possui o maior numero de vendas (quantidade) no ultimo ano ?\n",
    "\n",
    "ano_max = dfVendas_Clean.groupby(['ANO', 'CATEGORIA']).size().reset_index(name='count')\n",
    "ano_max_idx = ano_max.groupby(['ANO'])['count'].transform(max) == ano_max['count']\n",
    "ano_max_cat = ano_max[ano_max_idx].reset_index(drop=True)\n",
    "ano_max_cat = ano_max_cat.drop_duplicates(subset=[\"ANO\", \"count\"], keep='last').reset_index(drop=True)\n",
    "# ano_max_cat"
   ]
  },
  {
   "cell_type": "code",
   "execution_count": 43,
   "id": "f450a305-e593-4523-aa5e-1a85749a04f5",
   "metadata": {},
   "outputs": [],
   "source": [
    "categoria = ano_max_cat['CATEGORIA'].values\n",
    "# categoria[0]"
   ]
  },
  {
   "cell_type": "code",
   "execution_count": 44,
   "id": "247c9ae4-61f1-4ab7-954b-5ee160b50f96",
   "metadata": {},
   "outputs": [
    {
     "data": {
      "image/png": "[encoded data removed]",
      "text/plain": [
       "<Figure size 1080x720 with 1 Axes>"
      ]
     },
     "metadata": {},
     "output_type": "display_data"
    }
   ],
   "source": [
    "#MOSTRANDO A RESPOSTA DA PERGUNTA 7 EM UM GRAFICO\n",
    "\n",
    "plt.figure(figsize=(15, 10))\n",
    "g = sns.barplot(x='ANO', y='count', data=ano_max_cat)\n",
    "index = 0\n",
    "for value in ano_max_cat['count'].values:\n",
    "#     print(asd)\n",
    "    g.text(index, value + 5, str(categoria[index] + '----' +str(value)), color='#000', size=14, rotation= 90, ha=\"center\")\n",
    "    index += 1\n",
    "\n",
    "plt.title('NÚMERO DE VENDAS DE CATEGORIAS EM CADA ANO', fontsize=20)\n",
    "plt.xticks(size=16)\n",
    "plt.show()\n",
    "\n",
    "# R -> 2011, Bikes; 2012, Bikes; 2013, Accessories e em 2014, Clothing"
   ]
  },
  {
   "cell_type": "code",
   "execution_count": 45,
   "id": "ea98b0b8-8900-4436-b8fe-daea496ed5f3",
   "metadata": {},
   "outputs": [],
   "source": [
    "# 8.Qual categoria possui a maior venda em cada ano ?\n",
    "\n",
    "ano_venda = dfVendas_Clean.groupby(by=['ANO', 'CATEGORIA'])['VENDAS'].sum().reset_index()\n",
    "ano_venda_df = ano_venda.groupby(by=['ANO'])['VENDAS'].transform(max) == ano_venda['VENDAS']\n",
    "ano_venda_max = ano_venda[ano_venda_df].reset_index(drop=True)\n",
    "# ano_venda_max"
   ]
  },
  {
   "cell_type": "code",
   "execution_count": 46,
   "id": "019f6699-2dab-4f45-8dc9-8e314c993e40",
   "metadata": {},
   "outputs": [],
   "source": [
    "cat = ano_venda_max['CATEGORIA']"
   ]
  },
  {
   "cell_type": "code",
   "execution_count": 47,
   "id": "b3d21ca4-0ebe-4caf-a33d-2ad0232eb30a",
   "metadata": {},
   "outputs": [
    {
     "data": {
      "image/png": "[encoded data removed]",
      "text/plain": [
       "<Figure size 1080x720 with 1 Axes>"
      ]
     },
     "metadata": {},
     "output_type": "display_data"
    }
   ],
   "source": [
    "# MOSTRANDO A RESPOSTA DA PERGUNTA 8 EM UM GRAFICO\n",
    "\n",
    "plt.figure(figsize=(15, 10))\n",
    "g = sns.barplot(x='ANO', y='VENDAS', data=ano_venda_max)\n",
    "index = 0\n",
    "for value in ano_venda_max['VENDAS']:\n",
    "    g.text(index, value + 2 , str(cat[index] + '----' +str(round(value, 2))), color='#000', size=14, rotation= 90, ha=\"center\")\n",
    "    index += 1\n",
    "\n",
    "plt.xticks(size=20)    \n",
    "plt.show()"
   ]
  },
  {
   "cell_type": "markdown",
   "id": "3a81b81d-a7fd-4dfb-aacc-cca530657fac",
   "metadata": {},
   "source": [
    "# OUTRAS MEDIDAS"
   ]
  },
  {
   "cell_type": "code",
   "execution_count": 48,
   "id": "f89237b8-965a-4158-9ea2-dcce8e672834",
   "metadata": {},
   "outputs": [
    {
     "data": {
      "text/html": [
       "<div>\n",
       "<style scoped>\n",
       "    .dataframe tbody tr th:only-of-type {\n",
       "        vertical-align: middle;\n",
       "    }\n",
       "\n",
       "    .dataframe tbody tr th {\n",
       "        vertical-align: top;\n",
       "    }\n",
       "\n",
       "    .dataframe thead th {\n",
       "        text-align: right;\n",
       "    }\n",
       "</style>\n",
       "<table border=\"1\" class=\"dataframe\">\n",
       "  <thead>\n",
       "    <tr style=\"text-align: right;\">\n",
       "      <th></th>\n",
       "      <th>CATEGORIA</th>\n",
       "      <th>VENDAS</th>\n",
       "    </tr>\n",
       "  </thead>\n",
       "  <tbody>\n",
       "    <tr>\n",
       "      <th>0</th>\n",
       "      <td>Accessories</td>\n",
       "      <td>1314.372800</td>\n",
       "    </tr>\n",
       "    <tr>\n",
       "      <th>1</th>\n",
       "      <td>Bikes</td>\n",
       "      <td>62713.266405</td>\n",
       "    </tr>\n",
       "    <tr>\n",
       "      <th>2</th>\n",
       "      <td>Clothing</td>\n",
       "      <td>608.722667</td>\n",
       "    </tr>\n",
       "  </tbody>\n",
       "</table>\n",
       "</div>"
      ],
      "text/plain": [
       "     CATEGORIA        VENDAS\n",
       "0  Accessories   1314.372800\n",
       "1        Bikes  62713.266405\n",
       "2     Clothing    608.722667"
      ]
     },
     "execution_count": 48,
     "metadata": {},
     "output_type": "execute_result"
    }
   ],
   "source": [
    "# 9. Qual a representividade de vendas (média) de cada categoria ?\n",
    "\n",
    "dfVendas_partCat = dfVendas_Clean.groupby('CATEGORIA', as_index=False)['VENDAS'].mean()\n",
    "\n",
    "dfVendas_partCat"
   ]
  },
  {
   "cell_type": "code",
   "execution_count": 49,
   "id": "e912a5d7-ca92-45d2-beaa-059c9ec356bc",
   "metadata": {},
   "outputs": [
    {
     "data": {
      "image/png": "[encoded data removed]",
      "text/plain": [
       "<Figure size 432x288 with 1 Axes>"
      ]
     },
     "metadata": {},
     "output_type": "display_data"
    }
   ],
   "source": [
    "# Pie chart\n",
    "labels = dfVendas_partCat['CATEGORIA']\n",
    "sizes = dfVendas_partCat['VENDAS'] + 5000 # valor de 5000 é valor constante somente pra não deixar os menores valores sobrepostos no grafico\n",
    "\n",
    "#cores\n",
    "colors = ['#ff9999','#66b3ff','#99ff99','#ffcc99']\n",
    " \n",
    "fig1, ax1 = plt.subplots()\n",
    "ax1.pie(sizes, colors = colors, labels=labels, autopct='%1.1f%%', startangle=90)\n",
    "\n",
    "#desenhando o circulo\n",
    "centre_circle = plt.Circle((0,0),0.70,fc='white')\n",
    "fig = plt.gcf()\n",
    "fig.gca().add_artist(centre_circle)\n",
    "\n",
    "plt.title('REPRESENTIVIDADE DE VENDAS (CATEGORIA)')\n",
    "ax1.axis('equal')  \n",
    "plt.tight_layout()\n",
    "plt.show()\n",
    "\n",
    "# R -> Bikes, 85%; Acessories, 7.8% e Clothing 7%"
   ]
  },
  {
   "cell_type": "code",
   "execution_count": 50,
   "id": "49c84f94-7577-4874-8025-bf2563c38a80",
   "metadata": {},
   "outputs": [
    {
     "data": {
      "text/html": [
       "<div>\n",
       "<style scoped>\n",
       "    .dataframe tbody tr th:only-of-type {\n",
       "        vertical-align: middle;\n",
       "    }\n",
       "\n",
       "    .dataframe tbody tr th {\n",
       "        vertical-align: top;\n",
       "    }\n",
       "\n",
       "    .dataframe thead th {\n",
       "        text-align: right;\n",
       "    }\n",
       "</style>\n",
       "<table border=\"1\" class=\"dataframe\">\n",
       "  <thead>\n",
       "    <tr style=\"text-align: right;\">\n",
       "      <th></th>\n",
       "      <th>ANO</th>\n",
       "      <th>PRODUTO</th>\n",
       "      <th>CATEGORIA</th>\n",
       "      <th>PAIS</th>\n",
       "      <th>REGIAO</th>\n",
       "      <th>VENDAS</th>\n",
       "      <th>RANK_VENDAS</th>\n",
       "    </tr>\n",
       "  </thead>\n",
       "  <tbody>\n",
       "    <tr>\n",
       "      <th>262</th>\n",
       "      <td>2013</td>\n",
       "      <td>Fender Set - Mountain</td>\n",
       "      <td>Accessories</td>\n",
       "      <td>Germany</td>\n",
       "      <td>Europe</td>\n",
       "      <td>3406.90</td>\n",
       "      <td>1.0</td>\n",
       "    </tr>\n",
       "    <tr>\n",
       "      <th>200</th>\n",
       "      <td>2013</td>\n",
       "      <td>Touring Tire</td>\n",
       "      <td>Accessories</td>\n",
       "      <td>Germany</td>\n",
       "      <td>Europe</td>\n",
       "      <td>3304.86</td>\n",
       "      <td>2.0</td>\n",
       "    </tr>\n",
       "    <tr>\n",
       "      <th>624</th>\n",
       "      <td>2013</td>\n",
       "      <td>All-Purpose Bike Stand</td>\n",
       "      <td>Accessories</td>\n",
       "      <td>Germany</td>\n",
       "      <td>Europe</td>\n",
       "      <td>3180.00</td>\n",
       "      <td>3.0</td>\n",
       "    </tr>\n",
       "    <tr>\n",
       "      <th>242</th>\n",
       "      <td>2013</td>\n",
       "      <td>LL Road Tire</td>\n",
       "      <td>Accessories</td>\n",
       "      <td>Germany</td>\n",
       "      <td>Europe</td>\n",
       "      <td>3094.56</td>\n",
       "      <td>4.0</td>\n",
       "    </tr>\n",
       "    <tr>\n",
       "      <th>378</th>\n",
       "      <td>2013</td>\n",
       "      <td>Hitch Rack - 4-Bike</td>\n",
       "      <td>Accessories</td>\n",
       "      <td>France</td>\n",
       "      <td>Europe</td>\n",
       "      <td>2880.00</td>\n",
       "      <td>5.0</td>\n",
       "    </tr>\n",
       "    <tr>\n",
       "      <th>...</th>\n",
       "      <td>...</td>\n",
       "      <td>...</td>\n",
       "      <td>...</td>\n",
       "      <td>...</td>\n",
       "      <td>...</td>\n",
       "      <td>...</td>\n",
       "      <td>...</td>\n",
       "    </tr>\n",
       "    <tr>\n",
       "      <th>612</th>\n",
       "      <td>2014</td>\n",
       "      <td>Mountain Bottle Cage</td>\n",
       "      <td>Accessories</td>\n",
       "      <td>United States</td>\n",
       "      <td>North America</td>\n",
       "      <td>339.66</td>\n",
       "      <td>71.0</td>\n",
       "    </tr>\n",
       "    <tr>\n",
       "      <th>742</th>\n",
       "      <td>2014</td>\n",
       "      <td>Hydration Pack - 70 oz.</td>\n",
       "      <td>Accessories</td>\n",
       "      <td>Australia</td>\n",
       "      <td>Pacific</td>\n",
       "      <td>329.94</td>\n",
       "      <td>72.0</td>\n",
       "    </tr>\n",
       "    <tr>\n",
       "      <th>316</th>\n",
       "      <td>2014</td>\n",
       "      <td>LL Mountain Tire</td>\n",
       "      <td>Accessories</td>\n",
       "      <td>Canada</td>\n",
       "      <td>North America</td>\n",
       "      <td>324.87</td>\n",
       "      <td>73.0</td>\n",
       "    </tr>\n",
       "    <tr>\n",
       "      <th>69</th>\n",
       "      <td>2014</td>\n",
       "      <td>All-Purpose Bike Stand</td>\n",
       "      <td>Accessories</td>\n",
       "      <td>Canada</td>\n",
       "      <td>North America</td>\n",
       "      <td>318.00</td>\n",
       "      <td>74.0</td>\n",
       "    </tr>\n",
       "    <tr>\n",
       "      <th>588</th>\n",
       "      <td>2014</td>\n",
       "      <td>Sport-100 Helmet, Black</td>\n",
       "      <td>Accessories</td>\n",
       "      <td>Germany</td>\n",
       "      <td>Europe</td>\n",
       "      <td>314.91</td>\n",
       "      <td>75.0</td>\n",
       "    </tr>\n",
       "  </tbody>\n",
       "</table>\n",
       "<p>75 rows × 7 columns</p>\n",
       "</div>"
      ],
      "text/plain": [
       "      ANO                  PRODUTO    CATEGORIA           PAIS         REGIAO  \\\n",
       "262  2013    Fender Set - Mountain  Accessories        Germany         Europe   \n",
       "200  2013             Touring Tire  Accessories        Germany         Europe   \n",
       "624  2013   All-Purpose Bike Stand  Accessories        Germany         Europe   \n",
       "242  2013             LL Road Tire  Accessories        Germany         Europe   \n",
       "378  2013      Hitch Rack - 4-Bike  Accessories         France         Europe   \n",
       "..    ...                      ...          ...            ...            ...   \n",
       "612  2014     Mountain Bottle Cage  Accessories  United States  North America   \n",
       "742  2014  Hydration Pack - 70 oz.  Accessories      Australia        Pacific   \n",
       "316  2014         LL Mountain Tire  Accessories         Canada  North America   \n",
       "69   2014   All-Purpose Bike Stand  Accessories         Canada  North America   \n",
       "588  2014  Sport-100 Helmet, Black  Accessories        Germany         Europe   \n",
       "\n",
       "      VENDAS  RANK_VENDAS  \n",
       "262  3406.90          1.0  \n",
       "200  3304.86          2.0  \n",
       "624  3180.00          3.0  \n",
       "242  3094.56          4.0  \n",
       "378  2880.00          5.0  \n",
       "..       ...          ...  \n",
       "612   339.66         71.0  \n",
       "742   329.94         72.0  \n",
       "316   324.87         73.0  \n",
       "69    318.00         74.0  \n",
       "588   314.91         75.0  \n",
       "\n",
       "[75 rows x 7 columns]"
      ]
     },
     "execution_count": 50,
     "metadata": {},
     "output_type": "execute_result"
    }
   ],
   "source": [
    "# Criando uma rank de vendas\n",
    "\n",
    "#data[\"Rank\"] = data[\"Name\"].rank()\n",
    "\n",
    "dfVendas_CleanAccessories['RANK_VENDAS'] = dfVendas_CleanAccessories['VENDAS'].rank(ascending=False)\n",
    "dfVendas_AccessoriesRank = dfVendas_CleanAccessories.sort_values(\"VENDAS\", inplace = False, ascending=False)\n",
    "dfVendas_AccessoriesRank"
   ]
  },
  {
   "cell_type": "code",
   "execution_count": 51,
   "id": "adeb98f0-4c29-4d65-a755-2df12df19d1c",
   "metadata": {},
   "outputs": [],
   "source": [
    "dfVendas_CleanBikes['RANK_VENDAS'] = dfVendas_CleanBikes['VENDAS'].rank(ascending=False)\n",
    "dfVendas_BikessRank = dfVendas_CleanBikes.sort_values(\"VENDAS\", inplace = False, ascending=False)\n",
    "\n",
    "dfVendas_CleanClothing['RANK_VENDAS'] = dfVendas_CleanClothing['VENDAS'].rank(ascending=False)\n",
    "dfVendas_ClothingRank = dfVendas_CleanClothing.sort_values(\"VENDAS\", inplace = False, ascending=False)"
   ]
  },
  {
   "cell_type": "code",
   "execution_count": 62,
   "id": "7ca200f6-a32f-46fb-b5a1-35fb17ddc140",
   "metadata": {},
   "outputs": [
    {
     "data": {
      "application/vnd.plotly.v1+json": {
       "config": {
        "linkText": "Export to plot.ly",
        "plotlyServerURL": "https://plot.ly",
        "showLink": false
       },
       "data": [
        {
         "marker": {
          "color": "rgba(28, 149, 249, 0.8)",
          "size": 8
         },
         "mode": "markers",
         "name": "Accessories",
         "text": [
          "PRODUTO: Fender Set - Mountain<br>PAIS: Germany",
          "PRODUTO: Touring Tire<br>PAIS: Germany",
          "PRODUTO: All-Purpose Bike Stand<br>PAIS: Germany",
          "PRODUTO: LL Road Tire<br>PAIS: Germany",
          "PRODUTO: Hitch Rack - 4-Bike<br>PAIS: France",
          "PRODUTO: Hydration Pack - 70 oz.<br>PAIS: France",
          "PRODUTO: LL Road Tire<br>PAIS: France",
          "PRODUTO: All-Purpose Bike Stand<br>PAIS: France",
          "PRODUTO: HL Mountain Tire<br>PAIS: Germany",
          "PRODUTO: ML Road Tire<br>PAIS: France",
          "PRODUTO: Bike Wash - Dissolver<br>PAIS: United States",
          "PRODUTO: Hitch Rack - 4-Bike<br>PAIS: Germany",
          "PRODUTO: ML Mountain Tire<br>PAIS: France",
          "PRODUTO: Patch Kit/8 Patches<br>PAIS: United States",
          "PRODUTO: Road Tire Tube<br>PAIS: United States",
          "PRODUTO: ML Mountain Tire<br>PAIS: Germany",
          "PRODUTO: HL Road Tire<br>PAIS: France",
          "PRODUTO: HL Mountain Tire<br>PAIS: France",
          "PRODUTO: Fender Set - Mountain<br>PAIS: France",
          "PRODUTO: ML Road Tire<br>PAIS: Germany",
          "PRODUTO: Hydration Pack - 70 oz.<br>PAIS: Germany",
          "PRODUTO: Water Bottle - 30 oz.<br>PAIS: Germany",
          "PRODUTO: Mountain Bottle Cage<br>PAIS: Germany",
          "PRODUTO: Touring Tire Tube<br>PAIS: United States",
          "PRODUTO: Water Bottle - 30 oz.<br>PAIS: France",
          "PRODUTO: LL Mountain Tire<br>PAIS: Germany",
          "PRODUTO: Mountain Bottle Cage<br>PAIS: France",
          "PRODUTO: Road Bottle Cage<br>PAIS: France",
          "PRODUTO: Road Bottle Cage<br>PAIS: Germany",
          "PRODUTO: LL Mountain Tire<br>PAIS: France",
          "PRODUTO: Touring Tire Tube<br>PAIS: France",
          "PRODUTO: Sport-100 Helmet, Black<br>PAIS: United States",
          "PRODUTO: HL Road Tire<br>PAIS: Germany",
          "PRODUTO: Road Tire Tube<br>PAIS: France",
          "PRODUTO: HL Mountain Tire<br>PAIS: United States",
          "PRODUTO: Road Tire Tube<br>PAIS: Germany",
          "PRODUTO: Sport-100 Helmet, Blue<br>PAIS: United States",
          "PRODUTO: Hitch Rack - 4-Bike<br>PAIS: United States",
          "PRODUTO: Sport-100 Helmet, Red<br>PAIS: United States",
          "PRODUTO: Mountain Tire Tube<br>PAIS: Germany",
          "PRODUTO: Touring Tire Tube<br>PAIS: Germany",
          "PRODUTO: Fender Set - Mountain<br>PAIS: United States",
          "PRODUTO: Mountain Tire Tube<br>PAIS: France",
          "PRODUTO: All-Purpose Bike Stand<br>PAIS: Australia",
          "PRODUTO: ML Mountain Tire<br>PAIS: United States",
          "PRODUTO: Sport-100 Helmet, Red<br>PAIS: Canada",
          "PRODUTO: HL Road Tire<br>PAIS: Canada",
          "PRODUTO: Patch Kit/8 Patches<br>PAIS: France",
          "PRODUTO: Hitch Rack - 4-Bike<br>PAIS: Canada",
          "PRODUTO: HL Road Tire<br>PAIS: United States",
          "PRODUTO: Hydration Pack - 70 oz.<br>PAIS: United States",
          "PRODUTO: Patch Kit/8 Patches<br>PAIS: Germany",
          "PRODUTO: Fender Set - Mountain<br>PAIS: Canada",
          "PRODUTO: Sport-100 Helmet, Black<br>PAIS: Canada",
          "PRODUTO: LL Mountain Tire<br>PAIS: United States",
          "PRODUTO: Bike Wash - Dissolver<br>PAIS: Germany",
          "PRODUTO: Sport-100 Helmet, Blue<br>PAIS: Canada",
          "PRODUTO: All-Purpose Bike Stand<br>PAIS: United States",
          "PRODUTO: Sport-100 Helmet, Blue<br>PAIS: Australia",
          "PRODUTO: Sport-100 Helmet, Red<br>PAIS: Australia",
          "PRODUTO: Sport-100 Helmet, Blue<br>PAIS: France",
          "PRODUTO: ML Mountain Tire<br>PAIS: Australia",
          "PRODUTO: Bike Wash - Dissolver<br>PAIS: France",
          "PRODUTO: ML Mountain Tire<br>PAIS: Canada",
          "PRODUTO: LL Road Tire<br>PAIS: Australia",
          "PRODUTO: HL Mountain Tire<br>PAIS: Canada",
          "PRODUTO: Sport-100 Helmet, Black<br>PAIS: Australia",
          "PRODUTO: Touring Tire<br>PAIS: United States",
          "PRODUTO: Hitch Rack - 4-Bike<br>PAIS: Germany",
          "PRODUTO: Mountain Tire Tube<br>PAIS: United States",
          "PRODUTO: Mountain Bottle Cage<br>PAIS: United States",
          "PRODUTO: Hydration Pack - 70 oz.<br>PAIS: Australia",
          "PRODUTO: LL Mountain Tire<br>PAIS: Canada",
          "PRODUTO: All-Purpose Bike Stand<br>PAIS: Canada",
          "PRODUTO: Sport-100 Helmet, Black<br>PAIS: Germany"
         ],
         "type": "scatter",
         "x": [
          1,
          2,
          3,
          4,
          5,
          6,
          7,
          8,
          9,
          10,
          11,
          12,
          13,
          14,
          15,
          16,
          17,
          18,
          19,
          20,
          21,
          22,
          23,
          24,
          25,
          26,
          27,
          28,
          29,
          30,
          31,
          32,
          33,
          34,
          35,
          36,
          37,
          38,
          39,
          40,
          41,
          42,
          43,
          44,
          45,
          46,
          47,
          48,
          49,
          50,
          51,
          52,
          53,
          54,
          55,
          56,
          57,
          58,
          60,
          60,
          60,
          62,
          63,
          64,
          65,
          66,
          67,
          68,
          69,
          70,
          71,
          72,
          73,
          74,
          75
         ],
         "y": [
          3406.9,
          3304.86,
          3180,
          3094.56,
          2880,
          2804.49,
          2772.21,
          2703,
          2695,
          2648.94,
          2647.35,
          2520,
          2519.16,
          2507.55,
          2497.74,
          2489.17,
          2249.4,
          2205,
          2132.06,
          2099.16,
          1979.64,
          1876.24,
          1798.2,
          1701.59,
          1676.64,
          1674.33,
          1628.37,
          1564.26,
          1537.29,
          1324.47,
          1307.38,
          1259.64,
          1108.4,
          1069.32,
          1050,
          1033.41,
          1014.71,
          960,
          909.74,
          908.18,
          863.27,
          857.22,
          833.33,
          795,
          779.74,
          664.81,
          652,
          606.85,
          600,
          554.2,
          549.9,
          540.44,
          527.52,
          524.85,
          524.79,
          500.85,
          489.86,
          477,
          454.87,
          454.87,
          454.87,
          449.85,
          413.4,
          389.87,
          386.82,
          385,
          384.89,
          376.87,
          360,
          359.28,
          339.66,
          329.94,
          324.87,
          318,
          314.91
         ]
        },
        {
         "marker": {
          "color": "rgba(249, 94, 28, 0.8)",
          "size": 8
         },
         "mode": "markers",
         "name": "Bikes",
         "text": [
          "PRODUTO: Mountain-200 Silver, 38<br>PAIS: Germany",
          "PRODUTO: Road-350-W Yellow, 48<br>PAIS: United States",
          "PRODUTO: Mountain-200 Silver, 42<br>PAIS: United States",
          "PRODUTO: Mountain-200 Silver, 38<br>PAIS: United States",
          "PRODUTO: Mountain-200 Black, 46<br>PAIS: France",
          "PRODUTO: Mountain-200 Black, 38<br>PAIS: Germany",
          "PRODUTO: Mountain-200 Silver, 46<br>PAIS: France",
          "PRODUTO: Mountain-200 Black, 38<br>PAIS: United States",
          "PRODUTO: Mountain-200 Black, 42<br>PAIS: United States",
          "PRODUTO: Mountain-200 Black, 38<br>PAIS: France",
          "PRODUTO: Mountain-200 Silver, 42<br>PAIS: France",
          "PRODUTO: Touring-1000 Yellow, 60<br>PAIS: United States",
          "PRODUTO: Mountain-200 Silver, 42<br>PAIS: Germany",
          "PRODUTO: Mountain-200 Black, 42<br>PAIS: Germany",
          "PRODUTO: Mountain-200 Silver, 38<br>PAIS: France",
          "PRODUTO: Road-550-W Yellow, 42<br>PAIS: United States",
          "PRODUTO: Road-250 Black, 48<br>PAIS: United States",
          "PRODUTO: Road-550-W Yellow, 44<br>PAIS: United States",
          "PRODUTO: Mountain-200 Black, 42<br>PAIS: France",
          "PRODUTO: Road-250 Red, 58<br>PAIS: United States",
          "PRODUTO: Road-750 Black, 44<br>PAIS: United States",
          "PRODUTO: Road-550-W Yellow, 48<br>PAIS: United States",
          "PRODUTO: Road-750 Black, 48<br>PAIS: United States",
          "PRODUTO: Road-250 Black, 52<br>PAIS: United States",
          "PRODUTO: Road-250 Red, 48<br>PAIS: United States",
          "PRODUTO: Road-750 Black, 52<br>PAIS: United States",
          "PRODUTO: Road-550-W Yellow, 38<br>PAIS: United States",
          "PRODUTO: Road-550-W Yellow, 40<br>PAIS: United States",
          "PRODUTO: Road-350-W Yellow, 40<br>PAIS: Germany",
          "PRODUTO: Mountain-100 Silver, 38<br>PAIS: United States",
          "PRODUTO: Road-250 Black, 44<br>PAIS: United States",
          "PRODUTO: Road-250 Black, 58<br>PAIS: France",
          "PRODUTO: Road-250 Red, 52<br>PAIS: United States",
          "PRODUTO: Road-350-W Yellow, 48<br>PAIS: France",
          "PRODUTO: Road-250 Red, 48<br>PAIS: Germany",
          "PRODUTO: Road-150 Red, 44<br>PAIS: Germany",
          "PRODUTO: Mountain-400-W Silver, 38<br>PAIS: United States",
          "PRODUTO: Road-250 Black, 52<br>PAIS: Germany",
          "PRODUTO: Road-750 Black, 58<br>PAIS: United States",
          "PRODUTO: Road-250 Red, 44<br>PAIS: Germany",
          "PRODUTO: Road-250 Red, 44<br>PAIS: United States",
          "PRODUTO: Road-250 Red, 44<br>PAIS: France",
          "PRODUTO: Road-350-W Yellow, 44<br>PAIS: France",
          "PRODUTO: Touring-2000 Blue, 50<br>PAIS: United States",
          "PRODUTO: Mountain-100 Black, 44<br>PAIS: United States",
          "PRODUTO: Mountain-200 Black, 42<br>PAIS: France",
          "PRODUTO: Road-250 Red, 58<br>PAIS: France",
          "PRODUTO: Road-250 Black, 58<br>PAIS: United States",
          "PRODUTO: Touring-1000 Yellow, 60<br>PAIS: Germany",
          "PRODUTO: Touring-1000 Blue, 50<br>PAIS: Germany",
          "PRODUTO: Mountain-100 Black, 48<br>PAIS: United States",
          "PRODUTO: Road-250 Red, 52<br>PAIS: France",
          "PRODUTO: Road-250 Black, 52<br>PAIS: France",
          "PRODUTO: Road-350-W Yellow, 48<br>PAIS: Germany",
          "PRODUTO: Touring-1000 Blue, 54<br>PAIS: Germany",
          "PRODUTO: Road-350-W Yellow, 42<br>PAIS: Germany",
          "PRODUTO: Road-250 Black, 58<br>PAIS: United States",
          "PRODUTO: Road-250 Red, 58<br>PAIS: United States",
          "PRODUTO: Mountain-200 Black, 46<br>PAIS: Germany",
          "PRODUTO: Road-150 Red, 52<br>PAIS: France",
          "PRODUTO: Road-150 Red, 44<br>PAIS: France",
          "PRODUTO: Road-150 Red, 62<br>PAIS: Germany",
          "PRODUTO: Touring-1000 Yellow, 46<br>PAIS: France",
          "PRODUTO: Touring-2000 Blue, 46<br>PAIS: United States",
          "PRODUTO: Road-250 Black, 44<br>PAIS: Germany",
          "PRODUTO: Road-250 Red, 58<br>PAIS: Germany",
          "PRODUTO: Road-250 Black, 48<br>PAIS: France",
          "PRODUTO: Road-250 Black, 44<br>PAIS: France",
          "PRODUTO: Road-250 Black, 52<br>PAIS: France",
          "PRODUTO: Road-250 Black, 48<br>PAIS: France",
          "PRODUTO: Mountain-200 Silver, 38<br>PAIS: Germany",
          "PRODUTO: Road-150 Red, 48<br>PAIS: Germany",
          "PRODUTO: Road-150 Red, 48<br>PAIS: Canada",
          "PRODUTO: Road-150 Red, 56<br>PAIS: Germany",
          "PRODUTO: Road-350-W Yellow, 40<br>PAIS: France"
         ],
         "type": "scatter",
         "x": [
          1,
          2,
          3,
          4,
          5,
          6,
          7,
          8,
          9,
          10,
          11,
          12,
          13,
          14,
          15,
          16,
          17,
          18,
          19,
          20,
          21,
          22,
          23,
          24,
          25,
          26,
          27,
          28,
          29,
          30,
          31,
          32,
          33,
          34,
          35,
          36,
          37,
          38,
          39,
          41,
          41,
          41,
          43,
          44,
          45,
          46,
          47,
          48,
          49.5,
          49.5,
          51,
          52,
          53,
          54,
          55,
          56,
          57.5,
          57.5,
          59,
          61,
          61,
          61,
          63,
          64,
          65.5,
          65.5,
          68,
          68,
          68,
          70,
          71,
          73,
          73,
          73,
          75
         ],
         "y": [
          113679.51,
          108863.36,
          107713.8192,
          105890.97,
          105569.54,
          103274.55,
          102079.56,
          98602.6054,
          96553.5072,
          96389.58,
          95119.59,
          90594.66,
          90479.61,
          89504.61,
          88159.62,
          85157.24,
          85080.9375,
          84036.75,
          80324.65,
          78536.25,
          78298.55,
          73952.34,
          72898.65,
          72253.35,
          70857.15,
          70738.69,
          64988.42,
          63867.93,
          62936.63,
          61199.82,
          58640.4,
          56720.625,
          56197.05,
          54431.68,
          53753.7,
          53674.05,
          53094.81,
          52619.2875,
          52379.03,
          51310.35,
          51310.35,
          51310.35,
          51029.7,
          51023.7,
          50624.85,
          49178.3568,
          48256.1625,
          47994.375,
          47681.4,
          47681.4,
          47249.86,
          46423.65,
          46074.6,
          45926.73,
          45297.33,
          44225.74,
          43980.3,
          43980.3,
          43276.954,
          42939.24,
          42939.24,
          42939.24,
          42913.26,
          42519.75,
          41711.475,
          41711.475,
          41536.95,
          41536.95,
          41536.95,
          41449.6875,
          39605.5428,
          39360.97,
          39360.97,
          39360.97,
          39122.77
         ]
        },
        {
         "marker": {
          "color": "rgba(150, 26, 80, 0.8)",
          "size": 8
         },
         "mode": "markers",
         "name": "Clothing",
         "text": [
          "PRODUTO: Long-Sleeve Logo Jersey, S<br>PAIS: Germany",
          "PRODUTO: Long-Sleeve Logo Jersey, XL<br>PAIS: France",
          "PRODUTO: Short-Sleeve Classic Jersey, M<br>PAIS: France",
          "PRODUTO: Long-Sleeve Logo Jersey, XL<br>PAIS: Germany",
          "PRODUTO: Short-Sleeve Classic Jersey, S<br>PAIS: France",
          "PRODUTO: Short-Sleeve Classic Jersey, S<br>PAIS: Germany",
          "PRODUTO: Short-Sleeve Classic Jersey, L<br>PAIS: France",
          "PRODUTO: Short-Sleeve Classic Jersey, L<br>PAIS: Germany",
          "PRODUTO: Short-Sleeve Classic Jersey, XL<br>PAIS: Germany",
          "PRODUTO: Short-Sleeve Classic Jersey, XL<br>PAIS: France",
          "PRODUTO: Women's Mountain Shorts, M<br>PAIS: France",
          "PRODUTO: Classic Vest, L<br>PAIS: France",
          "PRODUTO: Racing Socks, M<br>PAIS: United States",
          "PRODUTO: Women's Mountain Shorts, L<br>PAIS: France",
          "PRODUTO: Women's Mountain Shorts, S<br>PAIS: France",
          "PRODUTO: Classic Vest, M<br>PAIS: France",
          "PRODUTO: Classic Vest, S<br>PAIS: Germany",
          "PRODUTO: Short-Sleeve Classic Jersey, M<br>PAIS: Germany",
          "PRODUTO: Half-Finger Gloves, L<br>PAIS: France",
          "PRODUTO: Classic Vest, M<br>PAIS: Germany",
          "PRODUTO: Racing Socks, L<br>PAIS: United States",
          "PRODUTO: Half-Finger Gloves, S<br>PAIS: Germany",
          "PRODUTO: Half-Finger Gloves, L<br>PAIS: Germany",
          "PRODUTO: Women's Mountain Shorts, M<br>PAIS: United States",
          "PRODUTO: Half-Finger Gloves, M<br>PAIS: France",
          "PRODUTO: Half-Finger Gloves, S<br>PAIS: France",
          "PRODUTO: Women's Mountain Shorts, S<br>PAIS: United States",
          "PRODUTO: Classic Vest, L<br>PAIS: Germany",
          "PRODUTO: Women's Mountain Shorts, L<br>PAIS: Canada",
          "PRODUTO: Long-Sleeve Logo Jersey, S<br>PAIS: United States",
          "PRODUTO: Short-Sleeve Classic Jersey, M<br>PAIS: Australia",
          "PRODUTO: Half-Finger Gloves, M<br>PAIS: Germany",
          "PRODUTO: Women's Mountain Shorts, L<br>PAIS: United States",
          "PRODUTO: Long-Sleeve Logo Jersey, L<br>PAIS: United States",
          "PRODUTO: Women's Mountain Shorts, L<br>PAIS: Australia",
          "PRODUTO: Long-Sleeve Logo Jersey, M<br>PAIS: United States",
          "PRODUTO: Long-Sleeve Logo Jersey, XL<br>PAIS: United States",
          "PRODUTO: Long-Sleeve Logo Jersey, XL<br>PAIS: Canada",
          "PRODUTO: Short-Sleeve Classic Jersey, XL<br>PAIS: United States",
          "PRODUTO: Classic Vest, S<br>PAIS: France",
          "PRODUTO: Classic Vest, M<br>PAIS: United States",
          "PRODUTO: AWC Logo Cap<br>PAIS: United States",
          "PRODUTO: Women's Mountain Shorts, M<br>PAIS: Canada",
          "PRODUTO: Short-Sleeve Classic Jersey, XL<br>PAIS: Australia",
          "PRODUTO: Half-Finger Gloves, M<br>PAIS: United States",
          "PRODUTO: Classic Vest, S<br>PAIS: United States",
          "PRODUTO: Long-Sleeve Logo Jersey, M<br>PAIS: Canada",
          "PRODUTO: Half-Finger Gloves, S<br>PAIS: United States",
          "PRODUTO: Short-Sleeve Classic Jersey, M<br>PAIS: United States",
          "PRODUTO: Short-Sleeve Classic Jersey, M<br>PAIS: Canada",
          "PRODUTO: Short-Sleeve Classic Jersey, S<br>PAIS: Australia",
          "PRODUTO: Women's Mountain Shorts, S<br>PAIS: Germany",
          "PRODUTO: Long-Sleeve Logo Jersey, S<br>PAIS: United Kingdom",
          "PRODUTO: Long-Sleeve Logo Jersey, M<br>PAIS: United Kingdom",
          "PRODUTO: Long-Sleeve Logo Jersey, L<br>PAIS: United Kingdom",
          "PRODUTO: Classic Vest, L<br>PAIS: Canada",
          "PRODUTO: Classic Vest, M<br>PAIS: Australia",
          "PRODUTO: Racing Socks, M<br>PAIS: Germany",
          "PRODUTO: Short-Sleeve Classic Jersey, L<br>PAIS: Australia",
          "PRODUTO: Short-Sleeve Classic Jersey, S<br>PAIS: United States",
          "PRODUTO: Short-Sleeve Classic Jersey, L<br>PAIS: United States",
          "PRODUTO: Racing Socks, M<br>PAIS: France",
          "PRODUTO: Long-Sleeve Logo Jersey, L<br>PAIS: Australia",
          "PRODUTO: Long-Sleeve Logo Jersey, XL<br>PAIS: Canada",
          "PRODUTO: Long-Sleeve Logo Jersey, M<br>PAIS: France",
          "PRODUTO: Long-Sleeve Logo Jersey, S<br>PAIS: Australia",
          "PRODUTO: Half-Finger Gloves, M<br>PAIS: Australia",
          "PRODUTO: Half-Finger Gloves, S<br>PAIS: Canada",
          "PRODUTO: Women's Mountain Shorts, M<br>PAIS: Australia",
          "PRODUTO: Women's Mountain Shorts, L<br>PAIS: Germany",
          "PRODUTO: Women's Mountain Shorts, S<br>PAIS: Canada",
          "PRODUTO: Women's Mountain Shorts, M<br>PAIS: Germany",
          "PRODUTO: Classic Vest, L<br>PAIS: United States",
          "PRODUTO: Classic Vest, M<br>PAIS: United Kingdom",
          "PRODUTO: Classic Vest, M<br>PAIS: Canada"
         ],
         "type": "scatter",
         "x": [
          1,
          2,
          3,
          4,
          5.5,
          5.5,
          7,
          8.5,
          8.5,
          10,
          11,
          12,
          13,
          14,
          15,
          16.5,
          16.5,
          18,
          19,
          20,
          21,
          22,
          23,
          24,
          25,
          26,
          27,
          28,
          29,
          30,
          31,
          32,
          33,
          34,
          35,
          36.5,
          36.5,
          38,
          39,
          40.5,
          40.5,
          42,
          43,
          44,
          45,
          46,
          47,
          48,
          50,
          50,
          50,
          52,
          54,
          54,
          54,
          56.5,
          56.5,
          58,
          60,
          60,
          60,
          62,
          64.5,
          64.5,
          64.5,
          64.5,
          67.5,
          67.5,
          70.5,
          70.5,
          70.5,
          70.5,
          74,
          74,
          74
         ],
         "y": [
          1999.6,
          1949.61,
          1943.64,
          1749.65,
          1619.7,
          1619.7,
          1565.71,
          1511.72,
          1511.72,
          1403.74,
          1399.8,
          1206.5,
          1141.73,
          1119.84,
          1049.85,
          1016,
          1016,
          971.82,
          955.11,
          952.5,
          934.96,
          881.64,
          808.17,
          769.89,
          685.72,
          661.23,
          629.91,
          571.5,
          559.92,
          549.89,
          539.9,
          538.78,
          489.93,
          449.91,
          419.94,
          399.92,
          399.92,
          349.93,
          323.94,
          317.5,
          317.5,
          296.67,
          279.96,
          269.95,
          269.39,
          254,
          249.95,
          220.41,
          215.96,
          215.96,
          215.96,
          209.97,
          199.96,
          199.96,
          199.96,
          190.5,
          190.5,
          188.79,
          161.97,
          161.97,
          161.97,
          161.82,
          149.97,
          149.97,
          149.97,
          149.97,
          146.94,
          146.94,
          139.98,
          139.98,
          139.98,
          139.98,
          127,
          127,
          127
         ]
        }
       ],
       "layout": {
        "autosize": true,
        "paper_bgcolor": "rgb(243, 243, 243)",
        "plot_bgcolor": "rgb(243, 243, 243)",
        "template": {
         "data": {
          "bar": [
           {
            "error_x": {
             "color": "#2a3f5f"
            },
            "error_y": {
             "color": "#2a3f5f"
            },
            "marker": {
             "line": {
              "color": "#E5ECF6",
              "width": 0.5
             },
             "pattern": {
              "fillmode": "overlay",
              "size": 10,
              "solidity": 0.2
             }
            },
            "type": "bar"
           }
          ],
          "barpolar": [
           {
            "marker": {
             "line": {
              "color": "#E5ECF6",
              "width": 0.5
             },
             "pattern": {
              "fillmode": "overlay",
              "size": 10,
              "solidity": 0.2
             }
            },
            "type": "barpolar"
           }
          ],
          "carpet": [
           {
            "aaxis": {
             "endlinecolor": "#2a3f5f",
             "gridcolor": "white",
             "linecolor": "white",
             "minorgridcolor": "white",
             "startlinecolor": "#2a3f5f"
            },
            "baxis": {
             "endlinecolor": "#2a3f5f",
             "gridcolor": "white",
             "linecolor": "white",
             "minorgridcolor": "white",
             "startlinecolor": "#2a3f5f"
            },
            "type": "carpet"
           }
          ],
          "choropleth": [
           {
            "colorbar": {
             "outlinewidth": 0,
             "ticks": ""
            },
            "type": "choropleth"
           }
          ],
          "contour": [
           {
            "colorbar": {
             "outlinewidth": 0,
             "ticks": ""
            },
            "colorscale": [
             [
              0,
              "#0d0887"
             ],
             [
              0.1111111111111111,
              "#46039f"
             ],
             [
              0.2222222222222222,
              "#7201a8"
             ],
             [
              0.3333333333333333,
              "#9c179e"
             ],
             [
              0.4444444444444444,
              "#bd3786"
             ],
             [
              0.5555555555555556,
              "#d8576b"
             ],
             [
              0.6666666666666666,
              "#ed7953"
             ],
             [
              0.7777777777777778,
              "#fb9f3a"
             ],
             [
              0.8888888888888888,
              "#fdca26"
             ],
             [
              1,
              "#f0f921"
             ]
            ],
            "type": "contour"
           }
          ],
          "contourcarpet": [
           {
            "colorbar": {
             "outlinewidth": 0,
             "ticks": ""
            },
            "type": "contourcarpet"
           }
          ],
          "heatmap": [
           {
            "colorbar": {
             "outlinewidth": 0,
             "ticks": ""
            },
            "colorscale": [
             [
              0,
              "#0d0887"
             ],
             [
              0.1111111111111111,
              "#46039f"
             ],
             [
              0.2222222222222222,
              "#7201a8"
             ],
             [
              0.3333333333333333,
              "#9c179e"
             ],
             [
              0.4444444444444444,
              "#bd3786"
             ],
             [
              0.5555555555555556,
              "#d8576b"
             ],
             [
              0.6666666666666666,
              "#ed7953"
             ],
             [
              0.7777777777777778,
              "#fb9f3a"
             ],
             [
              0.8888888888888888,
              "#fdca26"
             ],
             [
              1,
              "#f0f921"
             ]
            ],
            "type": "heatmap"
           }
          ],
          "heatmapgl": [
           {
            "colorbar": {
             "outlinewidth": 0,
             "ticks": ""
            },
            "colorscale": [
             [
              0,
              "#0d0887"
             ],
             [
              0.1111111111111111,
              "#46039f"
             ],
             [
              0.2222222222222222,
              "#7201a8"
             ],
             [
              0.3333333333333333,
              "#9c179e"
             ],
             [
              0.4444444444444444,
              "#bd3786"
             ],
             [
              0.5555555555555556,
              "#d8576b"
             ],
             [
              0.6666666666666666,
              "#ed7953"
             ],
             [
              0.7777777777777778,
              "#fb9f3a"
             ],
             [
              0.8888888888888888,
              "#fdca26"
             ],
             [
              1,
              "#f0f921"
             ]
            ],
            "type": "heatmapgl"
           }
          ],
          "histogram": [
           {
            "marker": {
             "pattern": {
              "fillmode": "overlay",
              "size": 10,
              "solidity": 0.2
             }
            },
            "type": "histogram"
           }
          ],
          "histogram2d": [
           {
            "colorbar": {
             "outlinewidth": 0,
             "ticks": ""
            },
            "colorscale": [
             [
              0,
              "#0d0887"
             ],
             [
              0.1111111111111111,
              "#46039f"
             ],
             [
              0.2222222222222222,
              "#7201a8"
             ],
             [
              0.3333333333333333,
              "#9c179e"
             ],
             [
              0.4444444444444444,
              "#bd3786"
             ],
             [
              0.5555555555555556,
              "#d8576b"
             ],
             [
              0.6666666666666666,
              "#ed7953"
             ],
             [
              0.7777777777777778,
              "#fb9f3a"
             ],
             [
              0.8888888888888888,
              "#fdca26"
             ],
             [
              1,
              "#f0f921"
             ]
            ],
            "type": "histogram2d"
           }
          ],
          "histogram2dcontour": [
           {
            "colorbar": {
             "outlinewidth": 0,
             "ticks": ""
            },
            "colorscale": [
             [
              0,
              "#0d0887"
             ],
             [
              0.1111111111111111,
              "#46039f"
             ],
             [
              0.2222222222222222,
              "#7201a8"
             ],
             [
              0.3333333333333333,
              "#9c179e"
             ],
             [
              0.4444444444444444,
              "#bd3786"
             ],
             [
              0.5555555555555556,
              "#d8576b"
             ],
             [
              0.6666666666666666,
              "#ed7953"
             ],
             [
              0.7777777777777778,
              "#fb9f3a"
             ],
             [
              0.8888888888888888,
              "#fdca26"
             ],
             [
              1,
              "#f0f921"
             ]
            ],
            "type": "histogram2dcontour"
           }
          ],
          "mesh3d": [
           {
            "colorbar": {
             "outlinewidth": 0,
             "ticks": ""
            },
            "type": "mesh3d"
           }
          ],
          "parcoords": [
           {
            "line": {
             "colorbar": {
              "outlinewidth": 0,
              "ticks": ""
             }
            },
            "type": "parcoords"
           }
          ],
          "pie": [
           {
            "automargin": true,
            "type": "pie"
           }
          ],
          "scatter": [
           {
            "marker": {
             "colorbar": {
              "outlinewidth": 0,
              "ticks": ""
             }
            },
            "type": "scatter"
           }
          ],
          "scatter3d": [
           {
            "line": {
             "colorbar": {
              "outlinewidth": 0,
              "ticks": ""
             }
            },
            "marker": {
             "colorbar": {
              "outlinewidth": 0,
              "ticks": ""
             }
            },
            "type": "scatter3d"
           }
          ],
          "scattercarpet": [
           {
            "marker": {
             "colorbar": {
              "outlinewidth": 0,
              "ticks": ""
             }
            },
            "type": "scattercarpet"
           }
          ],
          "scattergeo": [
           {
            "marker": {
             "colorbar": {
              "outlinewidth": 0,
              "ticks": ""
             }
            },
            "type": "scattergeo"
           }
          ],
          "scattergl": [
           {
            "marker": {
             "colorbar": {
              "outlinewidth": 0,
              "ticks": ""
             }
            },
            "type": "scattergl"
           }
          ],
          "scattermapbox": [
           {
            "marker": {
             "colorbar": {
              "outlinewidth": 0,
              "ticks": ""
             }
            },
            "type": "scattermapbox"
           }
          ],
          "scatterpolar": [
           {
            "marker": {
             "colorbar": {
              "outlinewidth": 0,
              "ticks": ""
             }
            },
            "type": "scatterpolar"
           }
          ],
          "scatterpolargl": [
           {
            "marker": {
             "colorbar": {
              "outlinewidth": 0,
              "ticks": ""
             }
            },
            "type": "scatterpolargl"
           }
          ],
          "scatterternary": [
           {
            "marker": {
             "colorbar": {
              "outlinewidth": 0,
              "ticks": ""
             }
            },
            "type": "scatterternary"
           }
          ],
          "surface": [
           {
            "colorbar": {
             "outlinewidth": 0,
             "ticks": ""
            },
            "colorscale": [
             [
              0,
              "#0d0887"
             ],
             [
              0.1111111111111111,
              "#46039f"
             ],
             [
              0.2222222222222222,
              "#7201a8"
             ],
             [
              0.3333333333333333,
              "#9c179e"
             ],
             [
              0.4444444444444444,
              "#bd3786"
             ],
             [
              0.5555555555555556,
              "#d8576b"
             ],
             [
              0.6666666666666666,
              "#ed7953"
             ],
             [
              0.7777777777777778,
              "#fb9f3a"
             ],
             [
              0.8888888888888888,
              "#fdca26"
             ],
             [
              1,
              "#f0f921"
             ]
            ],
            "type": "surface"
           }
          ],
          "table": [
           {
            "cells": {
             "fill": {
              "color": "#EBF0F8"
             },
             "line": {
              "color": "white"
             }
            },
            "header": {
             "fill": {
              "color": "#C8D4E3"
             },
             "line": {
              "color": "white"
             }
            },
            "type": "table"
           }
          ]
         },
         "layout": {
          "annotationdefaults": {
           "arrowcolor": "#2a3f5f",
           "arrowhead": 0,
           "arrowwidth": 1
          },
          "autotypenumbers": "strict",
          "coloraxis": {
           "colorbar": {
            "outlinewidth": 0,
            "ticks": ""
           }
          },
          "colorscale": {
           "diverging": [
            [
             0,
             "#8e0152"
            ],
            [
             0.1,
             "#c51b7d"
            ],
            [
             0.2,
             "#de77ae"
            ],
            [
             0.3,
             "#f1b6da"
            ],
            [
             0.4,
             "#fde0ef"
            ],
            [
             0.5,
             "#f7f7f7"
            ],
            [
             0.6,
             "#e6f5d0"
            ],
            [
             0.7,
             "#b8e186"
            ],
            [
             0.8,
             "#7fbc41"
            ],
            [
             0.9,
             "#4d9221"
            ],
            [
             1,
             "#276419"
            ]
           ],
           "sequential": [
            [
             0,
             "#0d0887"
            ],
            [
             0.1111111111111111,
             "#46039f"
            ],
            [
             0.2222222222222222,
             "#7201a8"
            ],
            [
             0.3333333333333333,
             "#9c179e"
            ],
            [
             0.4444444444444444,
             "#bd3786"
            ],
            [
             0.5555555555555556,
             "#d8576b"
            ],
            [
             0.6666666666666666,
             "#ed7953"
            ],
            [
             0.7777777777777778,
             "#fb9f3a"
            ],
            [
             0.8888888888888888,
             "#fdca26"
            ],
            [
             1,
             "#f0f921"
            ]
           ],
           "sequentialminus": [
            [
             0,
             "#0d0887"
            ],
            [
             0.1111111111111111,
             "#46039f"
            ],
            [
             0.2222222222222222,
             "#7201a8"
            ],
            [
             0.3333333333333333,
             "#9c179e"
            ],
            [
             0.4444444444444444,
             "#bd3786"
            ],
            [
             0.5555555555555556,
             "#d8576b"
            ],
            [
             0.6666666666666666,
             "#ed7953"
            ],
            [
             0.7777777777777778,
             "#fb9f3a"
            ],
            [
             0.8888888888888888,
             "#fdca26"
            ],
            [
             1,
             "#f0f921"
            ]
           ]
          },
          "colorway": [
           "#636efa",
           "#EF553B",
           "#00cc96",
           "#ab63fa",
           "#FFA15A",
           "#19d3f3",
           "#FF6692",
           "#B6E880",
           "#FF97FF",
           "#FECB52"
          ],
          "font": {
           "color": "#2a3f5f"
          },
          "geo": {
           "bgcolor": "white",
           "lakecolor": "white",
           "landcolor": "#E5ECF6",
           "showlakes": true,
           "showland": true,
           "subunitcolor": "white"
          },
          "hoverlabel": {
           "align": "left"
          },
          "hovermode": "closest",
          "mapbox": {
           "style": "light"
          },
          "paper_bgcolor": "white",
          "plot_bgcolor": "#E5ECF6",
          "polar": {
           "angularaxis": {
            "gridcolor": "white",
            "linecolor": "white",
            "ticks": ""
           },
           "bgcolor": "#E5ECF6",
           "radialaxis": {
            "gridcolor": "white",
            "linecolor": "white",
            "ticks": ""
           }
          },
          "scene": {
           "xaxis": {
            "backgroundcolor": "#E5ECF6",
            "gridcolor": "white",
            "gridwidth": 2,
            "linecolor": "white",
            "showbackground": true,
            "ticks": "",
            "zerolinecolor": "white"
           },
           "yaxis": {
            "backgroundcolor": "#E5ECF6",
            "gridcolor": "white",
            "gridwidth": 2,
            "linecolor": "white",
            "showbackground": true,
            "ticks": "",
            "zerolinecolor": "white"
           },
           "zaxis": {
            "backgroundcolor": "#E5ECF6",
            "gridcolor": "white",
            "gridwidth": 2,
            "linecolor": "white",
            "showbackground": true,
            "ticks": "",
            "zerolinecolor": "white"
           }
          },
          "shapedefaults": {
           "line": {
            "color": "#2a3f5f"
           }
          },
          "ternary": {
           "aaxis": {
            "gridcolor": "white",
            "linecolor": "white",
            "ticks": ""
           },
           "baxis": {
            "gridcolor": "white",
            "linecolor": "white",
            "ticks": ""
           },
           "bgcolor": "#E5ECF6",
           "caxis": {
            "gridcolor": "white",
            "linecolor": "white",
            "ticks": ""
           }
          },
          "title": {
           "x": 0.05
          },
          "xaxis": {
           "automargin": true,
           "gridcolor": "white",
           "linecolor": "white",
           "ticks": "",
           "title": {
            "standoff": 15
           },
           "zerolinecolor": "white",
           "zerolinewidth": 2
          },
          "yaxis": {
           "automargin": true,
           "gridcolor": "white",
           "linecolor": "white",
           "ticks": "",
           "title": {
            "standoff": 15
           },
           "zerolinecolor": "white",
           "zerolinewidth": 2
          }
         }
        },
        "title": {
         "text": "TOP VENDAS DE PRODUTO POR CATEGORIA"
        },
        "xaxis": {
         "autorange": true,
         "gridcolor": "white",
         "range": [
          -3.4314657523572043,
          79.4314657523572
         ],
         "ticklen": 5,
         "title": {
          "text": "RANK"
         },
         "type": "linear",
         "zeroline": false,
         "zerolinewidth": 1
        },
        "yaxis": {
         "autorange": true,
         "gridcolor": "white",
         "range": [
          -10331.783815789473,
          124138.29381578947
         ],
         "ticklen": 5,
         "title": {
          "text": "VENDAS"
         },
         "type": "linear",
         "zeroline": false,
         "zerolinewidth": 1
        }
       }
      },
      "image/png": "[encoded data removed]",
      "text/html": [
       "<div>                            <div id=\"2b046948-b6a5-4cf5-891f-682d79782d07\" class=\"plotly-graph-div\" style=\"height:525px; width:100%;\"></div>            <script type=\"text/javascript\">                require([\"plotly\"], function(Plotly) {                    window.PLOTLYENV=window.PLOTLYENV || {};                                    if (document.getElementById(\"2b046948-b6a5-4cf5-891f-682d79782d07\")) {                    Plotly.newPlot(                        \"2b046948-b6a5-4cf5-891f-682d79782d07\",                        [{\"marker\":{\"color\":\"rgba(28, 149, 249, 0.8)\",\"size\":8},\"mode\":\"markers\",\"name\":\"Accessories\",\"text\":[\"PRODUTO: Fender Set - Mountain<br>PAIS: Germany\",\"PRODUTO: Touring Tire<br>PAIS: Germany\",\"PRODUTO: All-Purpose Bike Stand<br>PAIS: Germany\",\"PRODUTO: LL Road Tire<br>PAIS: Germany\",\"PRODUTO: Hitch Rack - 4-Bike<br>PAIS: France\",\"PRODUTO: Hydration Pack - 70 oz.<br>PAIS: France\",\"PRODUTO: LL Road Tire<br>PAIS: France\",\"PRODUTO: All-Purpose Bike Stand<br>PAIS: France\",\"PRODUTO: HL Mountain Tire<br>PAIS: Germany\",\"PRODUTO: ML Road Tire<br>PAIS: France\",\"PRODUTO: Bike Wash - Dissolver<br>PAIS: United States\",\"PRODUTO: Hitch Rack - 4-Bike<br>PAIS: Germany\",\"PRODUTO: ML Mountain Tire<br>PAIS: France\",\"PRODUTO: Patch Kit/8 Patches<br>PAIS: United States\",\"PRODUTO: Road Tire Tube<br>PAIS: United States\",\"PRODUTO: ML Mountain Tire<br>PAIS: Germany\",\"PRODUTO: HL Road Tire<br>PAIS: France\",\"PRODUTO: HL Mountain Tire<br>PAIS: France\",\"PRODUTO: Fender Set - Mountain<br>PAIS: France\",\"PRODUTO: ML Road Tire<br>PAIS: Germany\",\"PRODUTO: Hydration Pack - 70 oz.<br>PAIS: Germany\",\"PRODUTO: Water Bottle - 30 oz.<br>PAIS: Germany\",\"PRODUTO: Mountain Bottle Cage<br>PAIS: Germany\",\"PRODUTO: Touring Tire Tube<br>PAIS: United States\",\"PRODUTO: Water Bottle - 30 oz.<br>PAIS: France\",\"PRODUTO: LL Mountain Tire<br>PAIS: Germany\",\"PRODUTO: Mountain Bottle Cage<br>PAIS: France\",\"PRODUTO: Road Bottle Cage<br>PAIS: France\",\"PRODUTO: Road Bottle Cage<br>PAIS: Germany\",\"PRODUTO: LL Mountain Tire<br>PAIS: France\",\"PRODUTO: Touring Tire Tube<br>PAIS: France\",\"PRODUTO: Sport-100 Helmet, Black<br>PAIS: United States\",\"PRODUTO: HL Road Tire<br>PAIS: Germany\",\"PRODUTO: Road Tire Tube<br>PAIS: France\",\"PRODUTO: HL Mountain Tire<br>PAIS: United States\",\"PRODUTO: Road Tire Tube<br>PAIS: Germany\",\"PRODUTO: Sport-100 Helmet, Blue<br>PAIS: United States\",\"PRODUTO: Hitch Rack - 4-Bike<br>PAIS: United States\",\"PRODUTO: Sport-100 Helmet, Red<br>PAIS: United States\",\"PRODUTO: Mountain Tire Tube<br>PAIS: Germany\",\"PRODUTO: Touring Tire Tube<br>PAIS: Germany\",\"PRODUTO: Fender Set - Mountain<br>PAIS: United States\",\"PRODUTO: Mountain Tire Tube<br>PAIS: France\",\"PRODUTO: All-Purpose Bike Stand<br>PAIS: Australia\",\"PRODUTO: ML Mountain Tire<br>PAIS: United States\",\"PRODUTO: Sport-100 Helmet, Red<br>PAIS: Canada\",\"PRODUTO: HL Road Tire<br>PAIS: Canada\",\"PRODUTO: Patch Kit/8 Patches<br>PAIS: France\",\"PRODUTO: Hitch Rack - 4-Bike<br>PAIS: Canada\",\"PRODUTO: HL Road Tire<br>PAIS: United States\",\"PRODUTO: Hydration Pack - 70 oz.<br>PAIS: United States\",\"PRODUTO: Patch Kit/8 Patches<br>PAIS: Germany\",\"PRODUTO: Fender Set - Mountain<br>PAIS: Canada\",\"PRODUTO: Sport-100 Helmet, Black<br>PAIS: Canada\",\"PRODUTO: LL Mountain Tire<br>PAIS: United States\",\"PRODUTO: Bike Wash - Dissolver<br>PAIS: Germany\",\"PRODUTO: Sport-100 Helmet, Blue<br>PAIS: Canada\",\"PRODUTO: All-Purpose Bike Stand<br>PAIS: United States\",\"PRODUTO: Sport-100 Helmet, Blue<br>PAIS: Australia\",\"PRODUTO: Sport-100 Helmet, Red<br>PAIS: Australia\",\"PRODUTO: Sport-100 Helmet, Blue<br>PAIS: France\",\"PRODUTO: ML Mountain Tire<br>PAIS: Australia\",\"PRODUTO: Bike Wash - Dissolver<br>PAIS: France\",\"PRODUTO: ML Mountain Tire<br>PAIS: Canada\",\"PRODUTO: LL Road Tire<br>PAIS: Australia\",\"PRODUTO: HL Mountain Tire<br>PAIS: Canada\",\"PRODUTO: Sport-100 Helmet, Black<br>PAIS: Australia\",\"PRODUTO: Touring Tire<br>PAIS: United States\",\"PRODUTO: Hitch Rack - 4-Bike<br>PAIS: Germany\",\"PRODUTO: Mountain Tire Tube<br>PAIS: United States\",\"PRODUTO: Mountain Bottle Cage<br>PAIS: United States\",\"PRODUTO: Hydration Pack - 70 oz.<br>PAIS: Australia\",\"PRODUTO: LL Mountain Tire<br>PAIS: Canada\",\"PRODUTO: All-Purpose Bike Stand<br>PAIS: Canada\",\"PRODUTO: Sport-100 Helmet, Black<br>PAIS: Germany\"],\"type\":\"scatter\",\"x\":[1.0,2.0,3.0,4.0,5.0,6.0,7.0,8.0,9.0,10.0,11.0,12.0,13.0,14.0,15.0,16.0,17.0,18.0,19.0,20.0,21.0,22.0,23.0,24.0,25.0,26.0,27.0,28.0,29.0,30.0,31.0,32.0,33.0,34.0,35.0,36.0,37.0,38.0,39.0,40.0,41.0,42.0,43.0,44.0,45.0,46.0,47.0,48.0,49.0,50.0,51.0,52.0,53.0,54.0,55.0,56.0,57.0,58.0,60.0,60.0,60.0,62.0,63.0,64.0,65.0,66.0,67.0,68.0,69.0,70.0,71.0,72.0,73.0,74.0,75.0],\"y\":[3406.9,3304.86,3180.0,3094.56,2880.0,2804.49,2772.21,2703.0,2695.0,2648.94,2647.35,2520.0,2519.16,2507.55,2497.74,2489.17,2249.4,2205.0,2132.06,2099.16,1979.64,1876.24,1798.2,1701.59,1676.64,1674.33,1628.37,1564.26,1537.29,1324.47,1307.38,1259.64,1108.4,1069.32,1050.0,1033.41,1014.71,960.0,909.74,908.18,863.27,857.22,833.33,795.0,779.74,664.81,652.0,606.85,600.0,554.2,549.9,540.44,527.52,524.85,524.79,500.85,489.86,477.0,454.87,454.87,454.87,449.85,413.4,389.87,386.82,385.0,384.89,376.87,360.0,359.28,339.66,329.94,324.87,318.0,314.91]},{\"marker\":{\"color\":\"rgba(249, 94, 28, 0.8)\",\"size\":8},\"mode\":\"markers\",\"name\":\"Bikes\",\"text\":[\"PRODUTO: Mountain-200 Silver, 38<br>PAIS: Germany\",\"PRODUTO: Road-350-W Yellow, 48<br>PAIS: United States\",\"PRODUTO: Mountain-200 Silver, 42<br>PAIS: United States\",\"PRODUTO: Mountain-200 Silver, 38<br>PAIS: United States\",\"PRODUTO: Mountain-200 Black, 46<br>PAIS: France\",\"PRODUTO: Mountain-200 Black, 38<br>PAIS: Germany\",\"PRODUTO: Mountain-200 Silver, 46<br>PAIS: France\",\"PRODUTO: Mountain-200 Black, 38<br>PAIS: United States\",\"PRODUTO: Mountain-200 Black, 42<br>PAIS: United States\",\"PRODUTO: Mountain-200 Black, 38<br>PAIS: France\",\"PRODUTO: Mountain-200 Silver, 42<br>PAIS: France\",\"PRODUTO: Touring-1000 Yellow, 60<br>PAIS: United States\",\"PRODUTO: Mountain-200 Silver, 42<br>PAIS: Germany\",\"PRODUTO: Mountain-200 Black, 42<br>PAIS: Germany\",\"PRODUTO: Mountain-200 Silver, 38<br>PAIS: France\",\"PRODUTO: Road-550-W Yellow, 42<br>PAIS: United States\",\"PRODUTO: Road-250 Black, 48<br>PAIS: United States\",\"PRODUTO: Road-550-W Yellow, 44<br>PAIS: United States\",\"PRODUTO: Mountain-200 Black, 42<br>PAIS: France\",\"PRODUTO: Road-250 Red, 58<br>PAIS: United States\",\"PRODUTO: Road-750 Black, 44<br>PAIS: United States\",\"PRODUTO: Road-550-W Yellow, 48<br>PAIS: United States\",\"PRODUTO: Road-750 Black, 48<br>PAIS: United States\",\"PRODUTO: Road-250 Black, 52<br>PAIS: United States\",\"PRODUTO: Road-250 Red, 48<br>PAIS: United States\",\"PRODUTO: Road-750 Black, 52<br>PAIS: United States\",\"PRODUTO: Road-550-W Yellow, 38<br>PAIS: United States\",\"PRODUTO: Road-550-W Yellow, 40<br>PAIS: United States\",\"PRODUTO: Road-350-W Yellow, 40<br>PAIS: Germany\",\"PRODUTO: Mountain-100 Silver, 38<br>PAIS: United States\",\"PRODUTO: Road-250 Black, 44<br>PAIS: United States\",\"PRODUTO: Road-250 Black, 58<br>PAIS: France\",\"PRODUTO: Road-250 Red, 52<br>PAIS: United States\",\"PRODUTO: Road-350-W Yellow, 48<br>PAIS: France\",\"PRODUTO: Road-250 Red, 48<br>PAIS: Germany\",\"PRODUTO: Road-150 Red, 44<br>PAIS: Germany\",\"PRODUTO: Mountain-400-W Silver, 38<br>PAIS: United States\",\"PRODUTO: Road-250 Black, 52<br>PAIS: Germany\",\"PRODUTO: Road-750 Black, 58<br>PAIS: United States\",\"PRODUTO: Road-250 Red, 44<br>PAIS: Germany\",\"PRODUTO: Road-250 Red, 44<br>PAIS: United States\",\"PRODUTO: Road-250 Red, 44<br>PAIS: France\",\"PRODUTO: Road-350-W Yellow, 44<br>PAIS: France\",\"PRODUTO: Touring-2000 Blue, 50<br>PAIS: United States\",\"PRODUTO: Mountain-100 Black, 44<br>PAIS: United States\",\"PRODUTO: Mountain-200 Black, 42<br>PAIS: France\",\"PRODUTO: Road-250 Red, 58<br>PAIS: France\",\"PRODUTO: Road-250 Black, 58<br>PAIS: United States\",\"PRODUTO: Touring-1000 Yellow, 60<br>PAIS: Germany\",\"PRODUTO: Touring-1000 Blue, 50<br>PAIS: Germany\",\"PRODUTO: Mountain-100 Black, 48<br>PAIS: United States\",\"PRODUTO: Road-250 Red, 52<br>PAIS: France\",\"PRODUTO: Road-250 Black, 52<br>PAIS: France\",\"PRODUTO: Road-350-W Yellow, 48<br>PAIS: Germany\",\"PRODUTO: Touring-1000 Blue, 54<br>PAIS: Germany\",\"PRODUTO: Road-350-W Yellow, 42<br>PAIS: Germany\",\"PRODUTO: Road-250 Black, 58<br>PAIS: United States\",\"PRODUTO: Road-250 Red, 58<br>PAIS: United States\",\"PRODUTO: Mountain-200 Black, 46<br>PAIS: Germany\",\"PRODUTO: Road-150 Red, 52<br>PAIS: France\",\"PRODUTO: Road-150 Red, 44<br>PAIS: France\",\"PRODUTO: Road-150 Red, 62<br>PAIS: Germany\",\"PRODUTO: Touring-1000 Yellow, 46<br>PAIS: France\",\"PRODUTO: Touring-2000 Blue, 46<br>PAIS: United States\",\"PRODUTO: Road-250 Black, 44<br>PAIS: Germany\",\"PRODUTO: Road-250 Red, 58<br>PAIS: Germany\",\"PRODUTO: Road-250 Black, 48<br>PAIS: France\",\"PRODUTO: Road-250 Black, 44<br>PAIS: France\",\"PRODUTO: Road-250 Black, 52<br>PAIS: France\",\"PRODUTO: Road-250 Black, 48<br>PAIS: France\",\"PRODUTO: Mountain-200 Silver, 38<br>PAIS: Germany\",\"PRODUTO: Road-150 Red, 48<br>PAIS: Germany\",\"PRODUTO: Road-150 Red, 48<br>PAIS: Canada\",\"PRODUTO: Road-150 Red, 56<br>PAIS: Germany\",\"PRODUTO: Road-350-W Yellow, 40<br>PAIS: France\"],\"type\":\"scatter\",\"x\":[1.0,2.0,3.0,4.0,5.0,6.0,7.0,8.0,9.0,10.0,11.0,12.0,13.0,14.0,15.0,16.0,17.0,18.0,19.0,20.0,21.0,22.0,23.0,24.0,25.0,26.0,27.0,28.0,29.0,30.0,31.0,32.0,33.0,34.0,35.0,36.0,37.0,38.0,39.0,41.0,41.0,41.0,43.0,44.0,45.0,46.0,47.0,48.0,49.5,49.5,51.0,52.0,53.0,54.0,55.0,56.0,57.5,57.5,59.0,61.0,61.0,61.0,63.0,64.0,65.5,65.5,68.0,68.0,68.0,70.0,71.0,73.0,73.0,73.0,75.0],\"y\":[113679.51,108863.36,107713.8192,105890.97,105569.54,103274.55,102079.56,98602.6054,96553.5072,96389.58,95119.59,90594.66,90479.61,89504.61,88159.62,85157.24,85080.9375,84036.75,80324.65,78536.25,78298.55,73952.34,72898.65,72253.35,70857.15,70738.69,64988.42,63867.93,62936.63,61199.82,58640.4,56720.625,56197.05,54431.68,53753.7,53674.05,53094.81,52619.2875,52379.03,51310.35,51310.35,51310.35,51029.7,51023.7,50624.85,49178.3568,48256.1625,47994.375,47681.4,47681.4,47249.86,46423.65,46074.6,45926.73,45297.33,44225.74,43980.3,43980.3,43276.954,42939.24,42939.24,42939.24,42913.26,42519.75,41711.475,41711.475,41536.95,41536.95,41536.95,41449.6875,39605.5428,39360.97,39360.97,39360.97,39122.77]},{\"marker\":{\"color\":\"rgba(150, 26, 80, 0.8)\",\"size\":8},\"mode\":\"markers\",\"name\":\"Clothing\",\"text\":[\"PRODUTO: Long-Sleeve Logo Jersey, S<br>PAIS: Germany\",\"PRODUTO: Long-Sleeve Logo Jersey, XL<br>PAIS: France\",\"PRODUTO: Short-Sleeve Classic Jersey, M<br>PAIS: France\",\"PRODUTO: Long-Sleeve Logo Jersey, XL<br>PAIS: Germany\",\"PRODUTO: Short-Sleeve Classic Jersey, S<br>PAIS: France\",\"PRODUTO: Short-Sleeve Classic Jersey, S<br>PAIS: Germany\",\"PRODUTO: Short-Sleeve Classic Jersey, L<br>PAIS: France\",\"PRODUTO: Short-Sleeve Classic Jersey, L<br>PAIS: Germany\",\"PRODUTO: Short-Sleeve Classic Jersey, XL<br>PAIS: Germany\",\"PRODUTO: Short-Sleeve Classic Jersey, XL<br>PAIS: France\",\"PRODUTO: Women's Mountain Shorts, M<br>PAIS: France\",\"PRODUTO: Classic Vest, L<br>PAIS: France\",\"PRODUTO: Racing Socks, M<br>PAIS: United States\",\"PRODUTO: Women's Mountain Shorts, L<br>PAIS: France\",\"PRODUTO: Women's Mountain Shorts, S<br>PAIS: France\",\"PRODUTO: Classic Vest, M<br>PAIS: France\",\"PRODUTO: Classic Vest, S<br>PAIS: Germany\",\"PRODUTO: Short-Sleeve Classic Jersey, M<br>PAIS: Germany\",\"PRODUTO: Half-Finger Gloves, L<br>PAIS: France\",\"PRODUTO: Classic Vest, M<br>PAIS: Germany\",\"PRODUTO: Racing Socks, L<br>PAIS: United States\",\"PRODUTO: Half-Finger Gloves, S<br>PAIS: Germany\",\"PRODUTO: Half-Finger Gloves, L<br>PAIS: Germany\",\"PRODUTO: Women's Mountain Shorts, M<br>PAIS: United States\",\"PRODUTO: Half-Finger Gloves, M<br>PAIS: France\",\"PRODUTO: Half-Finger Gloves, S<br>PAIS: France\",\"PRODUTO: Women's Mountain Shorts, S<br>PAIS: United States\",\"PRODUTO: Classic Vest, L<br>PAIS: Germany\",\"PRODUTO: Women's Mountain Shorts, L<br>PAIS: Canada\",\"PRODUTO: Long-Sleeve Logo Jersey, S<br>PAIS: United States\",\"PRODUTO: Short-Sleeve Classic Jersey, M<br>PAIS: Australia\",\"PRODUTO: Half-Finger Gloves, M<br>PAIS: Germany\",\"PRODUTO: Women's Mountain Shorts, L<br>PAIS: United States\",\"PRODUTO: Long-Sleeve Logo Jersey, L<br>PAIS: United States\",\"PRODUTO: Women's Mountain Shorts, L<br>PAIS: Australia\",\"PRODUTO: Long-Sleeve Logo Jersey, M<br>PAIS: United States\",\"PRODUTO: Long-Sleeve Logo Jersey, XL<br>PAIS: United States\",\"PRODUTO: Long-Sleeve Logo Jersey, XL<br>PAIS: Canada\",\"PRODUTO: Short-Sleeve Classic Jersey, XL<br>PAIS: United States\",\"PRODUTO: Classic Vest, S<br>PAIS: France\",\"PRODUTO: Classic Vest, M<br>PAIS: United States\",\"PRODUTO: AWC Logo Cap<br>PAIS: United States\",\"PRODUTO: Women's Mountain Shorts, M<br>PAIS: Canada\",\"PRODUTO: Short-Sleeve Classic Jersey, XL<br>PAIS: Australia\",\"PRODUTO: Half-Finger Gloves, M<br>PAIS: United States\",\"PRODUTO: Classic Vest, S<br>PAIS: United States\",\"PRODUTO: Long-Sleeve Logo Jersey, M<br>PAIS: Canada\",\"PRODUTO: Half-Finger Gloves, S<br>PAIS: United States\",\"PRODUTO: Short-Sleeve Classic Jersey, M<br>PAIS: United States\",\"PRODUTO: Short-Sleeve Classic Jersey, M<br>PAIS: Canada\",\"PRODUTO: Short-Sleeve Classic Jersey, S<br>PAIS: Australia\",\"PRODUTO: Women's Mountain Shorts, S<br>PAIS: Germany\",\"PRODUTO: Long-Sleeve Logo Jersey, S<br>PAIS: United Kingdom\",\"PRODUTO: Long-Sleeve Logo Jersey, M<br>PAIS: United Kingdom\",\"PRODUTO: Long-Sleeve Logo Jersey, L<br>PAIS: United Kingdom\",\"PRODUTO: Classic Vest, L<br>PAIS: Canada\",\"PRODUTO: Classic Vest, M<br>PAIS: Australia\",\"PRODUTO: Racing Socks, M<br>PAIS: Germany\",\"PRODUTO: Short-Sleeve Classic Jersey, L<br>PAIS: Australia\",\"PRODUTO: Short-Sleeve Classic Jersey, S<br>PAIS: United States\",\"PRODUTO: Short-Sleeve Classic Jersey, L<br>PAIS: United States\",\"PRODUTO: Racing Socks, M<br>PAIS: France\",\"PRODUTO: Long-Sleeve Logo Jersey, L<br>PAIS: Australia\",\"PRODUTO: Long-Sleeve Logo Jersey, XL<br>PAIS: Canada\",\"PRODUTO: Long-Sleeve Logo Jersey, M<br>PAIS: France\",\"PRODUTO: Long-Sleeve Logo Jersey, S<br>PAIS: Australia\",\"PRODUTO: Half-Finger Gloves, M<br>PAIS: Australia\",\"PRODUTO: Half-Finger Gloves, S<br>PAIS: Canada\",\"PRODUTO: Women's Mountain Shorts, M<br>PAIS: Australia\",\"PRODUTO: Women's Mountain Shorts, L<br>PAIS: Germany\",\"PRODUTO: Women's Mountain Shorts, S<br>PAIS: Canada\",\"PRODUTO: Women's Mountain Shorts, M<br>PAIS: Germany\",\"PRODUTO: Classic Vest, L<br>PAIS: United States\",\"PRODUTO: Classic Vest, M<br>PAIS: United Kingdom\",\"PRODUTO: Classic Vest, M<br>PAIS: Canada\"],\"type\":\"scatter\",\"x\":[1.0,2.0,3.0,4.0,5.5,5.5,7.0,8.5,8.5,10.0,11.0,12.0,13.0,14.0,15.0,16.5,16.5,18.0,19.0,20.0,21.0,22.0,23.0,24.0,25.0,26.0,27.0,28.0,29.0,30.0,31.0,32.0,33.0,34.0,35.0,36.5,36.5,38.0,39.0,40.5,40.5,42.0,43.0,44.0,45.0,46.0,47.0,48.0,50.0,50.0,50.0,52.0,54.0,54.0,54.0,56.5,56.5,58.0,60.0,60.0,60.0,62.0,64.5,64.5,64.5,64.5,67.5,67.5,70.5,70.5,70.5,70.5,74.0,74.0,74.0],\"y\":[1999.6,1949.61,1943.64,1749.65,1619.7,1619.7,1565.71,1511.72,1511.72,1403.74,1399.8,1206.5,1141.73,1119.84,1049.85,1016.0,1016.0,971.82,955.11,952.5,934.96,881.64,808.17,769.89,685.72,661.23,629.91,571.5,559.92,549.89,539.9,538.78,489.93,449.91,419.94,399.92,399.92,349.93,323.94,317.5,317.5,296.67,279.96,269.95,269.39,254.0,249.95,220.41,215.96,215.96,215.96,209.97,199.96,199.96,199.96,190.5,190.5,188.79,161.97,161.97,161.97,161.82,149.97,149.97,149.97,149.97,146.94,146.94,139.98,139.98,139.98,139.98,127.0,127.0,127.0]}],                        {\"paper_bgcolor\":\"rgb(243, 243, 243)\",\"plot_bgcolor\":\"rgb(243, 243, 243)\",\"template\":{\"data\":{\"bar\":[{\"error_x\":{\"color\":\"#2a3f5f\"},\"error_y\":{\"color\":\"#2a3f5f\"},\"marker\":{\"line\":{\"color\":\"#E5ECF6\",\"width\":0.5},\"pattern\":{\"fillmode\":\"overlay\",\"size\":10,\"solidity\":0.2}},\"type\":\"bar\"}],\"barpolar\":[{\"marker\":{\"line\":{\"color\":\"#E5ECF6\",\"width\":0.5},\"pattern\":{\"fillmode\":\"overlay\",\"size\":10,\"solidity\":0.2}},\"type\":\"barpolar\"}],\"carpet\":[{\"aaxis\":{\"endlinecolor\":\"#2a3f5f\",\"gridcolor\":\"white\",\"linecolor\":\"white\",\"minorgridcolor\":\"white\",\"startlinecolor\":\"#2a3f5f\"},\"baxis\":{\"endlinecolor\":\"#2a3f5f\",\"gridcolor\":\"white\",\"linecolor\":\"white\",\"minorgridcolor\":\"white\",\"startlinecolor\":\"#2a3f5f\"},\"type\":\"carpet\"}],\"choropleth\":[{\"colorbar\":{\"outlinewidth\":0,\"ticks\":\"\"},\"type\":\"choropleth\"}],\"contour\":[{\"colorbar\":{\"outlinewidth\":0,\"ticks\":\"\"},\"colorscale\":[[0.0,\"#0d0887\"],[0.1111111111111111,\"#46039f\"],[0.2222222222222222,\"#7201a8\"],[0.3333333333333333,\"#9c179e\"],[0.4444444444444444,\"#bd3786\"],[0.5555555555555556,\"#d8576b\"],[0.6666666666666666,\"#ed7953\"],[0.7777777777777778,\"#fb9f3a\"],[0.8888888888888888,\"#fdca26\"],[1.0,\"#f0f921\"]],\"type\":\"contour\"}],\"contourcarpet\":[{\"colorbar\":{\"outlinewidth\":0,\"ticks\":\"\"},\"type\":\"contourcarpet\"}],\"heatmap\":[{\"colorbar\":{\"outlinewidth\":0,\"ticks\":\"\"},\"colorscale\":[[0.0,\"#0d0887\"],[0.1111111111111111,\"#46039f\"],[0.2222222222222222,\"#7201a8\"],[0.3333333333333333,\"#9c179e\"],[0.4444444444444444,\"#bd3786\"],[0.5555555555555556,\"#d8576b\"],[0.6666666666666666,\"#ed7953\"],[0.7777777777777778,\"#fb9f3a\"],[0.8888888888888888,\"#fdca26\"],[1.0,\"#f0f921\"]],\"type\":\"heatmap\"}],\"heatmapgl\":[{\"colorbar\":{\"outlinewidth\":0,\"ticks\":\"\"},\"colorscale\":[[0.0,\"#0d0887\"],[0.1111111111111111,\"#46039f\"],[0.2222222222222222,\"#7201a8\"],[0.3333333333333333,\"#9c179e\"],[0.4444444444444444,\"#bd3786\"],[0.5555555555555556,\"#d8576b\"],[0.6666666666666666,\"#ed7953\"],[0.7777777777777778,\"#fb9f3a\"],[0.8888888888888888,\"#fdca26\"],[1.0,\"#f0f921\"]],\"type\":\"heatmapgl\"}],\"histogram\":[{\"marker\":{\"pattern\":{\"fillmode\":\"overlay\",\"size\":10,\"solidity\":0.2}},\"type\":\"histogram\"}],\"histogram2d\":[{\"colorbar\":{\"outlinewidth\":0,\"ticks\":\"\"},\"colorscale\":[[0.0,\"#0d0887\"],[0.1111111111111111,\"#46039f\"],[0.2222222222222222,\"#7201a8\"],[0.3333333333333333,\"#9c179e\"],[0.4444444444444444,\"#bd3786\"],[0.5555555555555556,\"#d8576b\"],[0.6666666666666666,\"#ed7953\"],[0.7777777777777778,\"#fb9f3a\"],[0.8888888888888888,\"#fdca26\"],[1.0,\"#f0f921\"]],\"type\":\"histogram2d\"}],\"histogram2dcontour\":[{\"colorbar\":{\"outlinewidth\":0,\"ticks\":\"\"},\"colorscale\":[[0.0,\"#0d0887\"],[0.1111111111111111,\"#46039f\"],[0.2222222222222222,\"#7201a8\"],[0.3333333333333333,\"#9c179e\"],[0.4444444444444444,\"#bd3786\"],[0.5555555555555556,\"#d8576b\"],[0.6666666666666666,\"#ed7953\"],[0.7777777777777778,\"#fb9f3a\"],[0.8888888888888888,\"#fdca26\"],[1.0,\"#f0f921\"]],\"type\":\"histogram2dcontour\"}],\"mesh3d\":[{\"colorbar\":{\"outlinewidth\":0,\"ticks\":\"\"},\"type\":\"mesh3d\"}],\"parcoords\":[{\"line\":{\"colorbar\":{\"outlinewidth\":0,\"ticks\":\"\"}},\"type\":\"parcoords\"}],\"pie\":[{\"automargin\":true,\"type\":\"pie\"}],\"scatter\":[{\"marker\":{\"colorbar\":{\"outlinewidth\":0,\"ticks\":\"\"}},\"type\":\"scatter\"}],\"scatter3d\":[{\"line\":{\"colorbar\":{\"outlinewidth\":0,\"ticks\":\"\"}},\"marker\":{\"colorbar\":{\"outlinewidth\":0,\"ticks\":\"\"}},\"type\":\"scatter3d\"}],\"scattercarpet\":[{\"marker\":{\"colorbar\":{\"outlinewidth\":0,\"ticks\":\"\"}},\"type\":\"scattercarpet\"}],\"scattergeo\":[{\"marker\":{\"colorbar\":{\"outlinewidth\":0,\"ticks\":\"\"}},\"type\":\"scattergeo\"}],\"scattergl\":[{\"marker\":{\"colorbar\":{\"outlinewidth\":0,\"ticks\":\"\"}},\"type\":\"scattergl\"}],\"scattermapbox\":[{\"marker\":{\"colorbar\":{\"outlinewidth\":0,\"ticks\":\"\"}},\"type\":\"scattermapbox\"}],\"scatterpolar\":[{\"marker\":{\"colorbar\":{\"outlinewidth\":0,\"ticks\":\"\"}},\"type\":\"scatterpolar\"}],\"scatterpolargl\":[{\"marker\":{\"colorbar\":{\"outlinewidth\":0,\"ticks\":\"\"}},\"type\":\"scatterpolargl\"}],\"scatterternary\":[{\"marker\":{\"colorbar\":{\"outlinewidth\":0,\"ticks\":\"\"}},\"type\":\"scatterternary\"}],\"surface\":[{\"colorbar\":{\"outlinewidth\":0,\"ticks\":\"\"},\"colorscale\":[[0.0,\"#0d0887\"],[0.1111111111111111,\"#46039f\"],[0.2222222222222222,\"#7201a8\"],[0.3333333333333333,\"#9c179e\"],[0.4444444444444444,\"#bd3786\"],[0.5555555555555556,\"#d8576b\"],[0.6666666666666666,\"#ed7953\"],[0.7777777777777778,\"#fb9f3a\"],[0.8888888888888888,\"#fdca26\"],[1.0,\"#f0f921\"]],\"type\":\"surface\"}],\"table\":[{\"cells\":{\"fill\":{\"color\":\"#EBF0F8\"},\"line\":{\"color\":\"white\"}},\"header\":{\"fill\":{\"color\":\"#C8D4E3\"},\"line\":{\"color\":\"white\"}},\"type\":\"table\"}]},\"layout\":{\"annotationdefaults\":{\"arrowcolor\":\"#2a3f5f\",\"arrowhead\":0,\"arrowwidth\":1},\"autotypenumbers\":\"strict\",\"coloraxis\":{\"colorbar\":{\"outlinewidth\":0,\"ticks\":\"\"}},\"colorscale\":{\"diverging\":[[0,\"#8e0152\"],[0.1,\"#c51b7d\"],[0.2,\"#de77ae\"],[0.3,\"#f1b6da\"],[0.4,\"#fde0ef\"],[0.5,\"#f7f7f7\"],[0.6,\"#e6f5d0\"],[0.7,\"#b8e186\"],[0.8,\"#7fbc41\"],[0.9,\"#4d9221\"],[1,\"#276419\"]],\"sequential\":[[0.0,\"#0d0887\"],[0.1111111111111111,\"#46039f\"],[0.2222222222222222,\"#7201a8\"],[0.3333333333333333,\"#9c179e\"],[0.4444444444444444,\"#bd3786\"],[0.5555555555555556,\"#d8576b\"],[0.6666666666666666,\"#ed7953\"],[0.7777777777777778,\"#fb9f3a\"],[0.8888888888888888,\"#fdca26\"],[1.0,\"#f0f921\"]],\"sequentialminus\":[[0.0,\"#0d0887\"],[0.1111111111111111,\"#46039f\"],[0.2222222222222222,\"#7201a8\"],[0.3333333333333333,\"#9c179e\"],[0.4444444444444444,\"#bd3786\"],[0.5555555555555556,\"#d8576b\"],[0.6666666666666666,\"#ed7953\"],[0.7777777777777778,\"#fb9f3a\"],[0.8888888888888888,\"#fdca26\"],[1.0,\"#f0f921\"]]},\"colorway\":[\"#636efa\",\"#EF553B\",\"#00cc96\",\"#ab63fa\",\"#FFA15A\",\"#19d3f3\",\"#FF6692\",\"#B6E880\",\"#FF97FF\",\"#FECB52\"],\"font\":{\"color\":\"#2a3f5f\"},\"geo\":{\"bgcolor\":\"white\",\"lakecolor\":\"white\",\"landcolor\":\"#E5ECF6\",\"showlakes\":true,\"showland\":true,\"subunitcolor\":\"white\"},\"hoverlabel\":{\"align\":\"left\"},\"hovermode\":\"closest\",\"mapbox\":{\"style\":\"light\"},\"paper_bgcolor\":\"white\",\"plot_bgcolor\":\"#E5ECF6\",\"polar\":{\"angularaxis\":{\"gridcolor\":\"white\",\"linecolor\":\"white\",\"ticks\":\"\"},\"bgcolor\":\"#E5ECF6\",\"radialaxis\":{\"gridcolor\":\"white\",\"linecolor\":\"white\",\"ticks\":\"\"}},\"scene\":{\"xaxis\":{\"backgroundcolor\":\"#E5ECF6\",\"gridcolor\":\"white\",\"gridwidth\":2,\"linecolor\":\"white\",\"showbackground\":true,\"ticks\":\"\",\"zerolinecolor\":\"white\"},\"yaxis\":{\"backgroundcolor\":\"#E5ECF6\",\"gridcolor\":\"white\",\"gridwidth\":2,\"linecolor\":\"white\",\"showbackground\":true,\"ticks\":\"\",\"zerolinecolor\":\"white\"},\"zaxis\":{\"backgroundcolor\":\"#E5ECF6\",\"gridcolor\":\"white\",\"gridwidth\":2,\"linecolor\":\"white\",\"showbackground\":true,\"ticks\":\"\",\"zerolinecolor\":\"white\"}},\"shapedefaults\":{\"line\":{\"color\":\"#2a3f5f\"}},\"ternary\":{\"aaxis\":{\"gridcolor\":\"white\",\"linecolor\":\"white\",\"ticks\":\"\"},\"baxis\":{\"gridcolor\":\"white\",\"linecolor\":\"white\",\"ticks\":\"\"},\"bgcolor\":\"#E5ECF6\",\"caxis\":{\"gridcolor\":\"white\",\"linecolor\":\"white\",\"ticks\":\"\"}},\"title\":{\"x\":0.05},\"xaxis\":{\"automargin\":true,\"gridcolor\":\"white\",\"linecolor\":\"white\",\"ticks\":\"\",\"title\":{\"standoff\":15},\"zerolinecolor\":\"white\",\"zerolinewidth\":2},\"yaxis\":{\"automargin\":true,\"gridcolor\":\"white\",\"linecolor\":\"white\",\"ticks\":\"\",\"title\":{\"standoff\":15},\"zerolinecolor\":\"white\",\"zerolinewidth\":2}}},\"title\":{\"text\":\"TOP VENDAS DE PRODUTO POR CATEGORIA\"},\"xaxis\":{\"gridcolor\":\"white\",\"ticklen\":5,\"title\":{\"text\":\"RANK\"},\"zeroline\":false,\"zerolinewidth\":1},\"yaxis\":{\"gridcolor\":\"white\",\"ticklen\":5,\"title\":{\"text\":\"VENDAS\"},\"zeroline\":false,\"zerolinewidth\":1}},                        {\"responsive\": true}                    ).then(function(){\n",
       "                            \n",
       "var gd = document.getElementById('2b046948-b6a5-4cf5-891f-682d79782d07');\n",
       "var x = new MutationObserver(function (mutations, observer) {{\n",
       "        var display = window.getComputedStyle(gd).display;\n",
       "        if (!display || display === 'none') {{\n",
       "            console.log([gd, 'removed!']);\n",
       "            Plotly.purge(gd);\n",
       "            observer.disconnect();\n",
       "        }}\n",
       "}});\n",
       "\n",
       "// Listen for the removal of the full notebook cells\n",
       "var notebookContainer = gd.closest('#notebook-container');\n",
       "if (notebookContainer) {{\n",
       "    x.observe(notebookContainer, {childList: true});\n",
       "}}\n",
       "\n",
       "// Listen for the clearing of the current output cell\n",
       "var outputEl = gd.closest('.output');\n",
       "if (outputEl) {{\n",
       "    x.observe(outputEl, {childList: true});\n",
       "}}\n",
       "\n",
       "                        })                };                });            </script>        </div>"
      ]
     },
     "metadata": {},
     "output_type": "display_data"
    }
   ],
   "source": [
    "linha1 = go.Scatter(\n",
    "                    x = dfVendas_AccessoriesRank.RANK_VENDAS,\n",
    "                    y = dfVendas_AccessoriesRank.VENDAS,\n",
    "                    mode = \"markers\",\n",
    "                    name = \"Accessories\",\n",
    "                    marker = dict(color = 'rgba(28, 149, 249, 0.8)',size=8),\n",
    "                    text= [f'PRODUTO: {string1}<br>PAIS: {string2}'\n",
    "                           for string1, string2, in zip(dfVendas_AccessoriesRank['PRODUTO'], dfVendas_AccessoriesRank['PAIS'])])\n",
    "\n",
    "linha2 = go.Scatter(\n",
    "                    x = dfVendas_CleanBikes.RANK_VENDAS,\n",
    "                    y = dfVendas_CleanBikes.VENDAS,\n",
    "                    mode = \"markers\",\n",
    "                    name = \"Bikes\",\n",
    "                    marker = dict(color = 'rgba(249, 94, 28, 0.8)',size=8),\n",
    "                    text= [f'PRODUTO: {string1}<br>PAIS: {string2}'\n",
    "                           for string1, string2, in zip(dfVendas_CleanBikes['PRODUTO'], dfVendas_CleanBikes['PAIS'])])\n",
    "\n",
    "linha3 = go.Scatter(\n",
    "                    x = dfVendas_ClothingRank.RANK_VENDAS,\n",
    "                    y = dfVendas_ClothingRank.VENDAS,\n",
    "                    mode = \"markers\",\n",
    "                    name = \"Clothing\",\n",
    "                    marker = dict(color = 'rgba(150, 26, 80, 0.8)',size=8),\n",
    "                    text= [f'PRODUTO: {string1}<br>PAIS: {string2}'\n",
    "                           for string1, string2, in zip(dfVendas_ClothingRank['PRODUTO'], dfVendas_ClothingRank['PAIS'])])\n",
    "                    \n",
    "\n",
    "data = [linha1, linha2, linha3]\n",
    "    \n",
    "layout = dict(title = 'TOP VENDAS DE PRODUTO POR CATEGORIA',\n",
    "              xaxis= dict(title= 'RANK',ticklen= 5,zeroline= False,zerolinewidth=1,gridcolor=\"white\"),\n",
    "              yaxis= dict(title= 'VENDAS',ticklen= 5,zeroline= False,zerolinewidth=1,gridcolor=\"white\",),\n",
    "              paper_bgcolor='rgb(243, 243, 243)',\n",
    "              plot_bgcolor='rgb(243, 243, 243)' )\n",
    "    \n",
    "fig = go.Figure(dict(data = data, layout = layout))\n",
    "iplot(fig)"
   ]
  },
  {
   "cell_type": "code",
   "execution_count": 53,
   "id": "0f7ac1a1-5103-4fa2-bd28-323f0616b293",
   "metadata": {},
   "outputs": [
    {
     "data": {
      "text/html": [
       "<div>\n",
       "<style scoped>\n",
       "    .dataframe tbody tr th:only-of-type {\n",
       "        vertical-align: middle;\n",
       "    }\n",
       "\n",
       "    .dataframe tbody tr th {\n",
       "        vertical-align: top;\n",
       "    }\n",
       "\n",
       "    .dataframe thead th {\n",
       "        text-align: right;\n",
       "    }\n",
       "</style>\n",
       "<table border=\"1\" class=\"dataframe\">\n",
       "  <thead>\n",
       "    <tr style=\"text-align: right;\">\n",
       "      <th></th>\n",
       "      <th>ANO</th>\n",
       "      <th>PRODUTO</th>\n",
       "      <th>CATEGORIA</th>\n",
       "      <th>PAIS</th>\n",
       "      <th>REGIAO</th>\n",
       "      <th>VENDAS</th>\n",
       "      <th>VENDAS_CONVERTIDO</th>\n",
       "      <th>RANK</th>\n",
       "    </tr>\n",
       "  </thead>\n",
       "  <tbody>\n",
       "    <tr>\n",
       "      <th>262</th>\n",
       "      <td>2013</td>\n",
       "      <td>Fender Set - Mountain</td>\n",
       "      <td>Accessories</td>\n",
       "      <td>Germany</td>\n",
       "      <td>Europe</td>\n",
       "      <td>3406.90</td>\n",
       "      <td>3.40690</td>\n",
       "      <td>76.0</td>\n",
       "    </tr>\n",
       "    <tr>\n",
       "      <th>200</th>\n",
       "      <td>2013</td>\n",
       "      <td>Touring Tire</td>\n",
       "      <td>Accessories</td>\n",
       "      <td>Germany</td>\n",
       "      <td>Europe</td>\n",
       "      <td>3304.86</td>\n",
       "      <td>3.30486</td>\n",
       "      <td>77.0</td>\n",
       "    </tr>\n",
       "    <tr>\n",
       "      <th>624</th>\n",
       "      <td>2013</td>\n",
       "      <td>All-Purpose Bike Stand</td>\n",
       "      <td>Accessories</td>\n",
       "      <td>Germany</td>\n",
       "      <td>Europe</td>\n",
       "      <td>3180.00</td>\n",
       "      <td>3.18000</td>\n",
       "      <td>78.0</td>\n",
       "    </tr>\n",
       "    <tr>\n",
       "      <th>242</th>\n",
       "      <td>2013</td>\n",
       "      <td>LL Road Tire</td>\n",
       "      <td>Accessories</td>\n",
       "      <td>Germany</td>\n",
       "      <td>Europe</td>\n",
       "      <td>3094.56</td>\n",
       "      <td>3.09456</td>\n",
       "      <td>79.0</td>\n",
       "    </tr>\n",
       "    <tr>\n",
       "      <th>378</th>\n",
       "      <td>2013</td>\n",
       "      <td>Hitch Rack - 4-Bike</td>\n",
       "      <td>Accessories</td>\n",
       "      <td>France</td>\n",
       "      <td>Europe</td>\n",
       "      <td>2880.00</td>\n",
       "      <td>2.88000</td>\n",
       "      <td>80.0</td>\n",
       "    </tr>\n",
       "    <tr>\n",
       "      <th>...</th>\n",
       "      <td>...</td>\n",
       "      <td>...</td>\n",
       "      <td>...</td>\n",
       "      <td>...</td>\n",
       "      <td>...</td>\n",
       "      <td>...</td>\n",
       "      <td>...</td>\n",
       "      <td>...</td>\n",
       "    </tr>\n",
       "    <tr>\n",
       "      <th>376</th>\n",
       "      <td>2014</td>\n",
       "      <td>Women's Mountain Shorts, S</td>\n",
       "      <td>Clothing</td>\n",
       "      <td>Canada</td>\n",
       "      <td>North America</td>\n",
       "      <td>139.98</td>\n",
       "      <td>0.13998</td>\n",
       "      <td>222.0</td>\n",
       "    </tr>\n",
       "    <tr>\n",
       "      <th>419</th>\n",
       "      <td>2013</td>\n",
       "      <td>Women's Mountain Shorts, M</td>\n",
       "      <td>Clothing</td>\n",
       "      <td>Germany</td>\n",
       "      <td>Europe</td>\n",
       "      <td>139.98</td>\n",
       "      <td>0.13998</td>\n",
       "      <td>222.0</td>\n",
       "    </tr>\n",
       "    <tr>\n",
       "      <th>101</th>\n",
       "      <td>2014</td>\n",
       "      <td>Classic Vest, L</td>\n",
       "      <td>Clothing</td>\n",
       "      <td>United States</td>\n",
       "      <td>North America</td>\n",
       "      <td>127.00</td>\n",
       "      <td>0.12700</td>\n",
       "      <td>225.0</td>\n",
       "    </tr>\n",
       "    <tr>\n",
       "      <th>164</th>\n",
       "      <td>2014</td>\n",
       "      <td>Classic Vest, M</td>\n",
       "      <td>Clothing</td>\n",
       "      <td>United Kingdom</td>\n",
       "      <td>Europe</td>\n",
       "      <td>127.00</td>\n",
       "      <td>0.12700</td>\n",
       "      <td>225.0</td>\n",
       "    </tr>\n",
       "    <tr>\n",
       "      <th>323</th>\n",
       "      <td>2014</td>\n",
       "      <td>Classic Vest, M</td>\n",
       "      <td>Clothing</td>\n",
       "      <td>Canada</td>\n",
       "      <td>North America</td>\n",
       "      <td>127.00</td>\n",
       "      <td>0.12700</td>\n",
       "      <td>225.0</td>\n",
       "    </tr>\n",
       "  </tbody>\n",
       "</table>\n",
       "<p>225 rows × 8 columns</p>\n",
       "</div>"
      ],
      "text/plain": [
       "      ANO                     PRODUTO    CATEGORIA            PAIS  \\\n",
       "262  2013       Fender Set - Mountain  Accessories         Germany   \n",
       "200  2013                Touring Tire  Accessories         Germany   \n",
       "624  2013      All-Purpose Bike Stand  Accessories         Germany   \n",
       "242  2013                LL Road Tire  Accessories         Germany   \n",
       "378  2013         Hitch Rack - 4-Bike  Accessories          France   \n",
       "..    ...                         ...          ...             ...   \n",
       "376  2014  Women's Mountain Shorts, S     Clothing          Canada   \n",
       "419  2013  Women's Mountain Shorts, M     Clothing         Germany   \n",
       "101  2014             Classic Vest, L     Clothing   United States   \n",
       "164  2014             Classic Vest, M     Clothing  United Kingdom   \n",
       "323  2014             Classic Vest, M     Clothing          Canada   \n",
       "\n",
       "            REGIAO   VENDAS  VENDAS_CONVERTIDO   RANK  \n",
       "262         Europe  3406.90            3.40690   76.0  \n",
       "200         Europe  3304.86            3.30486   77.0  \n",
       "624         Europe  3180.00            3.18000   78.0  \n",
       "242         Europe  3094.56            3.09456   79.0  \n",
       "378         Europe  2880.00            2.88000   80.0  \n",
       "..             ...      ...                ...    ...  \n",
       "376  North America   139.98            0.13998  222.0  \n",
       "419         Europe   139.98            0.13998  222.0  \n",
       "101  North America   127.00            0.12700  225.0  \n",
       "164         Europe   127.00            0.12700  225.0  \n",
       "323  North America   127.00            0.12700  225.0  \n",
       "\n",
       "[225 rows x 8 columns]"
      ]
     },
     "execution_count": 53,
     "metadata": {},
     "output_type": "execute_result"
    }
   ],
   "source": [
    "dfVendasCopy = dfVendas_Clean\n",
    "dfVendasCopy['VENDAS_CONVERTIDO'] = dfVendasCopy['VENDAS'] /1000 #valor para gerar as cores\n",
    "\n",
    "dfVendasCopy['RANK'] = dfVendasCopy['VENDAS'].rank(ascending=False, method='max')\n",
    "\n",
    "dfVendasCopy"
   ]
  },
  {
   "cell_type": "code",
   "execution_count": 54,
   "id": "42f714c0-7ebf-4de3-bacf-ce0f849f51b8",
   "metadata": {},
   "outputs": [],
   "source": [
    "markVendas = dfVendasCopy['VENDAS'] > 50000 # pegar vendas superiores a 50 k\n",
    "\n",
    "dfVendas_50k = dfVendasCopy[markVendas]"
   ]
  },
  {
   "cell_type": "code",
   "execution_count": 73,
   "id": "d30a3da8-be70-44a4-8f78-76eeaa117dd3",
   "metadata": {},
   "outputs": [
    {
     "data": {
      "application/vnd.plotly.v1+json": {
       "config": {
        "linkText": "Export to plot.ly",
        "plotlyServerURL": "https://plot.ly",
        "showLink": false
       },
       "data": [
        {
         "marker": {
          "color": [
           113.67951,
           108.86336,
           107.7138192,
           105.89097,
           105.56953999999999,
           103.27455,
           102.07956,
           98.6026054,
           96.5535072,
           96.38958,
           95.11959,
           90.59466,
           90.47961,
           89.50461,
           88.15961999999999,
           85.15724,
           85.0809375,
           84.03675,
           80.32464999999999,
           78.53625,
           78.29855,
           73.95233999999999,
           72.89864999999999,
           72.25335000000001,
           70.85714999999999,
           70.73869,
           64.98842,
           63.86793,
           62.936629999999994,
           61.19982,
           58.6404,
           56.720625,
           56.197050000000004,
           54.43168,
           53.753699999999995,
           53.67405,
           53.094809999999995,
           52.6192875,
           52.37903,
           51.31035,
           51.31035,
           51.31035,
           51.0297,
           51.0237,
           50.624849999999995
          ],
          "colorscale": [
           [
            0,
            "rgb(0, 0, 0)"
           ],
           [
            0.25,
            "rgb(230,0,0)"
           ],
           [
            0.5,
            "rgb(230,210,0)"
           ],
           [
            0.75,
            "rgb(255,255,255)"
           ],
           [
            1,
            "rgb(160,200,255)"
           ]
          ],
          "showscale": true,
          "size": [
           113.67951,
           108.86336,
           107.7138192,
           105.89097,
           105.56953999999999,
           103.27455,
           102.07956,
           98.6026054,
           96.5535072,
           96.38958,
           95.11959,
           90.59466,
           90.47961,
           89.50461,
           88.15961999999999,
           85.15724,
           85.0809375,
           84.03675,
           80.32464999999999,
           78.53625,
           78.29855,
           73.95233999999999,
           72.89864999999999,
           72.25335000000001,
           70.85714999999999,
           70.73869,
           64.98842,
           63.86793,
           62.936629999999994,
           61.19982,
           58.6404,
           56.720625,
           56.197050000000004,
           54.43168,
           53.753699999999995,
           53.67405,
           53.094809999999995,
           52.6192875,
           52.37903,
           51.31035,
           51.31035,
           51.31035,
           51.0297,
           51.0237,
           50.624849999999995
          ]
         },
         "mode": "markers",
         "text": [
          "Produto: Mountain-200 Silver, 38, Categoria: Bikes",
          "Produto: Road-350-W Yellow, 48, Categoria: Bikes",
          "Produto: Mountain-200 Silver, 42, Categoria: Bikes",
          "Produto: Mountain-200 Silver, 38, Categoria: Bikes",
          "Produto: Mountain-200 Black, 46, Categoria: Bikes",
          "Produto: Mountain-200 Black, 38, Categoria: Bikes",
          "Produto: Mountain-200 Silver, 46, Categoria: Bikes",
          "Produto: Mountain-200 Black, 38, Categoria: Bikes",
          "Produto: Mountain-200 Black, 42, Categoria: Bikes",
          "Produto: Mountain-200 Black, 38, Categoria: Bikes",
          "Produto: Mountain-200 Silver, 42, Categoria: Bikes",
          "Produto: Touring-1000 Yellow, 60, Categoria: Bikes",
          "Produto: Mountain-200 Silver, 42, Categoria: Bikes",
          "Produto: Mountain-200 Black, 42, Categoria: Bikes",
          "Produto: Mountain-200 Silver, 38, Categoria: Bikes",
          "Produto: Road-550-W Yellow, 42, Categoria: Bikes",
          "Produto: Road-250 Black, 48, Categoria: Bikes",
          "Produto: Road-550-W Yellow, 44, Categoria: Bikes",
          "Produto: Mountain-200 Black, 42, Categoria: Bikes",
          "Produto: Road-250 Red, 58, Categoria: Bikes",
          "Produto: Road-750 Black, 44, Categoria: Bikes",
          "Produto: Road-550-W Yellow, 48, Categoria: Bikes",
          "Produto: Road-750 Black, 48, Categoria: Bikes",
          "Produto: Road-250 Black, 52, Categoria: Bikes",
          "Produto: Road-250 Red, 48, Categoria: Bikes",
          "Produto: Road-750 Black, 52, Categoria: Bikes",
          "Produto: Road-550-W Yellow, 38, Categoria: Bikes",
          "Produto: Road-550-W Yellow, 40, Categoria: Bikes",
          "Produto: Road-350-W Yellow, 40, Categoria: Bikes",
          "Produto: Mountain-100 Silver, 38, Categoria: Bikes",
          "Produto: Road-250 Black, 44, Categoria: Bikes",
          "Produto: Road-250 Black, 58, Categoria: Bikes",
          "Produto: Road-250 Red, 52, Categoria: Bikes",
          "Produto: Road-350-W Yellow, 48, Categoria: Bikes",
          "Produto: Road-250 Red, 48, Categoria: Bikes",
          "Produto: Road-150 Red, 44, Categoria: Bikes",
          "Produto: Mountain-400-W Silver, 38, Categoria: Bikes",
          "Produto: Road-250 Black, 52, Categoria: Bikes",
          "Produto: Road-750 Black, 58, Categoria: Bikes",
          "Produto: Road-250 Red, 44, Categoria: Bikes",
          "Produto: Road-250 Red, 44, Categoria: Bikes",
          "Produto: Road-250 Red, 44, Categoria: Bikes",
          "Produto: Road-350-W Yellow, 44, Categoria: Bikes",
          "Produto: Touring-2000 Blue, 50, Categoria: Bikes",
          "Produto: Mountain-100 Black, 44, Categoria: Bikes"
         ],
         "type": "scatter",
         "x": [
          1,
          2,
          3,
          4,
          5,
          6,
          7,
          8,
          9,
          10,
          11,
          12,
          13,
          14,
          15,
          16,
          17,
          18,
          19,
          20,
          21,
          22,
          23,
          24,
          25,
          26,
          27,
          28,
          29,
          30,
          31,
          32,
          33,
          34,
          35,
          36,
          37,
          38,
          39,
          42,
          42,
          42,
          43,
          44,
          45
         ],
         "y": [
          2013,
          2013,
          2012,
          2012,
          2013,
          2013,
          2013,
          2012,
          2012,
          2013,
          2013,
          2013,
          2013,
          2013,
          2013,
          2013,
          2012,
          2013,
          2013,
          2012,
          2013,
          2013,
          2013,
          2012,
          2012,
          2013,
          2013,
          2013,
          2013,
          2011,
          2013,
          2012,
          2012,
          2013,
          2012,
          2011,
          2013,
          2012,
          2013,
          2012,
          2012,
          2012,
          2013,
          2013,
          2011
         ]
        }
       ],
       "layout": {
        "autosize": true,
        "paper_bgcolor": "rgb(243, 243, 243)",
        "plot_bgcolor": "rgb(243, 243, 243)",
        "template": {
         "data": {
          "bar": [
           {
            "error_x": {
             "color": "#2a3f5f"
            },
            "error_y": {
             "color": "#2a3f5f"
            },
            "marker": {
             "line": {
              "color": "#E5ECF6",
              "width": 0.5
             },
             "pattern": {
              "fillmode": "overlay",
              "size": 10,
              "solidity": 0.2
             }
            },
            "type": "bar"
           }
          ],
          "barpolar": [
           {
            "marker": {
             "line": {
              "color": "#E5ECF6",
              "width": 0.5
             },
             "pattern": {
              "fillmode": "overlay",
              "size": 10,
              "solidity": 0.2
             }
            },
            "type": "barpolar"
           }
          ],
          "carpet": [
           {
            "aaxis": {
             "endlinecolor": "#2a3f5f",
             "gridcolor": "white",
             "linecolor": "white",
             "minorgridcolor": "white",
             "startlinecolor": "#2a3f5f"
            },
            "baxis": {
             "endlinecolor": "#2a3f5f",
             "gridcolor": "white",
             "linecolor": "white",
             "minorgridcolor": "white",
             "startlinecolor": "#2a3f5f"
            },
            "type": "carpet"
           }
          ],
          "choropleth": [
           {
            "colorbar": {
             "outlinewidth": 0,
             "ticks": ""
            },
            "type": "choropleth"
           }
          ],
          "contour": [
           {
            "colorbar": {
             "outlinewidth": 0,
             "ticks": ""
            },
            "colorscale": [
             [
              0,
              "#0d0887"
             ],
             [
              0.1111111111111111,
              "#46039f"
             ],
             [
              0.2222222222222222,
              "#7201a8"
             ],
             [
              0.3333333333333333,
              "#9c179e"
             ],
             [
              0.4444444444444444,
              "#bd3786"
             ],
             [
              0.5555555555555556,
              "#d8576b"
             ],
             [
              0.6666666666666666,
              "#ed7953"
             ],
             [
              0.7777777777777778,
              "#fb9f3a"
             ],
             [
              0.8888888888888888,
              "#fdca26"
             ],
             [
              1,
              "#f0f921"
             ]
            ],
            "type": "contour"
           }
          ],
          "contourcarpet": [
           {
            "colorbar": {
             "outlinewidth": 0,
             "ticks": ""
            },
            "type": "contourcarpet"
           }
          ],
          "heatmap": [
           {
            "colorbar": {
             "outlinewidth": 0,
             "ticks": ""
            },
            "colorscale": [
             [
              0,
              "#0d0887"
             ],
             [
              0.1111111111111111,
              "#46039f"
             ],
             [
              0.2222222222222222,
              "#7201a8"
             ],
             [
              0.3333333333333333,
              "#9c179e"
             ],
             [
              0.4444444444444444,
              "#bd3786"
             ],
             [
              0.5555555555555556,
              "#d8576b"
             ],
             [
              0.6666666666666666,
              "#ed7953"
             ],
             [
              0.7777777777777778,
              "#fb9f3a"
             ],
             [
              0.8888888888888888,
              "#fdca26"
             ],
             [
              1,
              "#f0f921"
             ]
            ],
            "type": "heatmap"
           }
          ],
          "heatmapgl": [
           {
            "colorbar": {
             "outlinewidth": 0,
             "ticks": ""
            },
            "colorscale": [
             [
              0,
              "#0d0887"
             ],
             [
              0.1111111111111111,
              "#46039f"
             ],
             [
              0.2222222222222222,
              "#7201a8"
             ],
             [
              0.3333333333333333,
              "#9c179e"
             ],
             [
              0.4444444444444444,
              "#bd3786"
             ],
             [
              0.5555555555555556,
              "#d8576b"
             ],
             [
              0.6666666666666666,
              "#ed7953"
             ],
             [
              0.7777777777777778,
              "#fb9f3a"
             ],
             [
              0.8888888888888888,
              "#fdca26"
             ],
             [
              1,
              "#f0f921"
             ]
            ],
            "type": "heatmapgl"
           }
          ],
          "histogram": [
           {
            "marker": {
             "pattern": {
              "fillmode": "overlay",
              "size": 10,
              "solidity": 0.2
             }
            },
            "type": "histogram"
           }
          ],
          "histogram2d": [
           {
            "colorbar": {
             "outlinewidth": 0,
             "ticks": ""
            },
            "colorscale": [
             [
              0,
              "#0d0887"
             ],
             [
              0.1111111111111111,
              "#46039f"
             ],
             [
              0.2222222222222222,
              "#7201a8"
             ],
             [
              0.3333333333333333,
              "#9c179e"
             ],
             [
              0.4444444444444444,
              "#bd3786"
             ],
             [
              0.5555555555555556,
              "#d8576b"
             ],
             [
              0.6666666666666666,
              "#ed7953"
             ],
             [
              0.7777777777777778,
              "#fb9f3a"
             ],
             [
              0.8888888888888888,
              "#fdca26"
             ],
             [
              1,
              "#f0f921"
             ]
            ],
            "type": "histogram2d"
           }
          ],
          "histogram2dcontour": [
           {
            "colorbar": {
             "outlinewidth": 0,
             "ticks": ""
            },
            "colorscale": [
             [
              0,
              "#0d0887"
             ],
             [
              0.1111111111111111,
              "#46039f"
             ],
             [
              0.2222222222222222,
              "#7201a8"
             ],
             [
              0.3333333333333333,
              "#9c179e"
             ],
             [
              0.4444444444444444,
              "#bd3786"
             ],
             [
              0.5555555555555556,
              "#d8576b"
             ],
             [
              0.6666666666666666,
              "#ed7953"
             ],
             [
              0.7777777777777778,
              "#fb9f3a"
             ],
             [
              0.8888888888888888,
              "#fdca26"
             ],
             [
              1,
              "#f0f921"
             ]
            ],
            "type": "histogram2dcontour"
           }
          ],
          "mesh3d": [
           {
            "colorbar": {
             "outlinewidth": 0,
             "ticks": ""
            },
            "type": "mesh3d"
           }
          ],
          "parcoords": [
           {
            "line": {
             "colorbar": {
              "outlinewidth": 0,
              "ticks": ""
             }
            },
            "type": "parcoords"
           }
          ],
          "pie": [
           {
            "automargin": true,
            "type": "pie"
           }
          ],
          "scatter": [
           {
            "marker": {
             "colorbar": {
              "outlinewidth": 0,
              "ticks": ""
             }
            },
            "type": "scatter"
           }
          ],
          "scatter3d": [
           {
            "line": {
             "colorbar": {
              "outlinewidth": 0,
              "ticks": ""
             }
            },
            "marker": {
             "colorbar": {
              "outlinewidth": 0,
              "ticks": ""
             }
            },
            "type": "scatter3d"
           }
          ],
          "scattercarpet": [
           {
            "marker": {
             "colorbar": {
              "outlinewidth": 0,
              "ticks": ""
             }
            },
            "type": "scattercarpet"
           }
          ],
          "scattergeo": [
           {
            "marker": {
             "colorbar": {
              "outlinewidth": 0,
              "ticks": ""
             }
            },
            "type": "scattergeo"
           }
          ],
          "scattergl": [
           {
            "marker": {
             "colorbar": {
              "outlinewidth": 0,
              "ticks": ""
             }
            },
            "type": "scattergl"
           }
          ],
          "scattermapbox": [
           {
            "marker": {
             "colorbar": {
              "outlinewidth": 0,
              "ticks": ""
             }
            },
            "type": "scattermapbox"
           }
          ],
          "scatterpolar": [
           {
            "marker": {
             "colorbar": {
              "outlinewidth": 0,
              "ticks": ""
             }
            },
            "type": "scatterpolar"
           }
          ],
          "scatterpolargl": [
           {
            "marker": {
             "colorbar": {
              "outlinewidth": 0,
              "ticks": ""
             }
            },
            "type": "scatterpolargl"
           }
          ],
          "scatterternary": [
           {
            "marker": {
             "colorbar": {
              "outlinewidth": 0,
              "ticks": ""
             }
            },
            "type": "scatterternary"
           }
          ],
          "surface": [
           {
            "colorbar": {
             "outlinewidth": 0,
             "ticks": ""
            },
            "colorscale": [
             [
              0,
              "#0d0887"
             ],
             [
              0.1111111111111111,
              "#46039f"
             ],
             [
              0.2222222222222222,
              "#7201a8"
             ],
             [
              0.3333333333333333,
              "#9c179e"
             ],
             [
              0.4444444444444444,
              "#bd3786"
             ],
             [
              0.5555555555555556,
              "#d8576b"
             ],
             [
              0.6666666666666666,
              "#ed7953"
             ],
             [
              0.7777777777777778,
              "#fb9f3a"
             ],
             [
              0.8888888888888888,
              "#fdca26"
             ],
             [
              1,
              "#f0f921"
             ]
            ],
            "type": "surface"
           }
          ],
          "table": [
           {
            "cells": {
             "fill": {
              "color": "#EBF0F8"
             },
             "line": {
              "color": "white"
             }
            },
            "header": {
             "fill": {
              "color": "#C8D4E3"
             },
             "line": {
              "color": "white"
             }
            },
            "type": "table"
           }
          ]
         },
         "layout": {
          "annotationdefaults": {
           "arrowcolor": "#2a3f5f",
           "arrowhead": 0,
           "arrowwidth": 1
          },
          "autotypenumbers": "strict",
          "coloraxis": {
           "colorbar": {
            "outlinewidth": 0,
            "ticks": ""
           }
          },
          "colorscale": {
           "diverging": [
            [
             0,
             "#8e0152"
            ],
            [
             0.1,
             "#c51b7d"
            ],
            [
             0.2,
             "#de77ae"
            ],
            [
             0.3,
             "#f1b6da"
            ],
            [
             0.4,
             "#fde0ef"
            ],
            [
             0.5,
             "#f7f7f7"
            ],
            [
             0.6,
             "#e6f5d0"
            ],
            [
             0.7,
             "#b8e186"
            ],
            [
             0.8,
             "#7fbc41"
            ],
            [
             0.9,
             "#4d9221"
            ],
            [
             1,
             "#276419"
            ]
           ],
           "sequential": [
            [
             0,
             "#0d0887"
            ],
            [
             0.1111111111111111,
             "#46039f"
            ],
            [
             0.2222222222222222,
             "#7201a8"
            ],
            [
             0.3333333333333333,
             "#9c179e"
            ],
            [
             0.4444444444444444,
             "#bd3786"
            ],
            [
             0.5555555555555556,
             "#d8576b"
            ],
            [
             0.6666666666666666,
             "#ed7953"
            ],
            [
             0.7777777777777778,
             "#fb9f3a"
            ],
            [
             0.8888888888888888,
             "#fdca26"
            ],
            [
             1,
             "#f0f921"
            ]
           ],
           "sequentialminus": [
            [
             0,
             "#0d0887"
            ],
            [
             0.1111111111111111,
             "#46039f"
            ],
            [
             0.2222222222222222,
             "#7201a8"
            ],
            [
             0.3333333333333333,
             "#9c179e"
            ],
            [
             0.4444444444444444,
             "#bd3786"
            ],
            [
             0.5555555555555556,
             "#d8576b"
            ],
            [
             0.6666666666666666,
             "#ed7953"
            ],
            [
             0.7777777777777778,
             "#fb9f3a"
            ],
            [
             0.8888888888888888,
             "#fdca26"
            ],
            [
             1,
             "#f0f921"
            ]
           ]
          },
          "colorway": [
           "#636efa",
           "#EF553B",
           "#00cc96",
           "#ab63fa",
           "#FFA15A",
           "#19d3f3",
           "#FF6692",
           "#B6E880",
           "#FF97FF",
           "#FECB52"
          ],
          "font": {
           "color": "#2a3f5f"
          },
          "geo": {
           "bgcolor": "white",
           "lakecolor": "white",
           "landcolor": "#E5ECF6",
           "showlakes": true,
           "showland": true,
           "subunitcolor": "white"
          },
          "hoverlabel": {
           "align": "left"
          },
          "hovermode": "closest",
          "mapbox": {
           "style": "light"
          },
          "paper_bgcolor": "white",
          "plot_bgcolor": "#E5ECF6",
          "polar": {
           "angularaxis": {
            "gridcolor": "white",
            "linecolor": "white",
            "ticks": ""
           },
           "bgcolor": "#E5ECF6",
           "radialaxis": {
            "gridcolor": "white",
            "linecolor": "white",
            "ticks": ""
           }
          },
          "scene": {
           "xaxis": {
            "backgroundcolor": "#E5ECF6",
            "gridcolor": "white",
            "gridwidth": 2,
            "linecolor": "white",
            "showbackground": true,
            "ticks": "",
            "zerolinecolor": "white"
           },
           "yaxis": {
            "backgroundcolor": "#E5ECF6",
            "gridcolor": "white",
            "gridwidth": 2,
            "linecolor": "white",
            "showbackground": true,
            "ticks": "",
            "zerolinecolor": "white"
           },
           "zaxis": {
            "backgroundcolor": "#E5ECF6",
            "gridcolor": "white",
            "gridwidth": 2,
            "linecolor": "white",
            "showbackground": true,
            "ticks": "",
            "zerolinecolor": "white"
           }
          },
          "shapedefaults": {
           "line": {
            "color": "#2a3f5f"
           }
          },
          "ternary": {
           "aaxis": {
            "gridcolor": "white",
            "linecolor": "white",
            "ticks": ""
           },
           "baxis": {
            "gridcolor": "white",
            "linecolor": "white",
            "ticks": ""
           },
           "bgcolor": "#E5ECF6",
           "caxis": {
            "gridcolor": "white",
            "linecolor": "white",
            "ticks": ""
           }
          },
          "title": {
           "x": 0.05
          },
          "xaxis": {
           "automargin": true,
           "gridcolor": "white",
           "linecolor": "white",
           "ticks": "",
           "title": {
            "standoff": 15
           },
           "zerolinecolor": "white",
           "zerolinewidth": 2
          },
          "yaxis": {
           "automargin": true,
           "gridcolor": "white",
           "linecolor": "white",
           "ticks": "",
           "title": {
            "standoff": 15
           },
           "zerolinecolor": "white",
           "zerolinewidth": 2
          }
         }
        },
        "title": {
         "text": "Vendas (superiores a 50 k) por Categorias (Ano vs Rank)"
        },
        "xaxis": {
         "autorange": true,
         "gridcolor": "rgb(255, 255, 255)",
         "gridwidth": 2,
         "range": [
          -4.19168288969312,
          48.78113268887006
         ],
         "ticklen": 5,
         "title": {
          "text": "RANK"
         },
         "type": "linear",
         "zerolinewidth": 1
        },
        "yaxis": {
         "autorange": true,
         "gridcolor": "rgb(255, 255, 255)",
         "gridwidth": 2,
         "range": [
          2008.7700456925713,
          2016.3877489683646
         ],
         "ticklen": 5,
         "title": {
          "text": "ANO"
         },
         "type": "linear",
         "zerolinewidth": 1
        }
       }
      },
      "image/png": "[encoded data removed]",
      "text/html": [
       "<div>                            <div id=\"90a62a77-85ad-4ded-b927-fcd411aba914\" class=\"plotly-graph-div\" style=\"height:525px; width:100%;\"></div>            <script type=\"text/javascript\">                require([\"plotly\"], function(Plotly) {                    window.PLOTLYENV=window.PLOTLYENV || {};                                    if (document.getElementById(\"90a62a77-85ad-4ded-b927-fcd411aba914\")) {                    Plotly.newPlot(                        \"90a62a77-85ad-4ded-b927-fcd411aba914\",                        [{\"marker\":{\"color\":[113.67951,108.86336,107.7138192,105.89097,105.56953999999999,103.27455,102.07956,98.6026054,96.5535072,96.38958,95.11959,90.59466,90.47961,89.50461,88.15961999999999,85.15724,85.0809375,84.03675,80.32464999999999,78.53625,78.29855,73.95233999999999,72.89864999999999,72.25335000000001,70.85714999999999,70.73869,64.98842,63.86793,62.936629999999994,61.19982,58.6404,56.720625,56.197050000000004,54.43168,53.753699999999995,53.67405,53.094809999999995,52.6192875,52.37903,51.31035,51.31035,51.31035,51.0297,51.0237,50.624849999999995],\"colorscale\":[[0.0,\"rgb(0,0,0)\"],[0.25,\"rgb(230,0,0)\"],[0.5,\"rgb(230,210,0)\"],[0.75,\"rgb(255,255,255)\"],[1.0,\"rgb(160,200,255)\"]],\"showscale\":true,\"size\":[113.67951,108.86336,107.7138192,105.89097,105.56953999999999,103.27455,102.07956,98.6026054,96.5535072,96.38958,95.11959,90.59466,90.47961,89.50461,88.15961999999999,85.15724,85.0809375,84.03675,80.32464999999999,78.53625,78.29855,73.95233999999999,72.89864999999999,72.25335000000001,70.85714999999999,70.73869,64.98842,63.86793,62.936629999999994,61.19982,58.6404,56.720625,56.197050000000004,54.43168,53.753699999999995,53.67405,53.094809999999995,52.6192875,52.37903,51.31035,51.31035,51.31035,51.0297,51.0237,50.624849999999995]},\"mode\":\"markers\",\"text\":[\"Produto: Mountain-200 Silver, 38, Categoria: Bikes\",\"Produto: Road-350-W Yellow, 48, Categoria: Bikes\",\"Produto: Mountain-200 Silver, 42, Categoria: Bikes\",\"Produto: Mountain-200 Silver, 38, Categoria: Bikes\",\"Produto: Mountain-200 Black, 46, Categoria: Bikes\",\"Produto: Mountain-200 Black, 38, Categoria: Bikes\",\"Produto: Mountain-200 Silver, 46, Categoria: Bikes\",\"Produto: Mountain-200 Black, 38, Categoria: Bikes\",\"Produto: Mountain-200 Black, 42, Categoria: Bikes\",\"Produto: Mountain-200 Black, 38, Categoria: Bikes\",\"Produto: Mountain-200 Silver, 42, Categoria: Bikes\",\"Produto: Touring-1000 Yellow, 60, Categoria: Bikes\",\"Produto: Mountain-200 Silver, 42, Categoria: Bikes\",\"Produto: Mountain-200 Black, 42, Categoria: Bikes\",\"Produto: Mountain-200 Silver, 38, Categoria: Bikes\",\"Produto: Road-550-W Yellow, 42, Categoria: Bikes\",\"Produto: Road-250 Black, 48, Categoria: Bikes\",\"Produto: Road-550-W Yellow, 44, Categoria: Bikes\",\"Produto: Mountain-200 Black, 42, Categoria: Bikes\",\"Produto: Road-250 Red, 58, Categoria: Bikes\",\"Produto: Road-750 Black, 44, Categoria: Bikes\",\"Produto: Road-550-W Yellow, 48, Categoria: Bikes\",\"Produto: Road-750 Black, 48, Categoria: Bikes\",\"Produto: Road-250 Black, 52, Categoria: Bikes\",\"Produto: Road-250 Red, 48, Categoria: Bikes\",\"Produto: Road-750 Black, 52, Categoria: Bikes\",\"Produto: Road-550-W Yellow, 38, Categoria: Bikes\",\"Produto: Road-550-W Yellow, 40, Categoria: Bikes\",\"Produto: Road-350-W Yellow, 40, Categoria: Bikes\",\"Produto: Mountain-100 Silver, 38, Categoria: Bikes\",\"Produto: Road-250 Black, 44, Categoria: Bikes\",\"Produto: Road-250 Black, 58, Categoria: Bikes\",\"Produto: Road-250 Red, 52, Categoria: Bikes\",\"Produto: Road-350-W Yellow, 48, Categoria: Bikes\",\"Produto: Road-250 Red, 48, Categoria: Bikes\",\"Produto: Road-150 Red, 44, Categoria: Bikes\",\"Produto: Mountain-400-W Silver, 38, Categoria: Bikes\",\"Produto: Road-250 Black, 52, Categoria: Bikes\",\"Produto: Road-750 Black, 58, Categoria: Bikes\",\"Produto: Road-250 Red, 44, Categoria: Bikes\",\"Produto: Road-250 Red, 44, Categoria: Bikes\",\"Produto: Road-250 Red, 44, Categoria: Bikes\",\"Produto: Road-350-W Yellow, 44, Categoria: Bikes\",\"Produto: Touring-2000 Blue, 50, Categoria: Bikes\",\"Produto: Mountain-100 Black, 44, Categoria: Bikes\"],\"type\":\"scatter\",\"x\":[1.0,2.0,3.0,4.0,5.0,6.0,7.0,8.0,9.0,10.0,11.0,12.0,13.0,14.0,15.0,16.0,17.0,18.0,19.0,20.0,21.0,22.0,23.0,24.0,25.0,26.0,27.0,28.0,29.0,30.0,31.0,32.0,33.0,34.0,35.0,36.0,37.0,38.0,39.0,42.0,42.0,42.0,43.0,44.0,45.0],\"y\":[2013,2013,2012,2012,2013,2013,2013,2012,2012,2013,2013,2013,2013,2013,2013,2013,2012,2013,2013,2012,2013,2013,2013,2012,2012,2013,2013,2013,2013,2011,2013,2012,2012,2013,2012,2011,2013,2012,2013,2012,2012,2012,2013,2013,2011]}],                        {\"paper_bgcolor\":\"rgb(243, 243, 243)\",\"plot_bgcolor\":\"rgb(243, 243, 243)\",\"template\":{\"data\":{\"bar\":[{\"error_x\":{\"color\":\"#2a3f5f\"},\"error_y\":{\"color\":\"#2a3f5f\"},\"marker\":{\"line\":{\"color\":\"#E5ECF6\",\"width\":0.5},\"pattern\":{\"fillmode\":\"overlay\",\"size\":10,\"solidity\":0.2}},\"type\":\"bar\"}],\"barpolar\":[{\"marker\":{\"line\":{\"color\":\"#E5ECF6\",\"width\":0.5},\"pattern\":{\"fillmode\":\"overlay\",\"size\":10,\"solidity\":0.2}},\"type\":\"barpolar\"}],\"carpet\":[{\"aaxis\":{\"endlinecolor\":\"#2a3f5f\",\"gridcolor\":\"white\",\"linecolor\":\"white\",\"minorgridcolor\":\"white\",\"startlinecolor\":\"#2a3f5f\"},\"baxis\":{\"endlinecolor\":\"#2a3f5f\",\"gridcolor\":\"white\",\"linecolor\":\"white\",\"minorgridcolor\":\"white\",\"startlinecolor\":\"#2a3f5f\"},\"type\":\"carpet\"}],\"choropleth\":[{\"colorbar\":{\"outlinewidth\":0,\"ticks\":\"\"},\"type\":\"choropleth\"}],\"contour\":[{\"colorbar\":{\"outlinewidth\":0,\"ticks\":\"\"},\"colorscale\":[[0.0,\"#0d0887\"],[0.1111111111111111,\"#46039f\"],[0.2222222222222222,\"#7201a8\"],[0.3333333333333333,\"#9c179e\"],[0.4444444444444444,\"#bd3786\"],[0.5555555555555556,\"#d8576b\"],[0.6666666666666666,\"#ed7953\"],[0.7777777777777778,\"#fb9f3a\"],[0.8888888888888888,\"#fdca26\"],[1.0,\"#f0f921\"]],\"type\":\"contour\"}],\"contourcarpet\":[{\"colorbar\":{\"outlinewidth\":0,\"ticks\":\"\"},\"type\":\"contourcarpet\"}],\"heatmap\":[{\"colorbar\":{\"outlinewidth\":0,\"ticks\":\"\"},\"colorscale\":[[0.0,\"#0d0887\"],[0.1111111111111111,\"#46039f\"],[0.2222222222222222,\"#7201a8\"],[0.3333333333333333,\"#9c179e\"],[0.4444444444444444,\"#bd3786\"],[0.5555555555555556,\"#d8576b\"],[0.6666666666666666,\"#ed7953\"],[0.7777777777777778,\"#fb9f3a\"],[0.8888888888888888,\"#fdca26\"],[1.0,\"#f0f921\"]],\"type\":\"heatmap\"}],\"heatmapgl\":[{\"colorbar\":{\"outlinewidth\":0,\"ticks\":\"\"},\"colorscale\":[[0.0,\"#0d0887\"],[0.1111111111111111,\"#46039f\"],[0.2222222222222222,\"#7201a8\"],[0.3333333333333333,\"#9c179e\"],[0.4444444444444444,\"#bd3786\"],[0.5555555555555556,\"#d8576b\"],[0.6666666666666666,\"#ed7953\"],[0.7777777777777778,\"#fb9f3a\"],[0.8888888888888888,\"#fdca26\"],[1.0,\"#f0f921\"]],\"type\":\"heatmapgl\"}],\"histogram\":[{\"marker\":{\"pattern\":{\"fillmode\":\"overlay\",\"size\":10,\"solidity\":0.2}},\"type\":\"histogram\"}],\"histogram2d\":[{\"colorbar\":{\"outlinewidth\":0,\"ticks\":\"\"},\"colorscale\":[[0.0,\"#0d0887\"],[0.1111111111111111,\"#46039f\"],[0.2222222222222222,\"#7201a8\"],[0.3333333333333333,\"#9c179e\"],[0.4444444444444444,\"#bd3786\"],[0.5555555555555556,\"#d8576b\"],[0.6666666666666666,\"#ed7953\"],[0.7777777777777778,\"#fb9f3a\"],[0.8888888888888888,\"#fdca26\"],[1.0,\"#f0f921\"]],\"type\":\"histogram2d\"}],\"histogram2dcontour\":[{\"colorbar\":{\"outlinewidth\":0,\"ticks\":\"\"},\"colorscale\":[[0.0,\"#0d0887\"],[0.1111111111111111,\"#46039f\"],[0.2222222222222222,\"#7201a8\"],[0.3333333333333333,\"#9c179e\"],[0.4444444444444444,\"#bd3786\"],[0.5555555555555556,\"#d8576b\"],[0.6666666666666666,\"#ed7953\"],[0.7777777777777778,\"#fb9f3a\"],[0.8888888888888888,\"#fdca26\"],[1.0,\"#f0f921\"]],\"type\":\"histogram2dcontour\"}],\"mesh3d\":[{\"colorbar\":{\"outlinewidth\":0,\"ticks\":\"\"},\"type\":\"mesh3d\"}],\"parcoords\":[{\"line\":{\"colorbar\":{\"outlinewidth\":0,\"ticks\":\"\"}},\"type\":\"parcoords\"}],\"pie\":[{\"automargin\":true,\"type\":\"pie\"}],\"scatter\":[{\"marker\":{\"colorbar\":{\"outlinewidth\":0,\"ticks\":\"\"}},\"type\":\"scatter\"}],\"scatter3d\":[{\"line\":{\"colorbar\":{\"outlinewidth\":0,\"ticks\":\"\"}},\"marker\":{\"colorbar\":{\"outlinewidth\":0,\"ticks\":\"\"}},\"type\":\"scatter3d\"}],\"scattercarpet\":[{\"marker\":{\"colorbar\":{\"outlinewidth\":0,\"ticks\":\"\"}},\"type\":\"scattercarpet\"}],\"scattergeo\":[{\"marker\":{\"colorbar\":{\"outlinewidth\":0,\"ticks\":\"\"}},\"type\":\"scattergeo\"}],\"scattergl\":[{\"marker\":{\"colorbar\":{\"outlinewidth\":0,\"ticks\":\"\"}},\"type\":\"scattergl\"}],\"scattermapbox\":[{\"marker\":{\"colorbar\":{\"outlinewidth\":0,\"ticks\":\"\"}},\"type\":\"scattermapbox\"}],\"scatterpolar\":[{\"marker\":{\"colorbar\":{\"outlinewidth\":0,\"ticks\":\"\"}},\"type\":\"scatterpolar\"}],\"scatterpolargl\":[{\"marker\":{\"colorbar\":{\"outlinewidth\":0,\"ticks\":\"\"}},\"type\":\"scatterpolargl\"}],\"scatterternary\":[{\"marker\":{\"colorbar\":{\"outlinewidth\":0,\"ticks\":\"\"}},\"type\":\"scatterternary\"}],\"surface\":[{\"colorbar\":{\"outlinewidth\":0,\"ticks\":\"\"},\"colorscale\":[[0.0,\"#0d0887\"],[0.1111111111111111,\"#46039f\"],[0.2222222222222222,\"#7201a8\"],[0.3333333333333333,\"#9c179e\"],[0.4444444444444444,\"#bd3786\"],[0.5555555555555556,\"#d8576b\"],[0.6666666666666666,\"#ed7953\"],[0.7777777777777778,\"#fb9f3a\"],[0.8888888888888888,\"#fdca26\"],[1.0,\"#f0f921\"]],\"type\":\"surface\"}],\"table\":[{\"cells\":{\"fill\":{\"color\":\"#EBF0F8\"},\"line\":{\"color\":\"white\"}},\"header\":{\"fill\":{\"color\":\"#C8D4E3\"},\"line\":{\"color\":\"white\"}},\"type\":\"table\"}]},\"layout\":{\"annotationdefaults\":{\"arrowcolor\":\"#2a3f5f\",\"arrowhead\":0,\"arrowwidth\":1},\"autotypenumbers\":\"strict\",\"coloraxis\":{\"colorbar\":{\"outlinewidth\":0,\"ticks\":\"\"}},\"colorscale\":{\"diverging\":[[0,\"#8e0152\"],[0.1,\"#c51b7d\"],[0.2,\"#de77ae\"],[0.3,\"#f1b6da\"],[0.4,\"#fde0ef\"],[0.5,\"#f7f7f7\"],[0.6,\"#e6f5d0\"],[0.7,\"#b8e186\"],[0.8,\"#7fbc41\"],[0.9,\"#4d9221\"],[1,\"#276419\"]],\"sequential\":[[0.0,\"#0d0887\"],[0.1111111111111111,\"#46039f\"],[0.2222222222222222,\"#7201a8\"],[0.3333333333333333,\"#9c179e\"],[0.4444444444444444,\"#bd3786\"],[0.5555555555555556,\"#d8576b\"],[0.6666666666666666,\"#ed7953\"],[0.7777777777777778,\"#fb9f3a\"],[0.8888888888888888,\"#fdca26\"],[1.0,\"#f0f921\"]],\"sequentialminus\":[[0.0,\"#0d0887\"],[0.1111111111111111,\"#46039f\"],[0.2222222222222222,\"#7201a8\"],[0.3333333333333333,\"#9c179e\"],[0.4444444444444444,\"#bd3786\"],[0.5555555555555556,\"#d8576b\"],[0.6666666666666666,\"#ed7953\"],[0.7777777777777778,\"#fb9f3a\"],[0.8888888888888888,\"#fdca26\"],[1.0,\"#f0f921\"]]},\"colorway\":[\"#636efa\",\"#EF553B\",\"#00cc96\",\"#ab63fa\",\"#FFA15A\",\"#19d3f3\",\"#FF6692\",\"#B6E880\",\"#FF97FF\",\"#FECB52\"],\"font\":{\"color\":\"#2a3f5f\"},\"geo\":{\"bgcolor\":\"white\",\"lakecolor\":\"white\",\"landcolor\":\"#E5ECF6\",\"showlakes\":true,\"showland\":true,\"subunitcolor\":\"white\"},\"hoverlabel\":{\"align\":\"left\"},\"hovermode\":\"closest\",\"mapbox\":{\"style\":\"light\"},\"paper_bgcolor\":\"white\",\"plot_bgcolor\":\"#E5ECF6\",\"polar\":{\"angularaxis\":{\"gridcolor\":\"white\",\"linecolor\":\"white\",\"ticks\":\"\"},\"bgcolor\":\"#E5ECF6\",\"radialaxis\":{\"gridcolor\":\"white\",\"linecolor\":\"white\",\"ticks\":\"\"}},\"scene\":{\"xaxis\":{\"backgroundcolor\":\"#E5ECF6\",\"gridcolor\":\"white\",\"gridwidth\":2,\"linecolor\":\"white\",\"showbackground\":true,\"ticks\":\"\",\"zerolinecolor\":\"white\"},\"yaxis\":{\"backgroundcolor\":\"#E5ECF6\",\"gridcolor\":\"white\",\"gridwidth\":2,\"linecolor\":\"white\",\"showbackground\":true,\"ticks\":\"\",\"zerolinecolor\":\"white\"},\"zaxis\":{\"backgroundcolor\":\"#E5ECF6\",\"gridcolor\":\"white\",\"gridwidth\":2,\"linecolor\":\"white\",\"showbackground\":true,\"ticks\":\"\",\"zerolinecolor\":\"white\"}},\"shapedefaults\":{\"line\":{\"color\":\"#2a3f5f\"}},\"ternary\":{\"aaxis\":{\"gridcolor\":\"white\",\"linecolor\":\"white\",\"ticks\":\"\"},\"baxis\":{\"gridcolor\":\"white\",\"linecolor\":\"white\",\"ticks\":\"\"},\"bgcolor\":\"#E5ECF6\",\"caxis\":{\"gridcolor\":\"white\",\"linecolor\":\"white\",\"ticks\":\"\"}},\"title\":{\"x\":0.05},\"xaxis\":{\"automargin\":true,\"gridcolor\":\"white\",\"linecolor\":\"white\",\"ticks\":\"\",\"title\":{\"standoff\":15},\"zerolinecolor\":\"white\",\"zerolinewidth\":2},\"yaxis\":{\"automargin\":true,\"gridcolor\":\"white\",\"linecolor\":\"white\",\"ticks\":\"\",\"title\":{\"standoff\":15},\"zerolinecolor\":\"white\",\"zerolinewidth\":2}}},\"title\":{\"text\":\"Vendas (superiores a 50 k) por Categorias (Ano vs Rank)\"},\"xaxis\":{\"gridcolor\":\"rgb(255, 255, 255)\",\"gridwidth\":2,\"ticklen\":5,\"title\":{\"text\":\"RANK\"},\"zerolinewidth\":1},\"yaxis\":{\"gridcolor\":\"rgb(255, 255, 255)\",\"gridwidth\":2,\"ticklen\":5,\"title\":{\"text\":\"ANO\"},\"zerolinewidth\":1}},                        {\"responsive\": true}                    ).then(function(){\n",
       "                            \n",
       "var gd = document.getElementById('90a62a77-85ad-4ded-b927-fcd411aba914');\n",
       "var x = new MutationObserver(function (mutations, observer) {{\n",
       "        var display = window.getComputedStyle(gd).display;\n",
       "        if (!display || display === 'none') {{\n",
       "            console.log([gd, 'removed!']);\n",
       "            Plotly.purge(gd);\n",
       "            observer.disconnect();\n",
       "        }}\n",
       "}});\n",
       "\n",
       "// Listen for the removal of the full notebook cells\n",
       "var notebookContainer = gd.closest('#notebook-container');\n",
       "if (notebookContainer) {{\n",
       "    x.observe(notebookContainer, {childList: true});\n",
       "}}\n",
       "\n",
       "// Listen for the clearing of the current output cell\n",
       "var outputEl = gd.closest('.output');\n",
       "if (outputEl) {{\n",
       "    x.observe(outputEl, {childList: true});\n",
       "}}\n",
       "\n",
       "                        })                };                });            </script>        </div>"
      ]
     },
     "metadata": {},
     "output_type": "display_data"
    }
   ],
   "source": [
    "fig2={\n",
    "    \"data\" : [\n",
    "    {\n",
    "        'x': dfVendas_50k.RANK,\n",
    "        'y': dfVendas_50k.ANO,\n",
    "        'mode': 'markers',\n",
    "        'marker': {\n",
    "            \"color\":dfVendas_50k.VENDAS_CONVERTIDO,\n",
    "            'size': dfVendas_50k.VENDAS_CONVERTIDO,\n",
    "            'showscale': True,\n",
    "            \"colorscale\":'Blackbody'\n",
    "        },\n",
    "        \"text\" :  \"Produto: \"+ dfVendas_50k.PRODUTO +\",\"+\" Categoria: \" + dfVendas_50k.CATEGORIA\n",
    "        \n",
    "    },\n",
    "],\n",
    "\"layout\":\n",
    "    {\n",
    "    \"title\":\"Vendas (superiores a 50 k) por Categorias (Ano vs Rank)\",\n",
    "    \"xaxis\":{\n",
    "        \"title\":\"RANK\",\n",
    "        \"gridcolor\":'rgb(255, 255, 255)',\n",
    "        \"zerolinewidth\":1,\n",
    "        \"ticklen\":5,\n",
    "        \"gridwidth\":2,\n",
    "    },\n",
    "    \"yaxis\":{\n",
    "        \"title\":'ANO',\n",
    "        \"gridcolor\":'rgb(255, 255, 255)',\n",
    "        \"zerolinewidth\":1,\n",
    "        \"ticklen\":5,\n",
    "        \"gridwidth\":2,\n",
    "    },\n",
    "    \n",
    "    \"paper_bgcolor\":'rgb(243, 243, 243)',\n",
    "    \"plot_bgcolor\":'rgb(243, 243, 243)'\n",
    "    }}\n",
    "\n",
    "iplot(fig2)"
   ]
  },
  {
   "cell_type": "markdown",
   "id": "9f4ae298-9496-48ad-a090-2871bfd6e46f",
   "metadata": {},
   "source": [
    "### SALVANDO TODOS OS GRAFICOS EM IMG"
   ]
  },
  {
   "cell_type": "code",
   "execution_count": 81,
   "id": "c0e12b8a-247c-48a7-98b0-cd3b6a0d1007",
   "metadata": {},
   "outputs": [],
   "source": [
    "#  diretório de saída para armazenar nossas imagens\n",
    "\n",
    "import os\n",
    "\n",
    "if not os.path.exists(\"Graficos\"):\n",
    "    os.mkdir(\"Graficos\")"
   ]
  },
  {
   "cell_type": "code",
   "execution_count": 82,
   "id": "a9ac2463-3941-4bca-b6db-0c5a0034e440",
   "metadata": {},
   "outputs": [],
   "source": [
    "fig.write_html(\"Graficos/graf_VendasRank.html\")"
   ]
  },
  {
   "cell_type": "code",
   "execution_count": 83,
   "id": "775405ba-f516-4f45-a8b9-95f3ace32ca6",
   "metadata": {},
   "outputs": [],
   "source": [
    "import plotly"
   ]
  },
  {
   "cell_type": "code",
   "execution_count": 84,
   "id": "10f335ea-439a-4d9f-be03-79fc85ffb7c8",
   "metadata": {},
   "outputs": [
    {
     "data": {
      "text/plain": [
       "'Graficos/graf_Top50Rank.html'"
      ]
     },
     "execution_count": 84,
     "metadata": {},
     "output_type": "execute_result"
    }
   ],
   "source": [
    "plotly.offline.plot(fig2, filename='Graficos/graf_Top50Rank.html')"
   ]
  }
 ],
 "metadata": {
  "kernelspec": {
   "display_name": "Python 3",
   "language": "python",
   "name": "python3"
  },
  "language_info": {
   "codemirror_mode": {
    "name": "ipython",
    "version": 3
   },
   "file_extension": ".py",
   "mimetype": "text/x-python",
   "name": "python",
   "nbconvert_exporter": "python",
   "pygments_lexer": "ipython3",
   "version": "3.8.8"
  }
 },
 "nbformat": 4,
 "nbformat_minor": 5
}
